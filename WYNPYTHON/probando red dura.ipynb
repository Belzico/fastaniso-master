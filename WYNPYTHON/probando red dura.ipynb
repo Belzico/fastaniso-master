{
 "cells": [
  {
   "cell_type": "code",
   "execution_count": 1,
   "id": "de3b711a",
   "metadata": {},
   "outputs": [],
   "source": [
    "%reload_ext autoreload\n",
    "%autoreload 2\n",
    "%matplotlib inline"
   ]
  },
  {
   "cell_type": "code",
   "execution_count": 2,
   "id": "b9ce78ad",
   "metadata": {},
   "outputs": [
    {
     "data": {
      "text/plain": [
       "('2021.12.06', '1.11.0+cpu')"
      ]
     },
     "execution_count": 2,
     "metadata": {},
     "output_type": "execute_result"
    }
   ],
   "source": [
    "import numpy as np \n",
    "import matplotlib.pyplot as plt \n",
    "import  nangs \n",
    "import  torch\n",
    "#import cv2\n",
    "import io\n",
    "\n",
    "device = \"cuda\" if torch.cuda.is_available() else \"cpu\"\n",
    "\n",
    "nangs.__version__, torch.__version__"
   ]
  },
  {
   "cell_type": "code",
   "execution_count": 3,
   "id": "467a964e",
   "metadata": {},
   "outputs": [],
   "source": [
    "from nangs import PDE\n",
    "import math\n",
    "\n",
    "K=50\n",
    "\n",
    "class PeronaMalik(PDE):\n",
    "    def computePDELoss(self, inputs, outputs):\n",
    "                \n",
    "        # compute gradients\n",
    "        \n",
    "        # compute first-order derivatives\n",
    "        grads = self.computeGrads(outputs, inputs)\n",
    "        dpdx, dpdy, dpdt = grads[:, 0], grads[:, 1], grads[:, 2]\n",
    "        \n",
    "        # compute second-order derivatives\n",
    "        dp2dx2 = self.computeGrads(dpdx, inputs)[:, 0]        \n",
    "        dp2dy2 = self.computeGrads(dpdy, inputs)[:, 1]\n",
    "        #dudas\n",
    "        dp2dpxdpy=self.computeGrads(dpdx, inputs)[:, 1]\n",
    "        dp2dpydpx=self.computeGrads(dpdy, inputs)[:, 0]\n",
    "        \n",
    "        \n",
    "        # compute loss\n",
    "        #dpdx, dpdy, dpdt = grads[:, 0], grads[:, 1], grads[:, 2]\n",
    "        return {'pde': dpdx*(-2/K**2)*torch.exp(-(    torch.pow(dpdx,2)+torch.pow(dpdy,2))/K**2)  *((dpdx*dp2dx2)+(dpdy*dp2dpydpx))\n",
    "                      -dpdy*(-2/K**2)*torch.exp(-(    torch.pow(dpdx,2)+torch.pow(dpdy,2))/K**2)  *((dpdx*dp2dpxdpy)+(dpdy*dp2dy2))\n",
    "               +torch.exp(  -(    torch.pow(dpdx,2)+torch.pow(dpdy,2))/K**2) * ( dp2dx2+dp2dy2 )-dpdt}\n",
    "    \n",
    "pde = PeronaMalik(inputs=('x', 'y', 't'), outputs='p')"
   ]
  },
  {
   "cell_type": "code",
   "execution_count": 4,
   "id": "e365f335",
   "metadata": {},
   "outputs": [
    {
     "name": "stdout",
     "output_type": "stream",
     "text": [
      "a\n"
     ]
    }
   ],
   "source": [
    "n_samples = 60000\n",
    "print(\"a\")"
   ]
  },
  {
   "cell_type": "code",
   "execution_count": 5,
   "id": "2bf0c819",
   "metadata": {},
   "outputs": [],
   "source": [
    "import torch\n",
    "import random\n",
    "\n",
    "\n",
    "class BaseSampler():\n",
    "    def __init__(self, data, n_samples=1, device=\"cpu\"):\n",
    "        assert isinstance(data, dict), \"you must pass a dict with your data\"\n",
    "        self.device = device\n",
    "        self.data = data\n",
    "        self.vars = tuple(data.keys())\n",
    "        self.n_samples = n_samples\n",
    "\n",
    "    def _sample(self, n_samples=None):\n",
    "        n_samples = n_samples or self.n_samples\n",
    "        sample = self.sample(n_samples)\n",
    "        return torch.stack([\n",
    "            sample[var]\n",
    "            for var in self.vars\n",
    "        ], axis=-1)\n",
    "\n",
    "    def sample(self, n_samples=None):\n",
    "        raise ValueError(\"you must implement this method\")\n",
    "    \n",
    "    \n",
    "\n",
    "\n",
    "\n",
    "class Perona_Sampler(BaseSampler):\n",
    "    def __init__(self, data, n_samples=1, device=\"cpu\"):\n",
    "        super().__init__(data, n_samples, device)\n",
    "        for var, lims in data.items():\n",
    "            if isinstance(lims, list):\n",
    "                assert len(\n",
    "                    lims) == 2, \"you must pass a list with the min and max limits\"\n",
    "            elif isinstance(lims, int) or isinstance(lims, float):\n",
    "                data[var] = [lims, lims]\n",
    "            else:\n",
    "                raise ValueError(\"invalid limits\")\n",
    "\n",
    "    def sample(self, n_samples=None):\n",
    "        n_samples = n_samples or self.n_samples\n",
    "        a={\n",
    "            \n",
    "            var: torch.rand(n_samples, device=self.device) *\n",
    "            (lims[1] - lims[0]) + lims[0]\n",
    "            for var, lims in self.data.items()\n",
    "        }\n",
    "        i=0\n",
    "        b_list=[]\n",
    "        for item in range(n_samples):\n",
    "            b=random.uniform(0,200)\n",
    "            if i<-1:\n",
    "                b_list.append(0)\n",
    "            else:\n",
    "                b_list.append(b)\n",
    "            i+=1\n",
    "            #print(i,b)\n",
    "            \n",
    "        \n",
    "        b_tensor=torch.tensor(b_list,device=self.device)\n",
    "        #for i in b_tensor:\n",
    "        #    b_tensor[i]=b\n",
    "        result={'x':a['x'],'y':a['y'],'t':b_tensor}  \n",
    "        #print(result)\n",
    "        return result\n",
    "    \n",
    "    \n",
    "class Perona_Sampler_Ini(BaseSampler):\n",
    "    def __init__(self, data, n_samples=1, device=\"cpu\"):\n",
    "        super().__init__(data, n_samples, device)\n",
    "        for var, lims in data.items():\n",
    "            if isinstance(lims, list):\n",
    "                assert len(\n",
    "                    lims) == 2, \"you must pass a list with the min and max limits\"\n",
    "            elif isinstance(lims, int) or isinstance(lims, float):\n",
    "                data[var] = [lims, lims]\n",
    "            else:\n",
    "                raise ValueError(\"invalid limits\")\n",
    "\n",
    "    def sample(self, n_samples=None):\n",
    "        n_samples = n_samples or self.n_samples\n",
    "        a={\n",
    "            \n",
    "            var: torch.rand(n_samples, device=self.device) *\n",
    "            (lims[1] - lims[0]) + lims[0]\n",
    "            for var, lims in self.data.items()\n",
    "        }\n",
    "        i=0\n",
    "        b_list=[]\n",
    "        for item in range(n_samples):\n",
    "            b=random.uniform(0,200)\n",
    "            if i<n_samples/5:\n",
    "                b_list.append(0)\n",
    "            else:\n",
    "                b_list.append(b)\n",
    "            i+=1\n",
    "            #print(i,b)\n",
    "            \n",
    "        \n",
    "        b_tensor=torch.tensor(b_list,device=self.device)\n",
    "        #for i in b_tensor:\n",
    "        #    b_tensor[i]=b\n",
    "        result={'x':a['x'],'y':a['y'],'t':b_tensor}  \n",
    "        #print(result)\n",
    "        return result\n"
   ]
  },
  {
   "cell_type": "code",
   "execution_count": 6,
   "id": "c4a021a5",
   "metadata": {},
   "outputs": [
    {
     "name": "stdout",
     "output_type": "stream",
     "text": [
      "a\n"
     ]
    }
   ],
   "source": [
    "# define the sampler\n",
    "\n",
    "#from nangs import RandomSampler\n",
    "\n",
    "sampler = Perona_Sampler({\n",
    "    'x': [0., 200.], \n",
    "    'y': [0., 200.],\n",
    "    't': [0., 200.], \n",
    "}, device=device, n_samples=1000)\n",
    "\n",
    "pde.set_sampler(sampler)\n",
    "print(\"a\")"
   ]
  },
  {
   "cell_type": "code",
   "execution_count": 7,
   "id": "a91a916d",
   "metadata": {},
   "outputs": [],
   "source": [
    "def cero_f(n_samples):\n",
    "    return torch.zeros(n_samples)"
   ]
  },
  {
   "cell_type": "code",
   "execution_count": 8,
   "id": "be0d5bf7",
   "metadata": {},
   "outputs": [],
   "source": [
    "def f_circle(x,y):\n",
    "    z = (x - 100)**2 + (y - 100)**2\n",
    "    for i in range(0,len(z)):\n",
    "        if z[i] <= 800:\n",
    "            z[i] = 30\n",
    "        else: z[i] = 200\n",
    "\n",
    "    return z"
   ]
  },
  {
   "cell_type": "code",
   "execution_count": 9,
   "id": "bcf1cd50",
   "metadata": {},
   "outputs": [],
   "source": [
    "def cart_prod(*args):\n",
    "    grids =np.meshgrid(*args,indexing='ij')\n",
    "    return np.stack(grids,axis=-1).reshape(-1,len(args))"
   ]
  },
  {
   "cell_type": "code",
   "execution_count": 10,
   "id": "d87c32cc",
   "metadata": {},
   "outputs": [
    {
     "data": {
      "text/plain": [
       "<matplotlib.image.AxesImage at 0x2449fdd3670>"
      ]
     },
     "execution_count": 10,
     "metadata": {},
     "output_type": "execute_result"
    },
    {
     "data": {
      "image/png": "[encoded data removed]",
      "text/plain": [
       "<Figure size 432x288 with 1 Axes>"
      ]
     },
     "metadata": {
      "needs_background": "light"
     },
     "output_type": "display_data"
    }
   ],
   "source": [
    "x = np.linspace(0,199,200)\n",
    "\n",
    "grid=cart_prod(x,x)\n",
    "\n",
    "\n",
    "xs, ys= grid[:, 0:1], grid[:,1:2]\n",
    "\n",
    "plt.imshow(f_circle(xs,ys).reshape(200,200))\n"
   ]
  },
  {
   "cell_type": "code",
   "execution_count": 11,
   "id": "209cfc6a",
   "metadata": {},
   "outputs": [
    {
     "name": "stdout",
     "output_type": "stream",
     "text": [
      "a\n"
     ]
    }
   ],
   "source": [
    "from nangs import Dirichlet\n",
    "\n",
    "\n",
    "foto = Dirichlet(\n",
    "    Perona_Sampler_Ini({'x': [0., 200.], 'y': [0., 200.],'t':0}, device=device, n_samples=n_samples), \n",
    "     lambda inputs: {'p' :f_circle(inputs['x'],inputs['y'])},\n",
    "    name=\"foto\"\n",
    ")\n",
    "\n",
    "pde.add_boco(foto)\n",
    "print(\"a\")"
   ]
  },
  {
   "cell_type": "code",
   "execution_count": 12,
   "id": "87687b0a",
   "metadata": {},
   "outputs": [],
   "source": [
    "from torch import nn\n",
    "import torch.nn.functional as F\n",
    "\n",
    "class MLP(torch.nn.Module):\n",
    "    def __init__(self, inputs, outputs, layers, neurons,initial_cirlce):\n",
    "        super().__init__()\n",
    "        self.ndims=inputs\n",
    "        self.ndims_spatial=self.ndims-1\n",
    "        self.domain=[(0,1),(0,1),(0,1)]\n",
    "        self.initial_condition=initial_cirlce\n",
    "        self.log_scale = nn.Parameter(torch.tensor(0.0, requires_grad=True))\n",
    "        \n",
    "        print('inputs')\n",
    "        print(inputs)\n",
    "        print('outputs')\n",
    "        print(outputs)\n",
    "        \n",
    "        self.layer1=nn.Linear(inputs,256)\n",
    "        self.layer2=nn.Linear(256,256)\n",
    "        self.layer3=nn.Linear(256,256)\n",
    "        self.layer4=nn.Linear(256,outputs)\n",
    "        \n",
    "        #self.mlp=\n",
    "    \n",
    "#    def anzatc(self, u, xs):\n",
    "#        \"\"\" Anzatc-transformation of the model-output needed for binding initial and boundary conditions. \"\"\"\n",
    "#        # Get tensor of spatial variables and time-tensor.\n",
    "#       xs_spatial = xs[:, :self.ndims_spatial]\n",
    "#        t = xs[:, self.ndims - 1:self.ndims]\n",
    "#        lower, upper = [lims[0] for lims in self.domain], [lims[1] for lims in self.domain]\n",
    "#        lower_spatial, upper_spatial = [torch.Tensor(lst[:self.ndims_spatial]).reshape(1, -1).float()\n",
    "#                                        for lst in (lower, upper)]\n",
    "#        t0 = lower[-1]\n",
    "\n",
    "#        # Apply transformation to bind the boundary condition.\n",
    "#        #if self.boundary_condition is not None:\n",
    "#        #    u = (u * (torch.prod((xs_spatial - lower_spatial) / (upper_spatial - lower_spatial), dim=1, keepdim=True) *\n",
    "#        #              torch.prod((upper_spatial - xs_spatial) / (upper_spatial - lower_spatial), dim=1, keepdim=True))\n",
    "#        #             + self.boundary_condition)\n",
    "\n",
    "#        # Apply transformation to bind the initial condition.\n",
    "#        if self.initial_condition is not None:\n",
    "#            _xs_spatial = [xs_spatial[:, i] for i in range(xs_spatial.shape[1])]\n",
    "#            u = ((nn.Sigmoid()((t - t0) / torch.exp(self.log_scale)) - .5) * u\n",
    "#                 + self.initial_condition(*_xs_spatial).view(-1, 1))\n",
    "#        return u\n",
    "    \n",
    "    def forward(self, x):\n",
    "        #print(\"x foward\")\n",
    "        #print(np.shape(x))\n",
    "        x1=torch.tan(self.layer1(x))\n",
    "        \n",
    "        #print(\"x1 foward\")\n",
    "        #print(np.shape(x1))\n",
    "        x2=torch.sin(self.layer2(x1))\n",
    "        \n",
    "        #print(\"x2 foward\")\n",
    "        #print(np.shape(x2))\n",
    "        x3=F.relu(self.layer3(x2))\n",
    "        \n",
    "        #print(\"x3 foward\")\n",
    "        #print(np.shape(x3))\n",
    "        x4=self.layer4(x2)\n",
    "        \n",
    "        #print(\"x4 foward\")\n",
    "        #print(np.shape(x4))\n",
    "        return x4 \n",
    "    \n",
    "    "
   ]
  },
  {
   "cell_type": "code",
   "execution_count": 13,
   "id": "f2fc0f82",
   "metadata": {},
   "outputs": [],
   "source": [
    "#import torch\n",
    "\n",
    "\n",
    "#class Sine(torch.nn.Module):\n",
    "#    def __init__(self):\n",
    "#        super().__init__()\n",
    "\n",
    "#    def forward(self, x):\n",
    "#        return torch.sin(x)\n",
    "\n",
    "\n",
    "#def block(i, o):\n",
    "#    fc = torch.nn.Linear(i, o)\n",
    "#    return torch.nn.Sequential(\n",
    "#        Sine(),\n",
    "#        torch.nn.Linear(i, o)\n",
    "#    )\n",
    "\n",
    "\n",
    "#class MLP(torch.nn.Module):\n",
    "#    def __init__(self, inputs, outputs, layers, neurons):\n",
    "#        super().__init__()\n",
    "#        \n",
    "#        fc_in = torch.nn.Linear(inputs, neurons)\n",
    "#        fc_hidden = [\n",
    "#            block(neurons, neurons)\n",
    "#            for layer in range(layers-1)\n",
    "#        ]\n",
    "#        fc_out = block(neurons, outputs)\n",
    "#\n",
    "#        self.mlp = torch.nn.Sequential(\n",
    "#            fc_in,\n",
    "#            *fc_hidden,\n",
    "#            fc_out\n",
    "#        )\n",
    "\n",
    "#    def forward(self, x):\n",
    "#        return self.mlp(x)\n",
    "\n",
    "#---------------------------------------------------------------   \n",
    "    #def anzatc(self, u, xs):\n",
    "    #    \"\"\" Anzatc-transformation of the model-output needed for binding initial and boundary conditions. \"\"\"\n",
    "    #    # Get tensor of spatial variables and time-tensor.\n",
    "    #    xs_spatial = xs[:, :self.ndims_spatial]\n",
    "    #    t = xs[:, self.ndims - 1:self.ndims]\n",
    "    #    lower, upper = [lims[0] for lims in self.domain], [lims[1] for lims in self.domain]\n",
    "    #    lower_spatial, upper_spatial = [torch.Tensor(lst[:self.ndims_spatial]).reshape(1, -1).float()\n",
    "    #                                    for lst in (lower, upper)]\n",
    "    #    t0 = lower[-1]\n",
    "\n",
    "        # Apply transformation to bind the boundary condition.\n",
    "    #    if self.boundary_condition is not None:\n",
    "    #        u = (u * (torch.prod((xs_spatial - lower_spatial) / (upper_spatial - lower_spatial), dim=1, keepdim=True) *\n",
    "    #                  torch.prod((upper_spatial - xs_spatial) / (upper_spatial - lower_spatial), dim=1, keepdim=True))\n",
    "    #                 + self.boundary_condition)\n",
    "\n",
    "        # Apply transformation to bind the initial condition.\n",
    "    #    if self.initial_condition is not None:\n",
    "    #        _xs_spatial = [xs_spatial[:, i] for i in range(xs_spatial.shape[1])]\n",
    "    #        u = ((nn.Sigmoid()((t - t0) / torch.exp(self.log_scale)) - .5) * u\n",
    "    #             + self.initial_condition(*_xs_spatial).view(-1, 1))\n",
    "    #    return u"
   ]
  },
  {
   "cell_type": "code",
   "execution_count": null,
   "id": "b3ea6265",
   "metadata": {},
   "outputs": [
    {
     "name": "stdout",
     "output_type": "stream",
     "text": [
      "3\n",
      "1\n",
      "x\n",
      "y\n",
      "t\n",
      "p\n",
      "inputs\n",
      "3\n",
      "outputs\n",
      "1\n"
     ]
    },
    {
     "name": "stderr",
     "output_type": "stream",
     "text": [
      "{'pde': 0.0505, 'foto': 834.42041}:  86%|████████████████████████████████████▊      | 857/1000 [44:08<07:16,  3.05s/it]"
     ]
    }
   ],
   "source": [
    "# solve\n",
    "\n",
    "#from nangs import MLP\n",
    "\n",
    "LR = 1e-2\n",
    "N_STEPS = 1000\n",
    "NUM_LAYERS = 6\n",
    "NUM_HIDDEN = 256\n",
    "print(len(pde.inputs))\n",
    "print(len(pde.outputs))\n",
    "\n",
    "for item in pde.inputs:\n",
    "    print(item)\n",
    "for item in pde.outputs:\n",
    "    print(item)\n",
    "    \n",
    "    \n",
    "mlp = MLP(len(pde.inputs), len(pde.outputs), NUM_LAYERS, NUM_HIDDEN,f_circle).to(device)\n",
    "optimizer = torch.optim.Adam(mlp.parameters())\n",
    "scheduler = torch.optim.lr_scheduler.OneCycleLR(optimizer, max_lr=LR, pct_start=0.1, div_factor=10, final_div_factor=1, total_steps=N_STEPS)\n",
    "\n",
    "pde.compile(mlp, optimizer, scheduler)\n",
    "%time hist = pde.solve(N_STEPS)"
   ]
  },
  {
   "cell_type": "code",
   "execution_count": null,
   "id": "47f71c82",
   "metadata": {},
   "outputs": [],
   "source": [
    "import pandas as pd \n",
    "\n",
    "df = pd.DataFrame(hist)\n",
    "fig = plt.figure(dpi=100)\n",
    "ax = plt.subplot(1,1,1)\n",
    "ax.set_yscale('log')\n",
    "df.plot(ax=ax, grid=True)"
   ]
  },
  {
   "cell_type": "code",
   "execution_count": 24,
   "id": "f39b9042",
   "metadata": {},
   "outputs": [],
   "source": [
    "x = np.linspace(0,199,200)\n",
    "y = np.linspace(0,199,200)\n",
    "\n",
    "t=0\n",
    "\n",
    "grid=cart_prod(x,y,t)\n",
    "xs, ys= grid[:, 0:1], grid[:,1:2]"
   ]
  },
  {
   "cell_type": "code",
   "execution_count": 25,
   "id": "32f11e7d",
   "metadata": {},
   "outputs": [
    {
     "name": "stdout",
     "output_type": "stream",
     "text": [
      "(200, 200)\n",
      "float64\n"
     ]
    },
    {
     "data": {
      "text/plain": [
       "<matplotlib.image.AxesImage at 0x20bc4538c40>"
      ]
     },
     "execution_count": 25,
     "metadata": {},
     "output_type": "execute_result"
    },
    {
     "data": {
      "image/png": "[encoded data removed]",
      "text/plain": [
       "<Figure size 432x288 with 1 Axes>"
      ]
     },
     "metadata": {
      "needs_background": "light"
     },
     "output_type": "display_data"
    }
   ],
   "source": [
    "print(f_circle(xs,ys).reshape(200,200).shape)\n",
    "print(f_circle(xs,ys).reshape(200,200).dtype)\n",
    "plt.imshow(f_circle(xs,ys).reshape(200,200))\n"
   ]
  },
  {
   "cell_type": "code",
   "execution_count": 26,
   "id": "51139510",
   "metadata": {},
   "outputs": [
    {
     "name": "stdout",
     "output_type": "stream",
     "text": [
      "torch.Size([40000, 1])\n",
      "torch.float32\n"
     ]
    }
   ],
   "source": [
    "\n",
    "X = torch.from_numpy(grid).float().to(device)\n",
    "image_final =  pde.eval(X)\n",
    "\n",
    "xs, ys= grid[:, 0:1], grid[:,1:2]\n",
    "print(image_final.shape)\n",
    "print(image_final.dtype)\n",
    "\n",
    "#plt.imshow(f_circle(xs,ys).reshape(200,200))"
   ]
  },
  {
   "cell_type": "code",
   "execution_count": 27,
   "id": "b21fbda3",
   "metadata": {},
   "outputs": [],
   "source": [
    "imashow=image_final.reshape(200,200)"
   ]
  },
  {
   "cell_type": "code",
   "execution_count": 28,
   "id": "47686ffa",
   "metadata": {},
   "outputs": [],
   "source": [
    "def float_to_int(imashow):\n",
    "    for i in range(len(imashow)):\n",
    "        for j in range (len(imashow)):\n",
    "            imashow[i][j]=int(imashow[i][j])"
   ]
  },
  {
   "cell_type": "code",
   "execution_count": 29,
   "id": "83336b8b",
   "metadata": {},
   "outputs": [
    {
     "data": {
      "text/plain": [
       "<matplotlib.image.AxesImage at 0x20bc45679d0>"
      ]
     },
     "execution_count": 29,
     "metadata": {},
     "output_type": "execute_result"
    },
    {
     "data": {
      "image/png": "[encoded data removed]",
      "text/plain": [
       "<Figure size 432x288 with 1 Axes>"
      ]
     },
     "metadata": {
      "needs_background": "light"
     },
     "output_type": "display_data"
    }
   ],
   "source": [
    "#float_to_int(imashow)\n",
    "plt.imshow(imashow)"
   ]
  },
  {
   "cell_type": "code",
   "execution_count": 22,
   "id": "dc356d14",
   "metadata": {},
   "outputs": [
    {
     "name": "stdout",
     "output_type": "stream",
     "text": [
      "tensor([[189.4071, 190.5378, 192.1863,  ..., 200.7794, 200.8558, 200.9323],\n",
      "        [192.1028, 192.9054, 194.2007,  ..., 200.8908, 200.9615, 201.0352],\n",
      "        [193.0987, 193.8578, 194.6907,  ..., 201.0257, 201.0966, 201.1674],\n",
      "        ...,\n",
      "        [198.9901, 199.5770, 199.8518,  ..., 217.5974, 218.0131, 218.4287],\n",
      "        [199.0198, 199.6068, 199.8882,  ..., 218.1409, 218.5565, 218.9722],\n",
      "        [199.0496, 199.6365, 199.9246,  ..., 218.6835, 219.1000, 219.5157]])\n"
     ]
    }
   ],
   "source": [
    "print(imashow)"
   ]
  },
  {
   "cell_type": "code",
   "execution_count": null,
   "id": "e8af3de5",
   "metadata": {},
   "outputs": [],
   "source": []
  },
  {
   "cell_type": "code",
   "execution_count": null,
   "id": "ebf5493f",
   "metadata": {},
   "outputs": [],
   "source": []
  }
 ],
 "metadata": {
  "kernelspec": {
   "display_name": "Python 3 (ipykernel)",
   "language": "python",
   "name": "python3"
  },
  "language_info": {
   "codemirror_mode": {
    "name": "ipython",
    "version": 3
   },
   "file_extension": ".py",
   "mimetype": "text/x-python",
   "name": "python",
   "nbconvert_exporter": "python",
   "pygments_lexer": "ipython3",
   "version": "3.10.4"
  }
 },
 "nbformat": 4,
 "nbformat_minor": 5
}
