{
 "cells": [
  {
   "cell_type": "code",
   "execution_count": 1,
   "id": "ed3de9e6",
   "metadata": {},
   "outputs": [],
   "source": [
    "%reload_ext autoreload\n",
    "%autoreload 2\n",
    "%matplotlib inline"
   ]
  },
  {
   "cell_type": "code",
   "execution_count": 2,
   "id": "02b594cc",
   "metadata": {},
   "outputs": [
    {
     "data": {
      "text/plain": [
       "('2021.12.06', '1.11.0+cpu')"
      ]
     },
     "execution_count": 2,
     "metadata": {},
     "output_type": "execute_result"
    }
   ],
   "source": [
    "import numpy as np \n",
    "import matplotlib.pyplot as plt \n",
    "import  nangs \n",
    "import  torch\n",
    "#import cv2\n",
    "import io\n",
    "\n",
    "device = \"cuda\" if torch.cuda.is_available() else \"cpu\"\n",
    "\n",
    "nangs.__version__, torch.__version__"
   ]
  },
  {
   "cell_type": "code",
   "execution_count": 3,
   "id": "2c3ce034",
   "metadata": {},
   "outputs": [],
   "source": [
    "from nangs import PDE\n",
    "import math\n",
    "\n",
    "K=50\n",
    "\n",
    "class PeronaMalik(PDE):\n",
    "    def computePDELoss(self, inputs, outputs):\n",
    "                \n",
    "        # compute gradients\n",
    "        \n",
    "        # compute first-order derivatives\n",
    "        grads = self.computeGrads(outputs, inputs)\n",
    "        dpdx, dpdy, dpdt = grads[:, 0], grads[:, 1], grads[:, 2]\n",
    "        \n",
    "        # compute second-order derivatives\n",
    "        dp2dx2 = self.computeGrads(dpdx, inputs)[:, 0]        \n",
    "        dp2dy2 = self.computeGrads(dpdy, inputs)[:, 1]\n",
    "        #dudas\n",
    "        dp2dpxdpy=self.computeGrads(dpdx, inputs)[:, 1]\n",
    "        dp2dpydpx=self.computeGrads(dpdy, inputs)[:, 0]\n",
    "        \n",
    "        \n",
    "        # compute loss\n",
    "        #dpdx, dpdy, dpdt = grads[:, 0], grads[:, 1], grads[:, 2]\n",
    "        return {'pde': dpdx*(-2/K**2)*torch.exp(-(    torch.pow(dpdx,2)+torch.pow(dpdy,2))/K**2)  *((dpdx*dp2dx2)+(dpdy*dp2dpydpx))\n",
    "                      -dpdy*(-2/K**2)*torch.exp(-(    torch.pow(dpdx,2)+torch.pow(dpdy,2))/K**2)  *((dpdx*dp2dpxdpy)+(dpdy*dp2dy2))\n",
    "               +torch.exp(  -(    torch.pow(dpdx,2)+torch.pow(dpdy,2))/K**2) * ( dp2dx2+dp2dy2 )-dpdt}\n",
    "    \n",
    "pde = PeronaMalik(inputs=('x', 'y', 't'), outputs='p')"
   ]
  },
  {
   "cell_type": "code",
   "execution_count": 4,
   "id": "0af9dea7",
   "metadata": {},
   "outputs": [
    {
     "name": "stdout",
     "output_type": "stream",
     "text": [
      "a\n"
     ]
    }
   ],
   "source": [
    "n_samples = 500\n",
    "print(\"a\")"
   ]
  },
  {
   "cell_type": "code",
   "execution_count": 5,
   "id": "7eaec0f7",
   "metadata": {},
   "outputs": [
    {
     "name": "stdout",
     "output_type": "stream",
     "text": [
      "a\n"
     ]
    }
   ],
   "source": [
    "# define the sampler\n",
    "\n",
    "from nangs import RandomSampler\n",
    "\n",
    "sampler = RandomSampler({\n",
    "    'x': [0., 1.], \n",
    "    'y': [0., 1.],\n",
    "    't': [0., 1.], \n",
    "}, device=device, n_samples=1000)\n",
    "\n",
    "pde.set_sampler(sampler)\n",
    "print(\"a\")"
   ]
  },
  {
   "cell_type": "code",
   "execution_count": 6,
   "id": "30a4985c",
   "metadata": {},
   "outputs": [],
   "source": [
    "def cero_f(n_samples):\n",
    "    return torch.zeros(n_samples)"
   ]
  },
  {
   "cell_type": "code",
   "execution_count": 7,
   "id": "af1c826e",
   "metadata": {},
   "outputs": [],
   "source": [
    "def f_circle(x,y):\n",
    "    z = (x - 0.5)**2 + (y - 0.5)**2\n",
    "    for i in range(0,len(z)):\n",
    "        if z[i] <= 0.1:\n",
    "            z[i] = 0.5\n",
    "        else: z[i] = 1\n",
    "\n",
    "    return z"
   ]
  },
  {
   "cell_type": "code",
   "execution_count": 8,
   "id": "8e83c493",
   "metadata": {},
   "outputs": [],
   "source": [
    "def cart_prod(*args):\n",
    "    grids =np.meshgrid(*args,indexing='ij')\n",
    "    return np.stack(grids,axis=-1).reshape(-1,len(args))"
   ]
  },
  {
   "cell_type": "code",
   "execution_count": 9,
   "id": "2565c014",
   "metadata": {},
   "outputs": [
    {
     "data": {
      "text/plain": [
       "<matplotlib.image.AxesImage at 0x21ef8918370>"
      ]
     },
     "execution_count": 9,
     "metadata": {},
     "output_type": "execute_result"
    },
    {
     "data": {
      "image/png": "[encoded data removed]",
      "text/plain": [
       "<Figure size 432x288 with 1 Axes>"
      ]
     },
     "metadata": {
      "needs_background": "light"
     },
     "output_type": "display_data"
    }
   ],
   "source": [
    "x = np.linspace(0,1,50)\n",
    "\n",
    "grid=cart_prod(x,x)\n",
    "\n",
    "\n",
    "xs, ys= grid[:, 0:1], grid[:,1:2]\n",
    "\n",
    "plt.imshow(f_circle(xs,ys).reshape(50,50))\n"
   ]
  },
  {
   "cell_type": "code",
   "execution_count": 10,
   "id": "607367d8",
   "metadata": {},
   "outputs": [],
   "source": [
    "#from nangs import Dirichlet\n",
    "\n",
    "\n",
    "#left = Dirichlet(\n",
    "#    RandomSampler({'x': 0., 'y': [0., 200.],'t': [0., 200.] }, device=device, n_samples=n_samples), \n",
    "#    lambda inputs: {'p' : cero_f(n_samples)},\n",
    "#    name=\"left\"\n",
    "#)\n",
    "\n",
    "#pde.add_boco(left)\n",
    "#print(\"a\")"
   ]
  },
  {
   "cell_type": "code",
   "execution_count": 11,
   "id": "fef643d3",
   "metadata": {},
   "outputs": [],
   "source": [
    "#from nangs import Dirichlet\n",
    "\n",
    "\n",
    "#right = Dirichlet(\n",
    "#    RandomSampler({'x': 200., 'y': [0., 200.],'t': [0., 200.]}, device=device, n_samples=n_samples), \n",
    "#    lambda inputs: {'p' :  cero_f(n_samples)},\n",
    "#    name=\"right\"\n",
    "#)\n",
    "\n",
    "#pde.add_boco(right)\n",
    "#print(\"a\")"
   ]
  },
  {
   "cell_type": "code",
   "execution_count": 12,
   "id": "2dd90990",
   "metadata": {},
   "outputs": [],
   "source": [
    "#from nangs import Dirichlet\n",
    "\n",
    "\n",
    "#up = Dirichlet(\n",
    "#    RandomSampler({'x': [0.,200.], 'y': 0,'t': [0., 200.]}, device=device, n_samples=n_samples), \n",
    "#    lambda inputs: {'p' : cero_f(n_samples)},\n",
    "#    name=\"up\"\n",
    "#)\n",
    "\n",
    "#pde.add_boco(up)\n",
    "#print(\"a\")"
   ]
  },
  {
   "cell_type": "code",
   "execution_count": 13,
   "id": "589b8e1a",
   "metadata": {},
   "outputs": [],
   "source": [
    "#from nangs import Dirichlet\n",
    "\n",
    "\n",
    "#down = Dirichlet(\n",
    "#    RandomSampler({'x': [0.,200.], 'y': 0,'t': [0., 200.]}, device=device, n_samples=n_samples), \n",
    "#    lambda inputs: {'p' : cero_f(n_samples)},\n",
    "#    name=\"down\"\n",
    "#)\n",
    "\n",
    "#pde.add_boco(down)\n",
    "#print(\"a\")"
   ]
  },
  {
   "cell_type": "code",
   "execution_count": 14,
   "id": "afd7c594",
   "metadata": {},
   "outputs": [
    {
     "name": "stdout",
     "output_type": "stream",
     "text": [
      "a\n"
     ]
    }
   ],
   "source": [
    "from nangs import Dirichlet\n",
    "\n",
    "\n",
    "foto = Dirichlet(\n",
    "    RandomSampler({'x': [0., 1.], 'y': [0., 1.],'t':0}, device=device, n_samples=n_samples), \n",
    "     lambda inputs: {'p' :f_circle(inputs['x'],inputs['y'])},\n",
    "    name=\"foto\"\n",
    ")\n",
    "\n",
    "pde.add_boco(foto)\n",
    "print(\"a\")"
   ]
  },
  {
   "cell_type": "code",
   "execution_count": 15,
   "id": "17655abb",
   "metadata": {},
   "outputs": [],
   "source": [
    "import torch\n",
    "\n",
    "\n",
    "class Sine(torch.nn.Module):\n",
    "    def __init__(self):\n",
    "        super().__init__()\n",
    "\n",
    "    def forward(self, x):\n",
    "        return torch.sin(x)\n",
    "\n",
    "\n",
    "def block(i, o):\n",
    "    fc = torch.nn.Linear(i, o)\n",
    "    return torch.nn.Sequential(\n",
    "        Sine(),\n",
    "        torch.nn.Linear(i, o)\n",
    "    )\n",
    "\n",
    "\n",
    "class MLP(torch.nn.Module):\n",
    "    def __init__(self, inputs, outputs, layers, neurons):\n",
    "        super().__init__()\n",
    "        \n",
    "        fc_in = torch.nn.Linear(inputs, neurons)\n",
    "        fc_hidden = [\n",
    "            block(neurons, neurons)\n",
    "            for layer in range(layers-1)\n",
    "        ]\n",
    "        fc_out = block(neurons, outputs)\n",
    "\n",
    "        self.mlp = torch.nn.Sequential(\n",
    "            fc_in,\n",
    "            *fc_hidden,\n",
    "            fc_out\n",
    "        )\n",
    "\n",
    "    def forward(self, x):\n",
    "        return self.mlp(x)\n",
    "    \n",
    "    #def anzatc(self, u, xs):\n",
    "    #    \"\"\" Anzatc-transformation of the model-output needed for binding initial and boundary conditions. \"\"\"\n",
    "    #    # Get tensor of spatial variables and time-tensor.\n",
    "    #    xs_spatial = xs[:, :self.ndims_spatial]\n",
    "    #    t = xs[:, self.ndims - 1:self.ndims]\n",
    "    #    lower, upper = [lims[0] for lims in self.domain], [lims[1] for lims in self.domain]\n",
    "    #    lower_spatial, upper_spatial = [torch.Tensor(lst[:self.ndims_spatial]).reshape(1, -1).float()\n",
    "    #                                    for lst in (lower, upper)]\n",
    "    #    t0 = lower[-1]\n",
    "\n",
    "        # Apply transformation to bind the boundary condition.\n",
    "    #    if self.boundary_condition is not None:\n",
    "    #        u = (u * (torch.prod((xs_spatial - lower_spatial) / (upper_spatial - lower_spatial), dim=1, keepdim=True) *\n",
    "    #                  torch.prod((upper_spatial - xs_spatial) / (upper_spatial - lower_spatial), dim=1, keepdim=True))\n",
    "    #                 + self.boundary_condition)\n",
    "\n",
    "        # Apply transformation to bind the initial condition.\n",
    "    #    if self.initial_condition is not None:\n",
    "    #        _xs_spatial = [xs_spatial[:, i] for i in range(xs_spatial.shape[1])]\n",
    "    #        u = ((nn.Sigmoid()((t - t0) / torch.exp(self.log_scale)) - .5) * u\n",
    "    #             + self.initial_condition(*_xs_spatial).view(-1, 1))\n",
    "    #    return u"
   ]
  },
  {
   "cell_type": "code",
   "execution_count": 16,
   "id": "7e5fbe10",
   "metadata": {},
   "outputs": [
    {
     "name": "stdout",
     "output_type": "stream",
     "text": [
      "3\n",
      "1\n",
      "x\n",
      "y\n",
      "t\n",
      "p\n"
     ]
    },
    {
     "name": "stderr",
     "output_type": "stream",
     "text": [
      "{'pde': 0.00022, 'foto': 0.06142}:   5%|██▎                                         | 269/5000 [01:05<19:10,  4.11it/s]\n"
     ]
    },
    {
     "ename": "KeyboardInterrupt",
     "evalue": "",
     "output_type": "error",
     "traceback": [
      "\u001b[1;31m---------------------------------------------------------------------------\u001b[0m",
      "\u001b[1;31mKeyboardInterrupt\u001b[0m                         Traceback (most recent call last)",
      "\u001b[1;32m<timed exec>\u001b[0m in \u001b[0;36m<module>\u001b[1;34m\u001b[0m\n",
      "\u001b[1;32mD:\\escuela\\WPy64-31040\\python-3.10.4.amd64\\lib\\site-packages\\nangs\\pde.py\u001b[0m in \u001b[0;36msolve\u001b[1;34m(self, N_STEPS, log_each)\u001b[0m\n\u001b[0;32m     70\u001b[0m             \u001b[0mX\u001b[0m\u001b[1;33m.\u001b[0m\u001b[0mrequires_grad_\u001b[0m\u001b[1;33m(\u001b[0m\u001b[1;32mTrue\u001b[0m\u001b[1;33m)\u001b[0m\u001b[1;33m\u001b[0m\u001b[1;33m\u001b[0m\u001b[0m\n\u001b[0;32m     71\u001b[0m             \u001b[0my\u001b[0m \u001b[1;33m=\u001b[0m \u001b[0mself\u001b[0m\u001b[1;33m.\u001b[0m\u001b[0mmodel\u001b[0m\u001b[1;33m(\u001b[0m\u001b[0mX\u001b[0m\u001b[1;33m)\u001b[0m\u001b[1;33m\u001b[0m\u001b[1;33m\u001b[0m\u001b[0m\n\u001b[1;32m---> 72\u001b[1;33m             \u001b[0mpde_losses\u001b[0m \u001b[1;33m=\u001b[0m \u001b[0mself\u001b[0m\u001b[1;33m.\u001b[0m\u001b[0mcomputePDELoss\u001b[0m\u001b[1;33m(\u001b[0m\u001b[0mX\u001b[0m\u001b[1;33m,\u001b[0m \u001b[0my\u001b[0m\u001b[1;33m)\u001b[0m\u001b[1;33m\u001b[0m\u001b[1;33m\u001b[0m\u001b[0m\n\u001b[0m\u001b[0;32m     73\u001b[0m             \u001b[1;32mif\u001b[0m \u001b[0mstep\u001b[0m \u001b[1;33m==\u001b[0m \u001b[1;36m1\u001b[0m\u001b[1;33m:\u001b[0m\u001b[1;33m\u001b[0m\u001b[1;33m\u001b[0m\u001b[0m\n\u001b[0;32m     74\u001b[0m                 assert isinstance(\n",
      "\u001b[1;32m~\\AppData\\Local\\Temp\\ipykernel_17792\\2301837805.py\u001b[0m in \u001b[0;36mcomputePDELoss\u001b[1;34m(self, inputs, outputs)\u001b[0m\n\u001b[0;32m     14\u001b[0m \u001b[1;33m\u001b[0m\u001b[0m\n\u001b[0;32m     15\u001b[0m         \u001b[1;31m# compute second-order derivatives\u001b[0m\u001b[1;33m\u001b[0m\u001b[1;33m\u001b[0m\u001b[0m\n\u001b[1;32m---> 16\u001b[1;33m         \u001b[0mdp2dx2\u001b[0m \u001b[1;33m=\u001b[0m \u001b[0mself\u001b[0m\u001b[1;33m.\u001b[0m\u001b[0mcomputeGrads\u001b[0m\u001b[1;33m(\u001b[0m\u001b[0mdpdx\u001b[0m\u001b[1;33m,\u001b[0m \u001b[0minputs\u001b[0m\u001b[1;33m)\u001b[0m\u001b[1;33m[\u001b[0m\u001b[1;33m:\u001b[0m\u001b[1;33m,\u001b[0m \u001b[1;36m0\u001b[0m\u001b[1;33m]\u001b[0m\u001b[1;33m\u001b[0m\u001b[1;33m\u001b[0m\u001b[0m\n\u001b[0m\u001b[0;32m     17\u001b[0m         \u001b[0mdp2dy2\u001b[0m \u001b[1;33m=\u001b[0m \u001b[0mself\u001b[0m\u001b[1;33m.\u001b[0m\u001b[0mcomputeGrads\u001b[0m\u001b[1;33m(\u001b[0m\u001b[0mdpdy\u001b[0m\u001b[1;33m,\u001b[0m \u001b[0minputs\u001b[0m\u001b[1;33m)\u001b[0m\u001b[1;33m[\u001b[0m\u001b[1;33m:\u001b[0m\u001b[1;33m,\u001b[0m \u001b[1;36m1\u001b[0m\u001b[1;33m]\u001b[0m\u001b[1;33m\u001b[0m\u001b[1;33m\u001b[0m\u001b[0m\n\u001b[0;32m     18\u001b[0m         \u001b[1;31m#dudas\u001b[0m\u001b[1;33m\u001b[0m\u001b[1;33m\u001b[0m\u001b[0m\n",
      "\u001b[1;32mD:\\escuela\\WPy64-31040\\python-3.10.4.amd64\\lib\\site-packages\\nangs\\pde.py\u001b[0m in \u001b[0;36mcomputeGrads\u001b[1;34m(self, outputs, inputs)\u001b[0m\n\u001b[0;32m     99\u001b[0m \u001b[1;33m\u001b[0m\u001b[0m\n\u001b[0;32m    100\u001b[0m     \u001b[1;32mdef\u001b[0m \u001b[0mcomputeGrads\u001b[0m\u001b[1;33m(\u001b[0m\u001b[0mself\u001b[0m\u001b[1;33m,\u001b[0m \u001b[0moutputs\u001b[0m\u001b[1;33m,\u001b[0m \u001b[0minputs\u001b[0m\u001b[1;33m)\u001b[0m\u001b[1;33m:\u001b[0m\u001b[1;33m\u001b[0m\u001b[1;33m\u001b[0m\u001b[0m\n\u001b[1;32m--> 101\u001b[1;33m         grads, = torch.autograd.grad(outputs, inputs,\n\u001b[0m\u001b[0;32m    102\u001b[0m                                      grad_outputs=outputs.data.new(\n\u001b[0;32m    103\u001b[0m                                          outputs.shape).fill_(1),\n",
      "\u001b[1;32mD:\\escuela\\WPy64-31040\\python-3.10.4.amd64\\lib\\site-packages\\torch\\autograd\\__init__.py\u001b[0m in \u001b[0;36mgrad\u001b[1;34m(outputs, inputs, grad_outputs, retain_graph, create_graph, only_inputs, allow_unused, is_grads_batched)\u001b[0m\n\u001b[0;32m    273\u001b[0m         \u001b[1;32mreturn\u001b[0m \u001b[0m_vmap_internals\u001b[0m\u001b[1;33m.\u001b[0m\u001b[0m_vmap\u001b[0m\u001b[1;33m(\u001b[0m\u001b[0mvjp\u001b[0m\u001b[1;33m,\u001b[0m \u001b[1;36m0\u001b[0m\u001b[1;33m,\u001b[0m \u001b[1;36m0\u001b[0m\u001b[1;33m,\u001b[0m \u001b[0mallow_none_pass_through\u001b[0m\u001b[1;33m=\u001b[0m\u001b[1;32mTrue\u001b[0m\u001b[1;33m)\u001b[0m\u001b[1;33m(\u001b[0m\u001b[0mgrad_outputs\u001b[0m\u001b[1;33m)\u001b[0m\u001b[1;33m\u001b[0m\u001b[1;33m\u001b[0m\u001b[0m\n\u001b[0;32m    274\u001b[0m     \u001b[1;32melse\u001b[0m\u001b[1;33m:\u001b[0m\u001b[1;33m\u001b[0m\u001b[1;33m\u001b[0m\u001b[0m\n\u001b[1;32m--> 275\u001b[1;33m         return Variable._execution_engine.run_backward(  # Calls into the C++ engine to run the backward pass\n\u001b[0m\u001b[0;32m    276\u001b[0m             \u001b[0moutputs\u001b[0m\u001b[1;33m,\u001b[0m \u001b[0mgrad_outputs_\u001b[0m\u001b[1;33m,\u001b[0m \u001b[0mretain_graph\u001b[0m\u001b[1;33m,\u001b[0m \u001b[0mcreate_graph\u001b[0m\u001b[1;33m,\u001b[0m \u001b[0minputs\u001b[0m\u001b[1;33m,\u001b[0m\u001b[1;33m\u001b[0m\u001b[1;33m\u001b[0m\u001b[0m\n\u001b[0;32m    277\u001b[0m             allow_unused, accumulate_grad=False)  # Calls into the C++ engine to run the backward pass\n",
      "\u001b[1;31mKeyboardInterrupt\u001b[0m: "
     ]
    }
   ],
   "source": [
    "# solve\n",
    "\n",
    "#from nangs import MLP\n",
    "\n",
    "LR = 1e-2\n",
    "N_STEPS = 5000\n",
    "NUM_LAYERS = 3\n",
    "NUM_HIDDEN = 128\n",
    "print(len(pde.inputs))\n",
    "print(len(pde.outputs))\n",
    "\n",
    "for item in pde.inputs:\n",
    "    print(item)\n",
    "for item in pde.outputs:\n",
    "    print(item)\n",
    "    \n",
    "    \n",
    "mlp = MLP(len(pde.inputs), len(pde.outputs), NUM_LAYERS, NUM_HIDDEN).to(device)\n",
    "optimizer = torch.optim.Adam(mlp.parameters())\n",
    "scheduler = torch.optim.lr_scheduler.OneCycleLR(optimizer, max_lr=LR, pct_start=0.1, div_factor=10, final_div_factor=1, total_steps=N_STEPS)\n",
    "\n",
    "pde.compile(mlp, optimizer, scheduler)\n",
    "%time hist = pde.solve(N_STEPS)"
   ]
  },
  {
   "cell_type": "code",
   "execution_count": 17,
   "id": "3a1176d8",
   "metadata": {},
   "outputs": [
    {
     "ename": "NameError",
     "evalue": "name 'hist' is not defined",
     "output_type": "error",
     "traceback": [
      "\u001b[1;31m---------------------------------------------------------------------------\u001b[0m",
      "\u001b[1;31mNameError\u001b[0m                                 Traceback (most recent call last)",
      "\u001b[1;32m~\\AppData\\Local\\Temp\\ipykernel_17792\\3132127879.py\u001b[0m in \u001b[0;36m<cell line: 3>\u001b[1;34m()\u001b[0m\n\u001b[0;32m      1\u001b[0m \u001b[1;32mimport\u001b[0m \u001b[0mpandas\u001b[0m \u001b[1;32mas\u001b[0m \u001b[0mpd\u001b[0m\u001b[1;33m\u001b[0m\u001b[1;33m\u001b[0m\u001b[0m\n\u001b[0;32m      2\u001b[0m \u001b[1;33m\u001b[0m\u001b[0m\n\u001b[1;32m----> 3\u001b[1;33m \u001b[0mdf\u001b[0m \u001b[1;33m=\u001b[0m \u001b[0mpd\u001b[0m\u001b[1;33m.\u001b[0m\u001b[0mDataFrame\u001b[0m\u001b[1;33m(\u001b[0m\u001b[0mhist\u001b[0m\u001b[1;33m)\u001b[0m\u001b[1;33m\u001b[0m\u001b[1;33m\u001b[0m\u001b[0m\n\u001b[0m\u001b[0;32m      4\u001b[0m \u001b[0mfig\u001b[0m \u001b[1;33m=\u001b[0m \u001b[0mplt\u001b[0m\u001b[1;33m.\u001b[0m\u001b[0mfigure\u001b[0m\u001b[1;33m(\u001b[0m\u001b[0mdpi\u001b[0m\u001b[1;33m=\u001b[0m\u001b[1;36m100\u001b[0m\u001b[1;33m)\u001b[0m\u001b[1;33m\u001b[0m\u001b[1;33m\u001b[0m\u001b[0m\n\u001b[0;32m      5\u001b[0m \u001b[0max\u001b[0m \u001b[1;33m=\u001b[0m \u001b[0mplt\u001b[0m\u001b[1;33m.\u001b[0m\u001b[0msubplot\u001b[0m\u001b[1;33m(\u001b[0m\u001b[1;36m1\u001b[0m\u001b[1;33m,\u001b[0m\u001b[1;36m1\u001b[0m\u001b[1;33m,\u001b[0m\u001b[1;36m1\u001b[0m\u001b[1;33m)\u001b[0m\u001b[1;33m\u001b[0m\u001b[1;33m\u001b[0m\u001b[0m\n",
      "\u001b[1;31mNameError\u001b[0m: name 'hist' is not defined"
     ]
    }
   ],
   "source": [
    "import pandas as pd \n",
    "\n",
    "df = pd.DataFrame(hist)\n",
    "fig = plt.figure(dpi=100)\n",
    "ax = plt.subplot(1,1,1)\n",
    "ax.set_yscale('log')\n",
    "df.plot(ax=ax, grid=True)"
   ]
  },
  {
   "cell_type": "code",
   "execution_count": null,
   "id": "afc374ad",
   "metadata": {},
   "outputs": [],
   "source": [
    "x = np.linspace(0,1,200)\n",
    "y = np.linspace(0,1,200)\n",
    "\n",
    "t=0\n",
    "\n",
    "grid=cart_prod(x,y,t)\n",
    "xs, ys= grid[:, 0:1], grid[:,1:2]"
   ]
  },
  {
   "cell_type": "code",
   "execution_count": null,
   "id": "736b2092",
   "metadata": {},
   "outputs": [],
   "source": [
    "print(f_circle(xs,ys).reshape(200,200).shape)\n",
    "print(f_circle(xs,ys).reshape(200,200).dtype)\n",
    "plt.imshow(f_circle(xs,ys).reshape(200,200))\n"
   ]
  },
  {
   "cell_type": "code",
   "execution_count": 2,
   "id": "d2747de7",
   "metadata": {},
   "outputs": [
    {
     "ename": "NameError",
     "evalue": "name 'torch' is not defined",
     "output_type": "error",
     "traceback": [
      "\u001b[1;31m---------------------------------------------------------------------------\u001b[0m",
      "\u001b[1;31mNameError\u001b[0m                                 Traceback (most recent call last)",
      "\u001b[1;32m~\\AppData\\Local\\Temp\\ipykernel_16220\\3653560063.py\u001b[0m in \u001b[0;36m<cell line: 1>\u001b[1;34m()\u001b[0m\n\u001b[1;32m----> 1\u001b[1;33m \u001b[0mX\u001b[0m \u001b[1;33m=\u001b[0m \u001b[0mtorch\u001b[0m\u001b[1;33m.\u001b[0m\u001b[0mfrom_numpy\u001b[0m\u001b[1;33m(\u001b[0m\u001b[0mgrid\u001b[0m\u001b[1;33m)\u001b[0m\u001b[1;33m.\u001b[0m\u001b[0mfloat\u001b[0m\u001b[1;33m(\u001b[0m\u001b[1;33m)\u001b[0m\u001b[1;33m.\u001b[0m\u001b[0mto\u001b[0m\u001b[1;33m(\u001b[0m\u001b[0mdevice\u001b[0m\u001b[1;33m)\u001b[0m\u001b[1;33m\u001b[0m\u001b[1;33m\u001b[0m\u001b[0m\n\u001b[0m\u001b[0;32m      2\u001b[0m \u001b[0mimage_final\u001b[0m \u001b[1;33m=\u001b[0m  \u001b[0mpde\u001b[0m\u001b[1;33m.\u001b[0m\u001b[0meval\u001b[0m\u001b[1;33m(\u001b[0m\u001b[0mX\u001b[0m\u001b[1;33m)\u001b[0m\u001b[1;33m\u001b[0m\u001b[1;33m\u001b[0m\u001b[0m\n\u001b[0;32m      3\u001b[0m \u001b[1;33m\u001b[0m\u001b[0m\n\u001b[0;32m      4\u001b[0m \u001b[0mxs\u001b[0m\u001b[1;33m,\u001b[0m \u001b[0mys\u001b[0m\u001b[1;33m=\u001b[0m \u001b[0mgrid\u001b[0m\u001b[1;33m[\u001b[0m\u001b[1;33m:\u001b[0m\u001b[1;33m,\u001b[0m \u001b[1;36m0\u001b[0m\u001b[1;33m:\u001b[0m\u001b[1;36m1\u001b[0m\u001b[1;33m]\u001b[0m\u001b[1;33m,\u001b[0m \u001b[0mgrid\u001b[0m\u001b[1;33m[\u001b[0m\u001b[1;33m:\u001b[0m\u001b[1;33m,\u001b[0m\u001b[1;36m1\u001b[0m\u001b[1;33m:\u001b[0m\u001b[1;36m2\u001b[0m\u001b[1;33m]\u001b[0m\u001b[1;33m\u001b[0m\u001b[1;33m\u001b[0m\u001b[0m\n\u001b[0;32m      5\u001b[0m \u001b[0mprint\u001b[0m\u001b[1;33m(\u001b[0m\u001b[0mimage_final\u001b[0m\u001b[1;33m.\u001b[0m\u001b[0mshape\u001b[0m\u001b[1;33m)\u001b[0m\u001b[1;33m\u001b[0m\u001b[1;33m\u001b[0m\u001b[0m\n",
      "\u001b[1;31mNameError\u001b[0m: name 'torch' is not defined"
     ]
    }
   ],
   "source": [
    "\n",
    "X = torch.from_numpy(grid).float().to(device)\n",
    "image_final =  pde.eval(X)\n",
    "\n",
    "xs, ys= grid[:, 0:1], grid[:,1:2]\n",
    "print(image_final.shape)\n",
    "print(image_final.dtype)\n",
    "\n",
    "#plt.imshow(f_circle(xs,ys).reshape(200,200))"
   ]
  },
  {
   "cell_type": "code",
   "execution_count": null,
   "id": "cbe8d35f",
   "metadata": {},
   "outputs": [],
   "source": [
    "imashow=image_final.reshape(200,200)"
   ]
  },
  {
   "cell_type": "code",
   "execution_count": null,
   "id": "2088c6e3",
   "metadata": {},
   "outputs": [],
   "source": [
    "def float_to_int(imashow):\n",
    "    for i in range(len(imashow)):\n",
    "        for j in range (len(imashow)):\n",
    "            imashow[i][j]=int(imashow[i][j])"
   ]
  },
  {
   "cell_type": "code",
   "execution_count": null,
   "id": "20cd620a",
   "metadata": {},
   "outputs": [],
   "source": [
    "float_to_int(imashow)\n",
    "plt.imshow(imashow)"
   ]
  },
  {
   "cell_type": "code",
   "execution_count": 68,
   "id": "2c2451cb",
   "metadata": {},
   "outputs": [
    {
     "name": "stdout",
     "output_type": "stream",
     "text": [
      "tensor([[1., 1., 1.,  ..., 1., 1., 1.],\n",
      "        [1., 1., 1.,  ..., 1., 1., 1.],\n",
      "        [1., 1., 1.,  ..., 1., 1., 1.],\n",
      "        ...,\n",
      "        [1., 1., 1.,  ..., 1., 1., 1.],\n",
      "        [1., 1., 1.,  ..., 1., 1., 1.],\n",
      "        [1., 1., 1.,  ..., 1., 1., 1.]])\n"
     ]
    }
   ],
   "source": [
    "print(imashow)"
   ]
  },
  {
   "cell_type": "code",
   "execution_count": null,
   "id": "05e8b89f",
   "metadata": {},
   "outputs": [],
   "source": [
    "    "
   ]
  }
 ],
 "metadata": {
  "kernelspec": {
   "display_name": "Python 3 (ipykernel)",
   "language": "python",
   "name": "python3"
  },
  "language_info": {
   "codemirror_mode": {
    "name": "ipython",
    "version": 3
   },
   "file_extension": ".py",
   "mimetype": "text/x-python",
   "name": "python",
   "nbconvert_exporter": "python",
   "pygments_lexer": "ipython3",
   "version": "3.10.4"
  }
 },
 "nbformat": 4,
 "nbformat_minor": 5
}
