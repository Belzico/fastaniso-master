{
 "cells": [
  {
   "cell_type": "code",
   "execution_count": 1,
   "metadata": {
    "ExecuteTime": {
     "end_time": "2021-12-05T12:27:52.619219Z",
     "start_time": "2021-12-05T12:27:52.435730Z"
    }
   },
   "outputs": [],
   "source": [
    "%reload_ext autoreload\n",
    "%autoreload 2\n",
    "%matplotlib inline"
   ]
  },
  {
   "cell_type": "markdown",
   "metadata": {},
   "source": [
    "# Basic use"
   ]
  },
  {
   "cell_type": "markdown",
   "metadata": {},
   "source": [
    "We want to solve the following PDE:\n",
    "\n",
    "\\begin{equation}\n",
    "    \\frac{\\partial \\phi}{\\partial t} + u \\frac{\\partial \\phi}{\\partial x} = 0\n",
    "\\end{equation}\n",
    "\n",
    "The independent variables (i.e, $x$ and $t$) are used as input values for the NN, and the solution (i.e. $\\phi$) is the output. In order to find the solution, at each step the NN outputs are derived w.r.t the inputs. Then, a loss function that matches the PDE is built and the weights are updated accordingly. If the loss function goes to zero, we can assume that our NN is indeed the solution to our PDE. We will try to find a general solution for different values of $u$, so it will be set also as an input."
   ]
  },
  {
   "cell_type": "code",
   "execution_count": 2,
   "metadata": {
    "ExecuteTime": {
     "end_time": "2021-12-05T12:27:53.248847Z",
     "start_time": "2021-12-05T12:27:52.620575Z"
    }
   },
   "outputs": [
    {
     "data": {
      "text/plain": [
       "('2021.12.06', '1.11.0+cpu')"
      ]
     },
     "execution_count": 2,
     "metadata": {},
     "output_type": "execute_result"
    }
   ],
   "source": [
    "# imports\n",
    "import numpy as np \n",
    "import matplotlib.pyplot as plt \n",
    "import nangs\n",
    "import torch\n",
    "\n",
    "device = \"cuda\" if torch.cuda.is_available() else \"cpu\"\n",
    "\n",
    "nangs.__version__, torch.__version__"
   ]
  },
  {
   "cell_type": "markdown",
   "metadata": {
    "ExecuteTime": {
     "end_time": "2020-06-21T10:03:39.388652Z",
     "start_time": "2020-06-21T10:03:39.370652Z"
    }
   },
   "source": [
    "## Define your PDE"
   ]
  },
  {
   "cell_type": "markdown",
   "metadata": {},
   "source": [
    "We provide the class `PDE` with the default functionality to solve the PDE. First, create a new class inheriting from the `PDE` class and overload the `computePDELoss` function to return one loss function for each PDE in your system. You must initialize this class with your inputs and outputs names. "
   ]
  },
  {
   "cell_type": "code",
   "execution_count": 4,
   "metadata": {
    "ExecuteTime": {
     "end_time": "2021-12-05T12:27:53.262714Z",
     "start_time": "2021-12-05T12:27:53.250518Z"
    },
    "code_folding": []
   },
   "outputs": [
    {
     "data": {
      "text/plain": [
       "(('x', 't', 'u'), ('p',))"
      ]
     },
     "execution_count": 4,
     "metadata": {},
     "output_type": "execute_result"
    }
   ],
   "source": [
    "from nangs import PDE\n",
    "\n",
    "class Adv1d(PDE):\n",
    "    def computePDELoss(self, inputs, outputs):\n",
    "                \n",
    "        # compute gradients\n",
    "        grads = self.computeGrads(outputs, inputs)\n",
    "        \n",
    "        # compute loss\n",
    "        dpdx, dpdt = grads[:, 0], grads[:, 1]\n",
    "        u = inputs[:,2]\n",
    "        return {'pde': dpdt + u*dpdx}\n",
    "    \n",
    "pde = Adv1d(inputs=('x', 't', 'u'), outputs='p')\n",
    "\n",
    "pde.inputs, pde.outputs"
   ]
  },
  {
   "cell_type": "markdown",
   "metadata": {
    "heading_collapsed": true
   },
   "source": [
    "## Define your data"
   ]
  },
  {
   "cell_type": "markdown",
   "metadata": {
    "hidden": true
   },
   "source": [
    "To solve the PDE we will sample input values from the geometry. The class `RandomSampler` will give us random values in a given range. You must pass the data as a dict, providing one (unique) name for each variable matching the names of the inputs defined in the PDE."
   ]
  },
  {
   "cell_type": "code",
   "execution_count": 5,
   "metadata": {
    "ExecuteTime": {
     "end_time": "2021-12-05T12:27:53.299627Z",
     "start_time": "2021-12-05T12:27:53.264136Z"
    },
    "hidden": true
   },
   "outputs": [
    {
     "data": {
      "text/plain": [
       "{'x': tensor([0.4571, 0.1057, 0.6428, 0.2577, 0.2165]),\n",
       " 't': tensor([0.4901, 0.0557, 0.8526, 0.4797, 0.5999]),\n",
       " 'u': tensor([ 0.9204, -0.2041, -0.7195, -0.7799, -0.4878])}"
      ]
     },
     "execution_count": 5,
     "metadata": {},
     "output_type": "execute_result"
    }
   ],
   "source": [
    "from nangs import RandomSampler\n",
    "\n",
    "sampler = RandomSampler({\n",
    "    'x': [0., 1.], \n",
    "    't': [0., 1.], \n",
    "    'u': [-1., 1.]\n",
    "}, n_samples=1000)\n",
    "\n",
    "sampler.sample(5)"
   ]
  },
  {
   "cell_type": "markdown",
   "metadata": {
    "hidden": true
   },
   "source": [
    "You can also specify the device to cache the data"
   ]
  },
  {
   "cell_type": "code",
   "execution_count": 5,
   "metadata": {
    "ExecuteTime": {
     "end_time": "2021-12-05T12:27:55.983741Z",
     "start_time": "2021-12-05T12:27:53.302103Z"
    },
    "hidden": true
   },
   "outputs": [
    {
     "ename": "AssertionError",
     "evalue": "Torch not compiled with CUDA enabled",
     "output_type": "error",
     "traceback": [
      "\u001b[1;31m---------------------------------------------------------------------------\u001b[0m",
      "\u001b[1;31mAssertionError\u001b[0m                            Traceback (most recent call last)",
      "\u001b[1;32m~\\AppData\\Local\\Temp\\ipykernel_2628\\1591997181.py\u001b[0m in \u001b[0;36m<cell line: 7>\u001b[1;34m()\u001b[0m\n\u001b[0;32m      5\u001b[0m }, device='cuda', n_samples=1000)\n\u001b[0;32m      6\u001b[0m \u001b[1;33m\u001b[0m\u001b[0m\n\u001b[1;32m----> 7\u001b[1;33m \u001b[0msampler\u001b[0m\u001b[1;33m.\u001b[0m\u001b[0msample\u001b[0m\u001b[1;33m(\u001b[0m\u001b[1;36m5\u001b[0m\u001b[1;33m)\u001b[0m\u001b[1;33m\u001b[0m\u001b[1;33m\u001b[0m\u001b[0m\n\u001b[0m",
      "\u001b[1;32mD:\\escuela\\WPy64-31040\\python-3.10.4.amd64\\lib\\site-packages\\nangs\\samplers\\random_sampler.py\u001b[0m in \u001b[0;36msample\u001b[1;34m(self, n_samples)\u001b[0m\n\u001b[0;32m     17\u001b[0m     \u001b[1;32mdef\u001b[0m \u001b[0msample\u001b[0m\u001b[1;33m(\u001b[0m\u001b[0mself\u001b[0m\u001b[1;33m,\u001b[0m \u001b[0mn_samples\u001b[0m\u001b[1;33m=\u001b[0m\u001b[1;32mNone\u001b[0m\u001b[1;33m)\u001b[0m\u001b[1;33m:\u001b[0m\u001b[1;33m\u001b[0m\u001b[1;33m\u001b[0m\u001b[0m\n\u001b[0;32m     18\u001b[0m         \u001b[0mn_samples\u001b[0m \u001b[1;33m=\u001b[0m \u001b[0mn_samples\u001b[0m \u001b[1;32mor\u001b[0m \u001b[0mself\u001b[0m\u001b[1;33m.\u001b[0m\u001b[0mn_samples\u001b[0m\u001b[1;33m\u001b[0m\u001b[1;33m\u001b[0m\u001b[0m\n\u001b[1;32m---> 19\u001b[1;33m         return {\n\u001b[0m\u001b[0;32m     20\u001b[0m             \u001b[0mvar\u001b[0m\u001b[1;33m:\u001b[0m \u001b[0mtorch\u001b[0m\u001b[1;33m.\u001b[0m\u001b[0mrand\u001b[0m\u001b[1;33m(\u001b[0m\u001b[0mn_samples\u001b[0m\u001b[1;33m,\u001b[0m \u001b[0mdevice\u001b[0m\u001b[1;33m=\u001b[0m\u001b[0mself\u001b[0m\u001b[1;33m.\u001b[0m\u001b[0mdevice\u001b[0m\u001b[1;33m)\u001b[0m \u001b[1;33m*\u001b[0m\u001b[1;33m\u001b[0m\u001b[1;33m\u001b[0m\u001b[0m\n\u001b[0;32m     21\u001b[0m             \u001b[1;33m(\u001b[0m\u001b[0mlims\u001b[0m\u001b[1;33m[\u001b[0m\u001b[1;36m1\u001b[0m\u001b[1;33m]\u001b[0m \u001b[1;33m-\u001b[0m \u001b[0mlims\u001b[0m\u001b[1;33m[\u001b[0m\u001b[1;36m0\u001b[0m\u001b[1;33m]\u001b[0m\u001b[1;33m)\u001b[0m \u001b[1;33m+\u001b[0m \u001b[0mlims\u001b[0m\u001b[1;33m[\u001b[0m\u001b[1;36m0\u001b[0m\u001b[1;33m]\u001b[0m\u001b[1;33m\u001b[0m\u001b[1;33m\u001b[0m\u001b[0m\n",
      "\u001b[1;32mD:\\escuela\\WPy64-31040\\python-3.10.4.amd64\\lib\\site-packages\\nangs\\samplers\\random_sampler.py\u001b[0m in \u001b[0;36m<dictcomp>\u001b[1;34m(.0)\u001b[0m\n\u001b[0;32m     18\u001b[0m         \u001b[0mn_samples\u001b[0m \u001b[1;33m=\u001b[0m \u001b[0mn_samples\u001b[0m \u001b[1;32mor\u001b[0m \u001b[0mself\u001b[0m\u001b[1;33m.\u001b[0m\u001b[0mn_samples\u001b[0m\u001b[1;33m\u001b[0m\u001b[1;33m\u001b[0m\u001b[0m\n\u001b[0;32m     19\u001b[0m         return {\n\u001b[1;32m---> 20\u001b[1;33m             \u001b[0mvar\u001b[0m\u001b[1;33m:\u001b[0m \u001b[0mtorch\u001b[0m\u001b[1;33m.\u001b[0m\u001b[0mrand\u001b[0m\u001b[1;33m(\u001b[0m\u001b[0mn_samples\u001b[0m\u001b[1;33m,\u001b[0m \u001b[0mdevice\u001b[0m\u001b[1;33m=\u001b[0m\u001b[0mself\u001b[0m\u001b[1;33m.\u001b[0m\u001b[0mdevice\u001b[0m\u001b[1;33m)\u001b[0m \u001b[1;33m*\u001b[0m\u001b[1;33m\u001b[0m\u001b[1;33m\u001b[0m\u001b[0m\n\u001b[0m\u001b[0;32m     21\u001b[0m             \u001b[1;33m(\u001b[0m\u001b[0mlims\u001b[0m\u001b[1;33m[\u001b[0m\u001b[1;36m1\u001b[0m\u001b[1;33m]\u001b[0m \u001b[1;33m-\u001b[0m \u001b[0mlims\u001b[0m\u001b[1;33m[\u001b[0m\u001b[1;36m0\u001b[0m\u001b[1;33m]\u001b[0m\u001b[1;33m)\u001b[0m \u001b[1;33m+\u001b[0m \u001b[0mlims\u001b[0m\u001b[1;33m[\u001b[0m\u001b[1;36m0\u001b[0m\u001b[1;33m]\u001b[0m\u001b[1;33m\u001b[0m\u001b[1;33m\u001b[0m\u001b[0m\n\u001b[0;32m     22\u001b[0m             \u001b[1;32mfor\u001b[0m \u001b[0mvar\u001b[0m\u001b[1;33m,\u001b[0m \u001b[0mlims\u001b[0m \u001b[1;32min\u001b[0m \u001b[0mself\u001b[0m\u001b[1;33m.\u001b[0m\u001b[0mdata\u001b[0m\u001b[1;33m.\u001b[0m\u001b[0mitems\u001b[0m\u001b[1;33m(\u001b[0m\u001b[1;33m)\u001b[0m\u001b[1;33m\u001b[0m\u001b[1;33m\u001b[0m\u001b[0m\n",
      "\u001b[1;32mD:\\escuela\\WPy64-31040\\python-3.10.4.amd64\\lib\\site-packages\\torch\\cuda\\__init__.py\u001b[0m in \u001b[0;36m_lazy_init\u001b[1;34m()\u001b[0m\n\u001b[0;32m    208\u001b[0m                 \"multiprocessing, you must use the 'spawn' start method\")\n\u001b[0;32m    209\u001b[0m         \u001b[1;32mif\u001b[0m \u001b[1;32mnot\u001b[0m \u001b[0mhasattr\u001b[0m\u001b[1;33m(\u001b[0m\u001b[0mtorch\u001b[0m\u001b[1;33m.\u001b[0m\u001b[0m_C\u001b[0m\u001b[1;33m,\u001b[0m \u001b[1;34m'_cuda_getDeviceCount'\u001b[0m\u001b[1;33m)\u001b[0m\u001b[1;33m:\u001b[0m\u001b[1;33m\u001b[0m\u001b[1;33m\u001b[0m\u001b[0m\n\u001b[1;32m--> 210\u001b[1;33m             \u001b[1;32mraise\u001b[0m \u001b[0mAssertionError\u001b[0m\u001b[1;33m(\u001b[0m\u001b[1;34m\"Torch not compiled with CUDA enabled\"\u001b[0m\u001b[1;33m)\u001b[0m\u001b[1;33m\u001b[0m\u001b[1;33m\u001b[0m\u001b[0m\n\u001b[0m\u001b[0;32m    211\u001b[0m         \u001b[1;32mif\u001b[0m \u001b[0m_cudart\u001b[0m \u001b[1;32mis\u001b[0m \u001b[1;32mNone\u001b[0m\u001b[1;33m:\u001b[0m\u001b[1;33m\u001b[0m\u001b[1;33m\u001b[0m\u001b[0m\n\u001b[0;32m    212\u001b[0m             raise AssertionError(\n",
      "\u001b[1;31mAssertionError\u001b[0m: Torch not compiled with CUDA enabled"
     ]
    }
   ],
   "source": [
    "sampler = RandomSampler({\n",
    "    'x': [0., 1.], \n",
    "    't': [0., 1.], \n",
    "    'u': [-1., 1.]\n",
    "}, device='cuda', n_samples=1000)\n",
    "\n",
    "sampler.sample(5)"
   ]
  },
  {
   "cell_type": "markdown",
   "metadata": {
    "hidden": true
   },
   "source": [
    "Finally, add the sampler to your PDE."
   ]
  },
  {
   "cell_type": "code",
   "execution_count": 6,
   "metadata": {
    "ExecuteTime": {
     "end_time": "2021-12-05T12:27:55.997238Z",
     "start_time": "2021-12-05T12:27:55.985677Z"
    },
    "hidden": true
   },
   "outputs": [],
   "source": [
    "pde.set_sampler(sampler)"
   ]
  },
  {
   "cell_type": "code",
   "execution_count": 7,
   "metadata": {
    "ExecuteTime": {
     "end_time": "2021-12-05T12:27:56.010707Z",
     "start_time": "2021-12-05T12:27:55.998018Z"
    },
    "hidden": true
   },
   "outputs": [
    {
     "data": {
      "text/plain": [
       "('x', 't', 'u')"
      ]
     },
     "execution_count": 7,
     "metadata": {},
     "output_type": "execute_result"
    }
   ],
   "source": [
    "sampler.vars"
   ]
  },
  {
   "cell_type": "code",
   "execution_count": 8,
   "metadata": {
    "ExecuteTime": {
     "end_time": "2021-12-05T12:27:56.020834Z",
     "start_time": "2021-12-05T12:27:56.011558Z"
    },
    "hidden": true
   },
   "outputs": [
    {
     "data": {
      "text/plain": [
       "('x', 't', 'u')"
      ]
     },
     "execution_count": 8,
     "metadata": {},
     "output_type": "execute_result"
    }
   ],
   "source": [
    "pde.inputs"
   ]
  },
  {
   "cell_type": "markdown",
   "metadata": {
    "heading_collapsed": true
   },
   "source": [
    "## Boundary Conditions"
   ]
  },
  {
   "cell_type": "markdown",
   "metadata": {
    "hidden": true
   },
   "source": [
    "In order to find a non-trivial solution to our PDE we need to specify a set of boundary conditions. Nangs provide different classes for common boundary conditions."
   ]
  },
  {
   "cell_type": "code",
   "execution_count": 9,
   "metadata": {
    "ExecuteTime": {
     "end_time": "2021-12-05T12:27:56.031066Z",
     "start_time": "2021-12-05T12:27:56.021609Z"
    },
    "hidden": true
   },
   "outputs": [
    {
     "data": {
      "text/plain": [
       "(30,)"
      ]
     },
     "execution_count": 9,
     "metadata": {},
     "output_type": "execute_result"
    }
   ],
   "source": [
    "# initial condition (t = 0)\n",
    "\n",
    "x = np.linspace(0, 1, 30)\n",
    "p0 = np.sin(2*np.pi*x)\n",
    "p0.shape"
   ]
  },
  {
   "cell_type": "code",
   "execution_count": 10,
   "metadata": {
    "ExecuteTime": {
     "end_time": "2021-12-05T12:27:56.210882Z",
     "start_time": "2021-12-05T12:27:56.033240Z"
    },
    "hidden": true
   },
   "outputs": [
    {
     "data": {
      "image/png": "[encoded data removed]",
      "text/plain": [
       "<Figure size 432x288 with 1 Axes>"
      ]
     },
     "metadata": {
      "needs_background": "light"
     },
     "output_type": "display_data"
    }
   ],
   "source": [
    "plt.plot(x, p0)\n",
    "plt.grid(True)\n",
    "plt.xlabel('x')\n",
    "plt.ylabel('$p_0$')\n",
    "plt.show()"
   ]
  },
  {
   "cell_type": "markdown",
   "metadata": {
    "hidden": true
   },
   "source": [
    "A boundary condition has its own `Sampler` and logic to compute values and gradients. In a `Dirichlet` boundary conditions we are fixing some values, so we need the inputs and also the target outputs (in this case, our initial condition). If you are including some free-parameters as NN inputs, make sure you specify an initial condition for each one of them (here we use the same for every value of $u$)."
   ]
  },
  {
   "cell_type": "code",
   "execution_count": 11,
   "metadata": {
    "ExecuteTime": {
     "end_time": "2021-12-05T12:27:56.222211Z",
     "start_time": "2021-12-05T12:27:56.211915Z"
    },
    "hidden": true
   },
   "outputs": [
    {
     "data": {
      "text/plain": [
       "('x', 't', 'u')"
      ]
     },
     "execution_count": 11,
     "metadata": {},
     "output_type": "execute_result"
    }
   ],
   "source": [
    "from nangs import Dirichlet\n",
    "\n",
    "initial_condition = Dirichlet(\n",
    "    RandomSampler({'x': [0., 1.], 't': 0., 'u': [-1., 1.]}, device=device, n_samples=1000), \n",
    "    lambda inputs: {'p' : torch.sin(2.*np.pi*inputs['x'])},\n",
    "    name=\"initial\"\n",
    ")\n",
    "\n",
    "initial_condition.vars"
   ]
  },
  {
   "cell_type": "code",
   "execution_count": 12,
   "metadata": {
    "ExecuteTime": {
     "end_time": "2021-12-05T12:27:56.233710Z",
     "start_time": "2021-12-05T12:27:56.223039Z"
    },
    "hidden": true
   },
   "outputs": [
    {
     "data": {
      "text/plain": [
       "({'x': tensor([0.3239, 0.8164, 0.5346, 0.1811, 0.0292]),\n",
       "  't': tensor([0., 0., 0., 0., 0.]),\n",
       "  'u': tensor([ 0.9965, -0.4959,  0.8660, -0.4386,  0.0067])},\n",
       " {'p': tensor([ 0.8940, -0.9141, -0.2159,  0.9078,  0.1823])})"
      ]
     },
     "execution_count": 12,
     "metadata": {},
     "output_type": "execute_result"
    }
   ],
   "source": [
    "initial_condition.sample(5)"
   ]
  },
  {
   "cell_type": "code",
   "execution_count": 13,
   "metadata": {
    "ExecuteTime": {
     "end_time": "2021-12-05T12:27:56.242317Z",
     "start_time": "2021-12-05T12:27:56.234410Z"
    },
    "hidden": true
   },
   "outputs": [],
   "source": [
    "pde.add_boco(initial_condition)\n",
    "#pde.update_boco(initial_condition)"
   ]
  },
  {
   "cell_type": "markdown",
   "metadata": {
    "hidden": true
   },
   "source": [
    "We use a periodic boundary condition at $x=0$ and $x=1$. During training we will enforce this values to match."
   ]
  },
  {
   "cell_type": "code",
   "execution_count": 14,
   "metadata": {
    "ExecuteTime": {
     "end_time": "2021-12-05T12:27:56.252557Z",
     "start_time": "2021-12-05T12:27:56.243034Z"
    },
    "hidden": true
   },
   "outputs": [
    {
     "data": {
      "text/plain": [
       "('t', 'u', 'x')"
      ]
     },
     "execution_count": 14,
     "metadata": {},
     "output_type": "execute_result"
    }
   ],
   "source": [
    "from nangs import Periodic\n",
    "\n",
    "periodic = Periodic(\n",
    "    RandomSampler({'t': [0., 1.], 'u': [-1., 1.]}, device=device, n_samples=1000), \n",
    "    RandomSampler({'x': 0.}, device=device, n_samples=1000), \n",
    "    RandomSampler({'x': 1.}, device=device, n_samples=1000), \n",
    "    name=\"periodic2\"\n",
    ")\n",
    "\n",
    "periodic.vars"
   ]
  },
  {
   "cell_type": "code",
   "execution_count": 15,
   "metadata": {
    "ExecuteTime": {
     "end_time": "2021-12-05T12:27:56.263878Z",
     "start_time": "2021-12-05T12:27:56.253290Z"
    },
    "hidden": true
   },
   "outputs": [
    {
     "data": {
      "text/plain": [
       "({'x': tensor([0., 0., 0., 0., 0.]),\n",
       "  't': tensor([0.0542, 0.6991, 0.6858, 0.9563, 0.8001]),\n",
       "  'u': tensor([ 0.2971, -0.0861,  0.3490,  0.2311,  0.3434])},\n",
       " {'x': tensor([1., 1., 1., 1., 1.]),\n",
       "  't': tensor([0.0542, 0.6991, 0.6858, 0.9563, 0.8001]),\n",
       "  'u': tensor([ 0.2971, -0.0861,  0.3490,  0.2311,  0.3434])})"
      ]
     },
     "execution_count": 15,
     "metadata": {},
     "output_type": "execute_result"
    }
   ],
   "source": [
    "periodic.sample(5)"
   ]
  },
  {
   "cell_type": "code",
   "execution_count": 16,
   "metadata": {
    "ExecuteTime": {
     "end_time": "2021-12-05T12:27:56.273971Z",
     "start_time": "2021-12-05T12:27:56.264602Z"
    },
    "hidden": true
   },
   "outputs": [],
   "source": [
    "pde.add_boco(periodic)"
   ]
  },
  {
   "cell_type": "markdown",
   "metadata": {
    "ExecuteTime": {
     "end_time": "2020-06-21T10:30:37.002062Z",
     "start_time": "2020-06-21T10:30:36.956196Z"
    },
    "heading_collapsed": true
   },
   "source": [
    "## Define your solution"
   ]
  },
  {
   "cell_type": "markdown",
   "metadata": {
    "hidden": true
   },
   "source": [
    "We provide a basic `MLP` class to impement a Multilayer Perceptron as solution approxiamtion to the PDE, but you can always define you own NN (just be sure to match the number of inputs and outputs)."
   ]
  },
  {
   "cell_type": "code",
   "execution_count": 17,
   "metadata": {
    "ExecuteTime": {
     "end_time": "2021-12-05T12:27:56.284250Z",
     "start_time": "2021-12-05T12:27:56.274724Z"
    },
    "hidden": true
   },
   "outputs": [
    {
     "data": {
      "text/plain": [
       "MLP(\n",
       "  (mlp): Sequential(\n",
       "    (0): Linear(in_features=3, out_features=100, bias=True)\n",
       "    (1): Sequential(\n",
       "      (0): Sine()\n",
       "      (1): Linear(in_features=100, out_features=100, bias=True)\n",
       "    )\n",
       "    (2): Sequential(\n",
       "      (0): Sine()\n",
       "      (1): Linear(in_features=100, out_features=100, bias=True)\n",
       "    )\n",
       "    (3): Sequential(\n",
       "      (0): Sine()\n",
       "      (1): Linear(in_features=100, out_features=1, bias=True)\n",
       "    )\n",
       "  )\n",
       ")"
      ]
     },
     "execution_count": 17,
     "metadata": {},
     "output_type": "execute_result"
    }
   ],
   "source": [
    "from nangs import MLP\n",
    "\n",
    "mlp = MLP(inputs=len(pde.inputs), outputs=len(pde.outputs), layers=3, neurons=100)\n",
    "\n",
    "mlp"
   ]
  },
  {
   "cell_type": "code",
   "execution_count": 18,
   "metadata": {
    "ExecuteTime": {
     "end_time": "2021-12-05T12:27:56.294481Z",
     "start_time": "2021-12-05T12:27:56.284971Z"
    },
    "hidden": true
   },
   "outputs": [],
   "source": [
    "assert mlp(torch.randn(32, len(pde.inputs))).shape == torch.randn(32, len(pde.outputs)).shape"
   ]
  },
  {
   "cell_type": "markdown",
   "metadata": {},
   "source": [
    "## Solve the PDE"
   ]
  },
  {
   "cell_type": "markdown",
   "metadata": {},
   "source": [
    "To solve the PDE, you must first call de `compile` function to specify the NN, optimizer and optionally the loss function (we use MSE by default) or a learning rate scheduler."
   ]
  },
  {
   "cell_type": "code",
   "execution_count": 19,
   "metadata": {
    "ExecuteTime": {
     "end_time": "2021-12-05T12:28:47.826910Z",
     "start_time": "2021-12-05T12:28:47.793223Z"
    }
   },
   "outputs": [],
   "source": [
    "N_STEPS = 10000\n",
    "\n",
    "optimizer = torch.optim.Adam(mlp.parameters(), lr=3e-4)\n",
    "scheduler = None #torch.optim.lr_scheduler.OneCycleLR(optimizer, max_lr=0.01, pct_start=0.1, total_steps=N_STEPS)\n",
    "loss_fn = torch.nn.MSELoss()\n",
    "\n",
    "pde.compile(mlp.to(device), optimizer, scheduler, loss_fn=loss_fn)"
   ]
  },
  {
   "cell_type": "markdown",
   "metadata": {},
   "source": [
    "To solve the PDE, call the `solve` function with a number of epochs and batch size for the optimization process. It returns a hitory with all the tracked metrics."
   ]
  },
  {
   "cell_type": "code",
   "execution_count": 20,
   "metadata": {
    "ExecuteTime": {
     "end_time": "2021-12-05T12:29:39.872591Z",
     "start_time": "2021-12-05T12:28:51.792210Z"
    }
   },
   "outputs": [
    {
     "name": "stderr",
     "output_type": "stream",
     "text": [
      "{'pde': 2e-05, 'initial': 1e-05, 'periodic2': 1e-05}: 100%|██████████████████████| 10000/10000 [04:42<00:00, 35.44it/s]"
     ]
    },
    {
     "name": "stdout",
     "output_type": "stream",
     "text": [
      "Wall time: 4min 42s\n"
     ]
    },
    {
     "name": "stderr",
     "output_type": "stream",
     "text": [
      "\n"
     ]
    }
   ],
   "source": [
    "%time hist = pde.solve(N_STEPS)"
   ]
  },
  {
   "cell_type": "code",
   "execution_count": 21,
   "metadata": {
    "ExecuteTime": {
     "end_time": "2021-12-05T12:29:40.253374Z",
     "start_time": "2021-12-05T12:29:39.873616Z"
    }
   },
   "outputs": [
    {
     "data": {
      "text/plain": [
       "<AxesSubplot:>"
      ]
     },
     "execution_count": 21,
     "metadata": {},
     "output_type": "execute_result"
    },
    {
     "data": {
      "image/png": "[encoded data removed]",
      "text/plain": [
       "<Figure size 600x400 with 1 Axes>"
      ]
     },
     "metadata": {
      "needs_background": "light"
     },
     "output_type": "display_data"
    }
   ],
   "source": [
    "import pandas as pd \n",
    "\n",
    "df = pd.DataFrame(hist)\n",
    "fig = plt.figure(dpi=100)\n",
    "ax = plt.subplot(1,1,1)\n",
    "ax.set_yscale('log')\n",
    "df.plot(ax=ax, grid=True)"
   ]
  },
  {
   "cell_type": "markdown",
   "metadata": {},
   "source": [
    "## Evaluate your solution"
   ]
  },
  {
   "cell_type": "markdown",
   "metadata": {},
   "source": [
    "Finally, you can evaluate your solution"
   ]
  },
  {
   "cell_type": "code",
   "execution_count": 22,
   "metadata": {
    "ExecuteTime": {
     "end_time": "2021-12-05T12:29:40.272835Z",
     "start_time": "2021-12-05T12:29:40.254300Z"
    },
    "code_folding": [
     3
    ]
   },
   "outputs": [],
   "source": [
    "from matplotlib import animation, rc\n",
    "rc('animation', html='html5')\n",
    "\n",
    "def update_plot(i, x, u, t, p):\n",
    "    ax.clear()\n",
    "    pe = np.sin(2.*np.pi*(x-u*t[i]))\n",
    "    ax.plot(x, pe, label=f\"exact (u = {U})\")\n",
    "    ax.plot(x, p[i], '.k', label=\"solution\")\n",
    "    ax.set_xlabel(\"x\", fontsize=14)\n",
    "    ax.set_ylabel(\"p\", fontsize=14, rotation=np.pi/2)\n",
    "    ax.legend(loc=\"upper right\")\n",
    "    ax.grid(True)\n",
    "    ax.set_xlim([0, 1])\n",
    "    ax.set_ylim([-1.2, 1.2])\n",
    "    l2 = np.sqrt(np.sum((p[i]-pe)**2))\n",
    "    ax.set_title(f\"t = {t[i]:.3f} (L2 = {l2:.5f})\")\n",
    "    return ax"
   ]
  },
  {
   "cell_type": "code",
   "execution_count": 23,
   "metadata": {
    "ExecuteTime": {
     "end_time": "2021-12-05T12:29:40.284237Z",
     "start_time": "2021-12-05T12:29:40.273907Z"
    }
   },
   "outputs": [],
   "source": [
    "#t = np.linspace(0,1,10)\n",
    "U = 0.9\n",
    "\n",
    "x = np.linspace(0,1,30)\n",
    "t = np.linspace(0,1,20)\n",
    "u = np.array([U])\n",
    "\n",
    "grid = np.stack(np.meshgrid(x, t, u), -1).reshape(-1, 3)\n",
    "X = torch.from_numpy(grid).float().to(device)\n",
    "\n",
    "# X"
   ]
  },
  {
   "cell_type": "code",
   "execution_count": 24,
   "metadata": {
    "ExecuteTime": {
     "end_time": "2021-12-05T12:29:40.351498Z",
     "start_time": "2021-12-05T12:29:40.284981Z"
    }
   },
   "outputs": [],
   "source": [
    "p = pde.eval(X)\n",
    "p = p.cpu().numpy().reshape(len(t), -1)\n",
    "\n",
    "fig = plt.figure()\n",
    "ax = plt.subplot(111)\n",
    "anim = animation.FuncAnimation(fig, update_plot, frames=len(t), fargs=(x, U, t, p), interval=300)\n",
    "plt.close()"
   ]
  },
  {
   "cell_type": "code",
   "execution_count": 25,
   "metadata": {
    "ExecuteTime": {
     "end_time": "2021-12-05T12:29:41.699117Z",
     "start_time": "2021-12-05T12:29:40.352517Z"
    }
   },
   "outputs": [
    {
     "data": {
      "text/html": [
       "<video width=\"432\" height=\"288\" controls autoplay loop>\n",
       "  <source type=\"video/mp4\" src=\"data:video/mp4;base64,AAAAHGZ0eXBNNFYgAAACAGlzb21pc28yYXZjMQAAAAhmcmVlAAC/uW1kYXQAAAKfBgX//5vcRem9\n",
       "5tlIt5Ys2CDZI+7veDI2NCAtIGNvcmUgMTYwIC0gSC4yNjQvTVBFRy00IEFWQyBjb2RlYyAtIENv\n",
       "cHlsZWZ0IDIwMDMtMjAyMCAtIGh0dHA6Ly93d3cudmlkZW9sYW4ub3JnL3gyNjQuaHRtbCAtIG9w\n",
       "dGlvbnM6IGNhYmFjPTEgcmVmPTMgZGVibG9jaz0xOjA6MCBhbmFseXNlPTB4MzoweDExMyBtZT1o\n",
       "ZXggc3VibWU9NyBwc3k9MSBwc3lfcmQ9MS4wMDowLjAwIG1peGVkX3JlZj0xIG1lX3JhbmdlPTE2\n",
       "IGNocm9tYV9tZT0xIHRyZWxsaXM9MSA4eDhkY3Q9MSBjcW09MCBkZWFkem9uZT0yMSwxMSBmYXN0\n",
       "X3Bza2lwPTEgY2hyb21hX3FwX29mZnNldD0tMiB0aHJlYWRzPTYgbG9va2FoZWFkX3RocmVhZHM9\n",
       "MSBzbGljZWRfdGhyZWFkcz0wIG5yPTAgZGVjaW1hdGU9MSBpbnRlcmxhY2VkPTAgYmx1cmF5X2Nv\n",
       "bXBhdD0wIGNvbnN0cmFpbmVkX2ludHJhPTAgYmZyYW1lcz0zIGJfcHlyYW1pZD0yIGJfYWRhcHQ9\n",
       "MSBiX2JpYXM9MCBkaXJlY3Q9MSB3ZWlnaHRiPTEgb3Blbl9nb3A9MCB3ZWlnaHRwPTIga2V5aW50\n",
       "PTI1MCBrZXlpbnRfbWluPTMgc2NlbmVjdXQ9NDAgaW50cmFfcmVmcmVzaD0wIHJjX2xvb2thaGVh\n",
       "ZD00MCByYz1jcmYgbWJ0cmVlPTEgY3JmPTIzLjAgcWNvbXA9MC42MCBxcG1pbj0wIHFwbWF4PTY5\n",
       "IHFwc3RlcD00IGlwX3JhdGlvPTEuNDAgYXE9MToxLjAwAIAAAB48ZYiEABX//vfJ78Cm61tbtb+T\n",
       "z0j8LLc+wio/blssElFHoAAAAwAODDE+tgNUQ0NtZA5CvvACHuIH5YXuYPNG3gBqBU3zTZzK/SCz\n",
       "nRSLognKorJsYolZyicJOwA/BP4MEJuyf5sDtoEZaFTkCHL/ZMqHJwJFgIDEjQLa0UkFqerPdkFg\n",
       "7TP/Nt7mCtSMh0FD1pAVsV81XrIUg58ffTa0h6XM2UbBO7zncSZ6SbM3w4UB2to69OEZ3EBIDppm\n",
       "vPSC6qX4rpMsNZRq2gIVbtgxwGmh1WjxHW2ZiZgXgY0TazX5rhI6nwKJEhMps3QDeSflOd1WIiOy\n",
       "XCvDU+y378lXWdtKOcB3eAWQpHGkOX4KM/yI+FCPyoy3e5HW1iyhiBw6gpTCI0ZThWnMin8GWCFQ\n",
       "MvdMTKPjM37Z2zrQexwN8j5xyFsK1WTnlY57gq4aarblZxfFitL4KkIPFMOksiZLRFMenLLOWwhA\n",
       "dmVxqMcKd6gIi0lE5cD0DZm+UHPtsGXJfmK4AWOf+DRMtmcmt6oshaJTv/CTxAmHV5Mk7uib8XM6\n",
       "pv+XSMqGwbNP8/f+4HTvvsd11DDNK61c/R2vycRAKGYlkExVXshhpMdi4Y7/MEL0IRaRvoW4cOur\n",
       "AxjGjlmD8Uwp7bQbhyvHCyuT3NsEeHzlC/3OTFshWEBnLManCLKnXgSdqmX42CenWKVwhGeSDE4v\n",
       "7qGGroKcbotbWXI6FqH81jQrfxV/afidcHWl8TTp0cwni5uoIUxXqvSNP5qnMKrDropueFGxHRUz\n",
       "NIwIxiv4SV23WGWxuYiu+nenX1SNpsQ/30pV0MPKAbpmTG1w6S5jCRTXxounjiWJ0vK4hU/7Vy29\n",
       "wJsJw3nvTqBgFY6BR/qB8sV/V/R5mAKh6RTI7zIglKW6kb1Lv5Ce8HFVpLNk8rpJ78ZwoGEe2eh9\n",
       "sIJNoaSAmEJ1/3l4s5ZF8pGi+T5zjlPkHz6gZMjGYcZ++Pq2vQLYXczF3WMwWobbHK5SPnO8EhsU\n",
       "hJPQk8+YDXF6q00nrVgDX5BMcQqMFxiH6NY1bdVZ+3888TPK+QrzN2t6MZlekuskCV7dbKXcVzOY\n",
       "pg8qzX9hlhSfuGo5NvLkitzWL+BkoUV71nlnDI1D6nhkGeg8Oy6wrPLxZNnsZe0DIBJqHvlPrY8J\n",
       "LTVtntrKE2922SBXWQC+9rT1NrvDecN7msYq6XTz32kjx+Kc9s8VTm4UfLDTpk0pJg90v2rLwR3q\n",
       "Rbcu5aG4+qDze+JD+sjQycj6SeG1PzOoHbOBxNFwUfmi28fNYY6C+1CRiwDYkiyL4axfn/Vf037A\n",
       "9jij+P4BOdYzfqM6fNdmVTf/ilitCLWimh/az5QnkiivHfcI9kUVgtuqv/VOZiT6UNRTiEIfG4DZ\n",
       "sMKbTEe+eMBM/9LWBhlkPZebfFESfst67su2t0zAhguM+XdNflThx3ALEX1C9wWmAhf4e3QITsfY\n",
       "QAilYUQBkbdtZw67+jw4IomQBrcYyumolbura/nmdTSo87WatLCCONnB7Hzf6i9aNM8iekLHf3Mz\n",
       "5KEnwMMGl80cy6AnkkS7Oiapqa5hg1fhxNJGppMwpiaIdzNFFWsHgzPAb6TMOT/4FXphm7WWWfzY\n",
       "3ogMv2M1wpkv/tcj2t2h7wKUXXOD3mS70GczfsMAVIkDUMGLnpQfKKIkX6UJ+AZcyuXd2xWoAKei\n",
       "V6w2vLQm4tiFXkceujfrTscUHqTTRCtYsVQ/NXGWd5GOnuKKKehuNp0zm8HDe3Ue+/fQTBv4uf67\n",
       "57BtLuU4a/xYcozDx8wy8FWx5cg9G75VG3p27z1L58haJl7Y5Ox8vjCZcmqlz+a8dR+Eu70g4A5T\n",
       "w0ma/0pT3QiIKZ4cn2b/qTHYP0mqQPPOjzjHUpzRSMNk5kx8wx0gZADpujqan5jUBdNW728DNFSy\n",
       "Tw4tx//tspu9ESbuOOhb1eo500umY+//Cx/LpxRuKvvInBDGeWuFaC5ZTkzKn2Vb9vTgS6Xy58eI\n",
       "Le7NidcbEdebmoni9T/vQG8dagB9u+cEk6fcJ+dwZqe5Dt9cgnBshcAgfywrJ+1s9j8aWCIJKUZD\n",
       "OPtv8nq4+DiruGCsSwTD09UlBALOAm7qt7d/pBeXYPU9r/V+qCQNDGklIikB8/wjPlLploiEXNgS\n",
       "KL1v26O04AsZ7mbFM7jv5IzuLFju3HIvFwYkv+viXmDLtuCulc1Nm3RJrhBQ7pACQv0ai3AYT5iq\n",
       "3O67j1+YZEDyMnrsDbwo9/5aHwX9BxiIzAV7oj391cth1HzvSP9PTXLPYURi5kH+5fGnoGWUG23/\n",
       "iAKvwMku624po2zPtxQ1mbHntI90ZUs0FAz3sChbBkEuhvCCdM+5scyz8eVUCNO21+6diNTKAsVN\n",
       "Nc6V3zUJyFDG6AjHNJmKp1qIX+WkozXsl1O76VJGzu7AH/bWKnjYmJJPGd9W1teyXZ+xq3IB/HqJ\n",
       "/7Zhzz/gjcjKhLhUWGjVMceBzlRpYIj3quhuUYgiz+6breiXnoZqygSkGV6ghuXvQBH5gtE+LeUR\n",
       "zAUX1UJhA4wJycBhZTOnS2wh369R5/ErruzpQW1qpcQNugTFgYw1IhE968yPR4ehlxAu+sSMjGe6\n",
       "OkzclqfjX4wQRMyCqHpTTNo+S0oAP5fuZyzaKISEcW1OR5DGB+aGf3MCCJfwaOzlLwSvLDlz9G0v\n",
       "fxhaK3wUDjxbs9n0oIJMbydKc9CWi1IPf/uCcS8WuOWhNR1RPsHtlgIj0GAOzXLs+9PvGWdtwN1y\n",
       "S2YCgTK2m+ItgfS7iDc9El0+d+EafjbJE42vXDGXLAMUe22jVoWgrAD1zNk27l7R5aufb4LH5Rgo\n",
       "zMOOLz/s4ukdvNFkky21xJad19fMHonK7yTbscePYLUQQHiMJH0GjZfDDB65YR7ts3ckgUbdBjEU\n",
       "0GXCk0X4GyV3Oq1U/OyCWXB0gizzBlFiOywUvaCnGnrcP4YoPXFN02cN8X3XNTyH3OS/5T7Y4aJ5\n",
       "pzm/UKC8/MJCarQIzy+J9OdjHMEfu70b9/0JoUtH3R5vrH1NRF8zsMIAjZgcLhJaZbIkxoc40lM+\n",
       "wVN80blOWkmyf0Mxl6nvtMv8qEmkaE07X2nWm+Ot0WAbMn46CjpKsQf0J2qbknIO89ivq70Bh75a\n",
       "2hzvX2TYCrsApiCDmsDUEmGWcYk4jOhhSpAns/aM1UhE3maLgDk7dpZX7pJxhSgCBEXi9cqFoQIi\n",
       "U0pTwDNcRakWA3ekv5SKf11nK9miNsytC9mffrbczAyX2ZjpvwP0FCZU4TrAnHaxOZcmf4JJgrMp\n",
       "o23qXoAFwbRTT/ijxHPgan1Y2KfNaWCuI91cKPfHBWhf1o3z0VNf34iHJn1uPM6JabXqSOzoX7Ah\n",
       "iSxo7YDWf7LH6eoyCg0iiJsCqV9BTTGBZe5A2yuJbDH5rQKVyHPkVbBEomE/BzZJmQ6Vu9OMSYR4\n",
       "/5ocDrEDpITrn0ntA5MwDF03rDCF/EpXk27np4CQ3cVd/7xdafewVyb0BQCu+VYxYaZh+dwhZxgo\n",
       "iqAD8poa3Wue3f7DIGrD/b4qpck6fxhYLQm7a8d6CqJRM2anBMLoG4DOOSnMP/iR0Q49YFXCAsmB\n",
       "CDamRnVbSt5FbFeIczZAhKHaWYXAEFJNTMDCEem6rqPOXRlxty2u5TMk0x8cgTkQt2CKm4XfYe1G\n",
       "KwPnqbMfpw1YRfqip9glb16DDwVuQ7ZadpUCPmrEyFuP6RKsDTc2zgZecbSSLj7WLEpvU7eopK9Z\n",
       "4uPOQ2yjyAQahEyy0SQ3zwZVniI8BCwVeJfgsFvevnTqrBDPvR4f7HsLpHx94oS/YfqAwR5qifFd\n",
       "N7pqpdZ/FdyGXRKth48Okc8rlByCa2ub7jYRmG+tyzEC9hMsQU4nlDNwPXAd6I/0OqW1+0BmyDee\n",
       "KDWXzkWS12+//er10NGuXnkElJGEgQBkbpUNotjaIcl6csBO+aAIxK3g7/+A60tMzPo7C2hTpM/f\n",
       "PjYRJ0YH9PDkKYA3uGRV0NRASqODtZaxaVJvgtQ0xoN5EmVur7Ye2hecC1XWGakSNFEeh5VgV+6R\n",
       "auxYvf5jboPAlIwWMtaQl/xdKRXT5eV+PrhyuWxICPnK9+hKgTnVoKIdX0zX2HwfaO43/8/4+H9V\n",
       "gy9lSz8lj/TrEhs6/y7SFQn7EWx/MuwyhHk1o/gFQej7/z1r9IGRxvOHFX1mDWIbtWQnXpr7WmQF\n",
       "5Dlw5wypei9B7VXMXBtdxb/Vx98mu38H+3vuH/RGFwydzIOJJ1jxAWdwBwUX4KqsDZ4RMdn//8FD\n",
       "WtChVFQJhOGWau0cvX9j1HELPV1HcYNRn2xO2kktU1d9VjRrJsMA1Flx9q9pOfixTxKeSWRa49X/\n",
       "DHjwAl1XtvWou+234se2bSYyWdTjF1N991SftTZVeqCynHUQq6v15qcl0gAynjyJRiHHFubH38ul\n",
       "RL0PS+zwF9gSHHe0T8qvJfWzA2t+AHE7Bt4sZHSAu9ImWomn41tA888q+PUGmu+1OPbClm8s6spC\n",
       "btX0oZ7VATKCmW0nCsysFQ9TLcQJeI9A+L7otspUzbJXS8kcAX0IHETXT4I3T369dwyX2Yk4pPG7\n",
       "948MYgKGwJxIUirpDUB7Ix0p7dJBYPpofwtNkHi/crY5JXHkiAbuFxxnwKaYH6ON9GcfQklbMKxq\n",
       "sI9IewS0g+VGvKnx7UztK8ZyDkoco/+B/+k27YKoO73eETJ905aBN6m37JmDsdqiNmKvlvzoxJkc\n",
       "lp03FW6pSWEU9+PfK0WaokMd5gA+hqiJkuk5Wcjm7cnOMYVfI4Mgld0fH62/xYgAflz++ZqqTbnp\n",
       "imIKpLNZdicADIxV25MWgF6D4mEYtVdYkc5n5Oam9XQlASJNIJ0dZv1hE1jw/YQeU4rLRaNC3R0/\n",
       "Mk+QpPdhq5l/yv7fnS4nybBvEt3zrU5Yb2qRF7yqybSROtYzRQlNsjsynQlHxXaqPuUPNn3IXERz\n",
       "hmARUKbdQGzLkm/koyasjYKNS7uSrWxg+SFa6wNHpiKwj2G+eAwY3KmVlywcS34UXmCrouaekS2e\n",
       "boM+jZTbDvHK4aYLQOc5XKHfNT5x5Pi1q3zdVRyDI3EpEiPv7kOqXVlh/mybfWfWp+SKF/THv2a1\n",
       "XfMNdM7nBlk1QrF5ifY713u6fmtnIhwIf97Z8pfdwP57/AvqletYunR6kr20nWerfUNDCFoKinKK\n",
       "YWKEI7ieb76QxvlFlyTai86p2yOUFh8BEZowsNKrozwAd1DmiNxaE7NbCvRX9I6ci5bQv/xvcZf8\n",
       "1arzRtVXTzO44lId7MaKtl2hGGihtBf2qBBn5ctSVEm/vBoKRsK7i8dPAoZdjGXH6Kv0A1VReOr5\n",
       "ozQowE5MSof46RqJ+tkXUgUDF4IyCim7u1+w1f5OTYkR22/9rhB2ll8VRETSIXsjmkEtkyJV3EmD\n",
       "iM6+6GCRqgQ4Fn2qJTlAIsH4uRwKKHeFi+UE0mjmyJmlYUB/pagnb8wSndXnyrFUtpCm1jEw5T+L\n",
       "J0LVRujVHMSD0gUCiE/MUucU3y4d7uUqMNiJP6CL0DmDqeu6gCbv321UIW9r9QqJqbgfhuoO1uB7\n",
       "jBoerIRC5mYvNqDfpPQT2e6HfvFgdUWZmC4ASvU40BzJr8uh+kN2NkhSCVv8ykL7jj2cBf1+9jXv\n",
       "Ik5P72GCnOVQZvw1FWNWCugB0Yq0QesiwW5B8qAcQaB0eA+weR18CKtVsbD8h8lT31TMG/rISz61\n",
       "RO4V1AFRrRrc10sMvAD/IIA5f/5fEUjzeJ83u5uZ6zUTOiHfb20BqkeR7vcho851yg53sDtMQQsU\n",
       "ViBRNxD1n7czy1hJLPNNFULNBl1nW9OKwxiQyu642giq3zVdcqZAfc7V0+Bc0kDCumHYY27gysOE\n",
       "jivI8jaPBt2QUGf5dO6yPyyd1qdXiSjLUOU+Kl4libLiytLDfuekCrbTCn7emQ+QYd1DwfIxywwF\n",
       "LpsuwQ1nTZ0TuB0BBjBfa/X5m6Tugqt0c5J+2czjfCiwyzpaeCBfPnIdflErS4x7EzF4cW2tKoid\n",
       "y1oGSQ8fA3H5O/2PF3Uv/PaXiLvF3xZJdUeTJQ7OLZ9xvI8sN2gd73F3rBhMzv6DJUxXWQV20Lpa\n",
       "iidLsG3JS9uMtopWYaNigaveBaJY5t9XElgW2heeuX/SCLxmL4T6c+RB1wRSuKW77h/hT8YrRPUc\n",
       "4ZVfT5W/uej/z0XBxaBY+/PsB09cPnL24xXtaxxE4E+KEMBk6MX/1gg8aLIuLsLyeGUeOC7oYLXv\n",
       "gLvbX/mdmgfUnUJ6vZ9KM4hb+ofq8aH9hBa8Bszt2qIB4YfEGr3s2rN1f2tu9EfjQqGSZNNaqPtk\n",
       "nAh/4Gly0JK9Inuxzbx52zzEMYgJ5ECRLsAk05hGjNeAVkWyYERZJpTRWW9p1pBrSf+CZUoC/6ly\n",
       "oPzXcG3SDhvwyvRJHunL8CqpyeIPAG3AD8haU9h0TlSebSdBgMYoch2Cc7CbQO8gQH7r9mnNpmg6\n",
       "U9uodtjky29umKFZ0gMxxCtW65iOezi2qTCbAmEguUOh5rH8lFgwypQOQ3m2gKHQIuA1BiMy5eKw\n",
       "cezuw3Ehdnkaa6FjlEm7jlUg795hNhX3Trlrl/44Ao+i+E08VZFVnaq7O4y5xf7dgR/v94rD6HaL\n",
       "k+9gSGMFPXxOwuAFYrcc7fDnI4iR38n9G2TKtGIzathRCmc2uOJazc+LDB5p2Dmm35sDV0ssxqhf\n",
       "igjRFK4Uy1CEKtVTPNiR2QsFF5JlKXCoyL/7cfnIHLRL71PJGXe1/52k+lrA3lN/PzhI2MPmed7S\n",
       "vpzVd5e7+k1QpUEes8N3rKRmEqSF9cxKXJ57k2jKgoZvIxJkejwHHUJsMAj9KZ2JTdYz1G/QshNk\n",
       "qWEY4FDXTUh37AJmpCXc0CGlqx5bo2+DIHVhgVTlIG7gbgsC97Yec1hIAdRaJz7oB9SbmLAvYPeT\n",
       "rXwthp/w0RVnSjBNKl7B3jmWHrIybpOPd7/DvQjKrS2+hejBAHOnN4ax9P4e/F3tXwAFpbAMuJOq\n",
       "YFT3bZvgTEB64dUn2vVl2vXo8KrGYCYKCjd3NpdIknsXXVODxNPNVv+zU6zQymHC4v1WOn6EOeCE\n",
       "3+sZ8kE39R19tZdbs+RlNqHj2eFXZ+xhDdGkurryM2eQ2OXHOw9vkavv7vbavBERj2dc9vYuX1mS\n",
       "B6jvML22+uVavWcL2NDvQne4mRc+87NNAlBuoJGxgUP7r4KZUd3GXyrtftTr6hOe0joZifDCB7ao\n",
       "jBXarpR8RmbCF1bh6iw8QZQvoVywo+HYPSfexquVwKOPkGuDRwrnesjLww8faOpqn+jPiUK7HWZP\n",
       "QD/KYI+zao4h6jssGLKYO/I7rKg2awgPp4WEeE8k0QEArNI2hNPnMpy9R8H8e/LGS61bXTnbYGk9\n",
       "bR3/HRFaFjhrPppf2Ec273Omnbu/LYtki64ibZrpDpqFVZKaB9oI6xNJWEQ3pfXRi1nP0E4dezVk\n",
       "4MgPpNmeKMUMoj3/CFZ5rn97uFh3PjKikMK4TXkCamZpDveP09P38oqULzbyk8TgExbsa8O5rGvm\n",
       "pfCI4QoUgLJQCPqB5ax5byEoNqTN+keaIA3CMnJtdeqHguX/U6aUajcSuRdf8JVYTrUChEdSWu0G\n",
       "mTBAEEQ68FoC/qA+u8Gd867PqNzfys6sU3Rm5HQBlSzKimI8+yyAAAB7NAHC9MKE9GFz7QUUdrR6\n",
       "xsa7sxFu10f0e0xjj2qalhqhp/eJn3ui+Sq9j6Axg3tRLx3KastSM9LKTWPhFGx6P35tPx+r2wkS\n",
       "KYkRyNA5mjYxJtnHRBvMILcnnaIGwHLTBW+BgLw0EEUpRpXNXn9ZvjYSz9oyGiOqFEu52veSGXxC\n",
       "HpOEdE+X170MSgFizmzfREVzXaa8i5ekNrxBY0+9yuT2ximpljsmBak9anJnZZKdL9rHu+Xhnf74\n",
       "r8luwlH8kPznMgpaJqD92BiQESwQm2PdOhzQk16Ect6NZywNOGzOlA288c58lAOYXXxKgCJTzlES\n",
       "sGbI+oMmZXq3VoNpG7zCcezIa2wCBex15+wPhLx+effe/1ETWfTGeosi35vPHUWxcejfWsMseFAA\n",
       "FX73n9OTQbBHV47HiaUxF8rAbNtfE2Ta23x3COGnw6IJx+xcqVaTKzp+Q7UNEyhtfZlDE4vy+1r8\n",
       "SzKlOIyY9TlqDRyWtRfdoxI5AqgNL37dTNrLZ9IkKov6m4copDROzn1RUwj8PN6tms+yyBBxrfyK\n",
       "kdYLDSMeuENGlo4W4go08ypwu1OY+5MzoXqhBnDaaGCTQPurr+yK57PDuGPMD50gdEScT/BFdKTQ\n",
       "GJPobliQpkW/+C2sZcyo72xqatcVBkryeqi31UajeZSn4jNNb18+vFNQEHjw9dPfakSYwZpr/Vuz\n",
       "1mFk7gVX0mEObANwy5G4ikSUWhmyliniASJbXdWxr+ZpHEg/zaRIswVuNee88yxOGrgXW+l+iQfJ\n",
       "GCiEtr2FjbNb5w4jiJXzJx6xI9/0Y0EykNTpmJC0il8UL53v+njZ57LbUCGZ2PZG/GsEFL4jb4f+\n",
       "QSLsvOD9IVTIUD7xe+zHcXW+mEkozmwGyA9ug3YjMbD3sn9jOUzSqDPE0BJ41jTSPO5td5M7wvA0\n",
       "FoJBSRJBlq7PzZ++Wi2TZXwn68PCL9U8vMEMLGHnfynQ0j6uLFw/0H3zm7bdtCVxhNrCOG3Qwh0w\n",
       "Zo2ELq2cAP67u1mi/aKWRUmcUESEP8f+Am6HcvUKEDlG4f5GRQYG98KPEcg/IYwJI5PY4Y8U6VxS\n",
       "PJhxKyP32lVs7/lrcHJSV4L9I3mTsylXRdmFBUu4dkJcgeqkiiqiiIbL9FfzLhP/ZUtXAawxpsUF\n",
       "aXiUs7iwGBhosom48tz8Rm86iMclmwGWUMcCv4j0Px0VSlmnc94FsO2ZZsRD0PHaqeG+9f4Yxy5Y\n",
       "wAMr+A0ozI3yUlvOcgSbyWNf8/OfvzRdeJZcnCKu8W74ISL3unXzvV0sY0yo+BkmhwdFL85kdNFd\n",
       "Lyr7T03vGYpoq7C/zjUx1cBUWe5u3FRQy+Rvs+ks3aeUDMmDOVsiK9/ov2Bs0QyWp5/saIkWbXaU\n",
       "RGhh5BxvCvtFtfhzVbGp1G3Puiq3lLCYC3+gUYerWTQATbNLxmu0A8HuKZqcbbCg0iUwmFTnuDmW\n",
       "2AOpSViGynhbkpKSRYFdlbOPK/AQekiKOtPJSBlzzv0oJePCv6iOiGStqNbQsrw3gN2Hd4DQglrj\n",
       "+Rc5lWDHhv73qJpcPWMgD2C3RfjjBpbNMV6zEcjvffc8tfZkyvnOCQgVFqiea9kbejbGrEH1m5wm\n",
       "EnmSy3evT9wmVrpxTUOTzIZc//5bMRFsI61kzWq2PCAteYw5EinbxKLAhX6T4QGhwbaAzeitphf+\n",
       "4JZ5eMPaJclJjAtvvFBWWpiXeRykp5dxyaqnPQaQ9+7bD1DHhnf9JL/rnJZbWWTj9DPAnP8O/NCm\n",
       "tARxo91ApC4aIalxrR8ZoMKN5wTC8Bhv+pjjUWPNdGQucvC4GOn5TCunQRmZ2bWUg4Zj49dXk6ES\n",
       "bJbb+xBxihq/SmO4tBvY9CzebO3IGlw7KzYQglwYpf4Q/fxfhsDroXX4h47j4iepxKUeN++CXi8/\n",
       "FskTga1NswQvx8LbZ+y8B/xvFGuhzFk2+R/uQpv9Ae9FOj/cpfliETsXpzfxwGpPtCCafMDTE8Rr\n",
       "XwCrNVG9DPrVxGlVvcDPo48QQw4Po1iAhn+EBvsStvEJ1Ro/1MsYQbxw391JGA3APRq665Paq9Pq\n",
       "yfFSAcVZ9WjMyLTpHnY6TSboGyMiVVbMRxy7CVQNvkZKj3NaSQwutpPkyelpczF2x6nqR0WG4r1F\n",
       "r4RkKiIhAnVL8o7QRZ7AK8KGEPWgYcLrwWUkFot7L+mbCa9mqQZlzMMDpS5NanRksG88KeR4oWQ8\n",
       "waCci27zmEfGkFZPyysBOetQOeEiMNatUksfsjaHnifmdXFFAfjnE7OR72/v+DoZ9/8+4TcuO8gX\n",
       "4jzjOEH5aLMbMR2J0ipzkx2p448t9kSgyAYsD+KVCTb/N+rFFhYsnZ8GPK38xn/nJUBFrHmxP6vR\n",
       "wH0+Mu6kHXSimLkz1aCwCeYLJenuBKzeesJckVCEDgrD9HJTad4ZxPXbxIKM4bl934FfQi/nFq/f\n",
       "h+aCsg1gZSu53uPE3l9BoRbNNstoOn47AgPAe/6jGYOHNi/EbbsMTyyE+NDzZnszm5BBn8U6LhFS\n",
       "5NXsmyDe5jIpPwydYE4mmGftf41zaslKhcHeWbNP1VSvB1IzqKkmZ22kcInUoMEJXNLaZeOTgE5d\n",
       "7z6YKzKR5nh6UTwlVbG3lDUtqSps1Xc4zuc1AAAOG0GaI2xBX/7WpVAgPzFAA4x3O9b2GEVIEVEG\n",
       "FFcz0PI5MtpWu326F4UTA7LHvAoo7SOC/DapG7SABDW2OC5LuK6jWmbhLYgHZJOIQ9v0kqIAFBdy\n",
       "Ap9/Ev28ox225Crddt6SG/4qaYUs6bmuhnXeSqA5hCxiEqE/uJ9y+Q3aRViff9xr2+jotsPUr4kT\n",
       "1QTdWAD+TpY+DibDgKpBZf8JriYkpCQRQP3tBw8JIl+9yHiLqMWXnnH5stWnKdNb3tRZo7XqIXRg\n",
       "Y8s7xWwCVi1dRHgQ60KlguwsoqQzI7oFcA/U67//OcalNJKrqmkmXsJftV3oAuYM/lY1aPJBgZZf\n",
       "o3jnKBWxbc5Yf/1KIHMzauXjQraUH55njGtueld9b0pl2cRMkvMGT5TTe9VKlkcGn4i/sI+qBHQ+\n",
       "kerrPIo+TnwKx15VBNqlGTFfwIhNdHWxvZPVnwufVZbwUeFL65sxIsPT+cFcRekUlIBtkIPcmAKq\n",
       "B0tkIvi/3mBZJJRtxmDlVVNi7pJCvR+QSSj/bbjT71EKjPwntkjm4M4K5cTQmIVIfylczNF+menP\n",
       "TDZUX/kdXSdS2FeOh6RdUYdT6deOQFWlTeZuRlyQ/87RoWQJRBg46gHBMWBu7XbhNN3SWfWItV48\n",
       "MGFlVxzKWjRj6exIy1CoKLk9E5Xr1EZTse96uIozGaYhPGtOqCb7mszWf+U2Kek9tA4aJtdfSRLJ\n",
       "fXiQ3+S+IVfvupX71vhoXIygV2p+3RB34WErsO0UfCt8MxaiL8LDKAD/P+mTnVbFQmbxGOHQVIX9\n",
       "7ruySrZlYkMpenTyauZXtBQGp170zOGu9pB3mB0D3nv3hz+CdSmLZbiiA06QBTZwOkIpAMdllIkl\n",
       "77sh/RdK6FGCiuf8kocqysNwbyepoh0atEgy5SgFCbDErhPUQFI9Wz1CQn1TcSZLqGvK2g7R3+o+\n",
       "evWfReNzmqhiFYKyJRYCZU1zh00RcUEAYr4Bvv5pVSKDshS6xhJqvVF0Sl826qfX1w9eGQPjMqCm\n",
       "pQcK7QSU6lgTM18HB2Edzxa+2d2AAdyZtxIVs4Y4Z9s9ExRMDncChQhVSGla4qWtPEblB4kTxU+o\n",
       "fn71M4f2mO1ZzuNNdDRin3Q4UF1j1+K+hZewASYCjq/1KmZ+rl9rYDRQ6Ak37NcW08ciZmDwroGU\n",
       "1sMp4JV1uSFAbArbiFnsWzUuwmMipGpoh7e7MPmqisbFuI1hVE+r/k4AyuRYhlz9hDxTrRJ7FDkL\n",
       "0A46a/YkZ4LpkVwPstLhYuNhpzXw5LFo83IbDS8kqU+CwX3b950T89fVAmPm3TvEOhHL2U2MeYbF\n",
       "FNxDk6J8N9Xf6VIoMnRGlDccSuVEm6oCjfj7NnGI7aoqR+Tg/PEMIggEU89kUXt5+kXXRFZhaNAx\n",
       "VzLQQMMpGWLXFKz/Se/aDkx+QkgSS7Rlkr3vjPvao2tTT7nuSZ0p0VBkQNUkyW+wPAMmpHBuISgs\n",
       "+3GVSfmElh0vy4oXdIQ5eW1+bWvU2kBfvwHdadk1ZJj1SX22Ypx0ScFqQ2l1ouivBKTYEbnOeFjw\n",
       "q+b6tZ7X1Vdac83s7VM4L5/zXAeFYPF0jcw349DqxoDieHBds0aIJ24fG56FuzHnsSSG0vbuf4oJ\n",
       "c4Hbbqqsi8/nQwh5jIrOzOx9HHEuMFuwkgfG3QldnB42kGknccNPvTf4VRoO7cA6Ss83KToxcdsg\n",
       "yFc2w4QMfP1ne9lJiTa/ItbOw6pAGroFwqix8zmAsjh6kKZA1S/cFnF5RGT8aLCcacbcnKPxcbiH\n",
       "YKbIU7kYHtmBJAENTQ15kUi9O3yHmuylZ4dcCrNeiQQl2yqPJiq6lDBk6zVsNkbLSKDeAygvKdah\n",
       "myq0KouFbnlPN6qXUMQYvZC1HbiZ1UZCxKaDN8EkS6igRHrQRF/eBAmv9xSYEejZSXgezlwu/G2/\n",
       "SPlShvj3+ysgTUkvNg2scENsVV5xOyIXQA4lpNnN0EFUaP4jXipr620eANQS+GWNGs5KHm1El3mn\n",
       "gZnzakiIfhHlzsH/5MNnw7mGRQCtU/PTrVtF3dtrlcgwIA3nDaTEVz8BAmz0JhRYmKbdhJn0HRQX\n",
       "sc304fXn7GeKhzmNPN4JqO9NEO/+mF4w/GIVi0Rfi3Ne5XYxcE1ATkqf12szQshtZlRGEof26YgU\n",
       "bb+fGhzn6QzwJ4bldTNqhCmgFacmbBcQ9C9ndENUR18PV6GShAWB6QQm0coo82IUDL6V3fUBc9Zj\n",
       "Z2wrtV7EpuzuJZv9loh/dx56vJQO4XIV8q3PODu1f90r0ys4/tbbkjg/PiZRebvxAW03kKpvy9H0\n",
       "1gD4vYWPN73GJv3OPWpiKvNQUM0ze7z6q9u8Pk4fGSRt5mf84hUYion4pEnfiQzOCpCEBx2nW/6p\n",
       "+rNUf8oQeXBp2BLunFIjqK7j984E2zxft0I8/2d27jeuw6Z0tNL/gBO+Dj50k6MMnnOXRm4TdnQL\n",
       "HjhI43bTfEkipZpnlY32HdUR1tfUYgQsYMhBtgrg0xvd1XK///9sa0dJr12LRxlGVg56VCx5zpsd\n",
       "gLR45bHlls0io8UouARbsAh5dPPTn2qH4VshHvaZuoFy3B0t/d3KWS+l3CycXkNdV7pKuuCSOw26\n",
       "mCwXt2WEiFSqGgp+wrX9zCahCsdhZPydNiLGGT4E7RXqMTafCGSJOPE6maTi7nk8sXRepbCUTN5I\n",
       "SDyeqRNEDUK8JDGuh1pMqtm3sNYiO1JNDmMWFO/eVvvUXv8mlNmj+6BrVEjRJKPPuVViezgV5wbX\n",
       "BPBq9fzaU8bhCJI1/yWrseXgJNXfkagTtOLJLtEhjwkujdhr7uSET2324Hm/sa1CDVhomQ1ZFSG9\n",
       "M4CzRRUa5ftzGDN42yXdQoxmQosIr/Bp6Nhhq68Vns5k3kMgQXbb4m2Y1Aaqtj9YzggEXIjkTmJ6\n",
       "1xhQFn6NvBhmXneHCpYaMZ5rVRq/45i7G0BBqlsMKFfxMDEzaKBx925Gcbn9nICbmFF5dzraHoGe\n",
       "FToV8Pf90NSWTD4ZqlUh0RqGRzk4StiT75iTKWGlm/QwBddMYrwqHTUthBVd+eMSXV86ok0Sw1+a\n",
       "Mv2KykKc7ZtP/ciF/cEVdeRTDObq1oQKUaKiEvWVSoncmAbpoTrCQzdGZcmCT5QR6mYFYsQZYRzO\n",
       "E48dM4urHmu8MuTuzaLKcZZuiFZb6OfiXcWLbS9nGmT6MuGLLFcejgXZFhKJ8UmtpGaDYNSXzdTD\n",
       "E0ct0hFVxmGbmwv7X23y0JZ06mOIqvE5x7rlzMGXd4lHRMAOZd+Lqu9l8Ew6QuPi2pX1alVs4mD1\n",
       "GeMd1TTIBKfz1vaWAnElWxBuIjI4hWa51NKpALy0az5aJG8r5zhMEwpMwfsEBMF9z3vqieYQu8IF\n",
       "kRrc8CJ/HSirp1oNNWrqOikfxK6o6+kef+Pucp1n7BN9orlZRVCMGSbBJLvbCJ6jDshanxPeSJEE\n",
       "wdkI7+MDMoJatPD9Yj8pDTahWzTnvnOxRi+Tx39e3QeBBn0v0bFF69hMtTkkSeX6lhe934Sag3S4\n",
       "4fBmnpmS0UOxjhJf+0+Ikg4BIvPuknrjnpUNvDucWQiYxz9YTSosNLi0zZ6ldOzylZTFjzgvKs3T\n",
       "vSx0aX9TWD4XBa46ugxrbtLe/FiW1ElGPXdsbVFl6J7Tn2PfjiO19coJ3uaCe9/Ie/Yos+0B5sut\n",
       "TK3fW3nzxS0QtPFDTriOy+2oKJdENqEjR1UpJlqbiG1+0Dw0dHAqPo17Jory+5y1qMr3vlzkB83t\n",
       "St5dS9CJGmW5bCtTxHWV2qzHmnSr5pLE1Cof4GcAre3eakp/bpJEnreGw8MlBmboyfJuUYN8VoyZ\n",
       "j0qxT9hLQbN16bk9C0bZnFUNuNyWUEK6Vl7u+ewnw59hlhDQoC38ZmqDLYfnd6XpaO9BMWWNtN4Y\n",
       "fd3KzSO7Bab2GCLTteFEL9uHq81RQV0vq7Yod6XHdiskgUDa9T0j0OfwoOT64q/vgj2JvWHr9F9Q\n",
       "FXvba5HjBfglCpQX5zgAJoCq7WvUJV07aMT3hQ3//hzroxH5evO+axTpyXLdUg9RvYB1FtszrBOR\n",
       "kAZ8epg4WnhMEPQiCw31wwJcmuReTMIyTGOgx1dNNNQ36kZ8ZwlL0vqOpnI+LaLzP09Q//Lxkp+z\n",
       "XVCBJ4LPF8dQkvhbhS7DD2VWGfDaDUL7YGahd1bOgfad1zTwoTEM7GzPdEZKrgSdxv23gZnS1t3s\n",
       "D+K5D3j0yRpsm1Xsm5ZPWaG4nXTulSZKrOfR3OPfMML7FUSuPQnrp6TctnQBlrZZMkoJMN6Ph951\n",
       "e2BzFj6Z8RbVquMwLhUL1A+vZzQRUg1WPgd3RcFCCfH5ycvnFrvuLjWcBTp38GQ89xVHcVGmeM8R\n",
       "raSmrOcOeuJIRVup2ax1QLuLkdUbWF4NLxmgWdeLSC0VEJAQHWc1mKvVXQTYt0zSYf2pdxQV86WE\n",
       "DF9j4njvjXj8wp0WCnv5d/xqA1rhhdb18iJL704bU/9OEOo6oZ4MmaFl+Ih4ofpuXVDxOuy40AA3\n",
       "6rknZNOZ0HzsvKn/27uG71thLd8g5Ri8W8a0YKsTjjoZpEgjHpjUfkkR9rT81R47Hgdb6/KU/rLR\n",
       "t3QhDlZpn+Nm9Rv0yLDljiPQkvhMfQ7Mn5oYfdVjM5SWjuaI2C/r8Hk8jx6O3me4B6yNQWE6W/tf\n",
       "6CzRN/JC37487u4+l0QtD4SPk34XkVBjZNzcTEQUNWyaQ0FD4v35ZClRa/YMKY8KCJgRru7Afoqw\n",
       "7iZdGFXaY5+FUrAo1kA8CNK8NwDDvd1wBLKhN914xyOvk5Zv4Xf4Txt9ZLkBstL2chPtAAAILEGe\n",
       "QXiCPwAqQsG4AQ+tkfFhDZCi7ue7uNu19b2q/8V0lmLbnu/iehIiewmi2/O+7sDVdZrX6T2DOwT2\n",
       "krm1JqzXu6QgBMgUjsO9gz8RJCqHRKHsJRfAawi5YK+xtPUG+0FAvbYLlplLrtDPdd/quJd7SvAO\n",
       "WOUusKlQRxnIVzSEiSnpPFEsTKfKWQfQafj80HHVQXXWqaOzcJFOVcMYeYaMMT1B4YHcRAg/84wz\n",
       "yZzCsezOuXgAxQwDZOWfl+bEMw/eF6M9MGInXX5tgUpWXVFIE7HcSnTXX78plJ50V0f1YN9/9+4J\n",
       "mlWq4FLPpj6U3z72q9qw//ISNE2FZCP4Zq0eRu0VvzzzlleH3jrMY1ZyrdS79U5mNdF2DasvrJHb\n",
       "i0xnGBviE7ws3UH/LCPKjU27us8YZvQsffDt+hcxiTgNH9g/RxvkuKlQpwj7MRpq6Ihe4J/oj0fy\n",
       "g5a/pgGhf+CRoysVYW1enGcL1Pwl+JGClm6Gg8bEhevcxiXvCT2siAANjtLi9wmp612hn2tinn30\n",
       "91j4rjbBrmIswcVai6pxzAO+yPY2/9mEZkjhWKEaUVOqp1vPbUxRXyJFdqk2Ch4s9uZNyJwTuLQL\n",
       "o5zYqe6+0Qdxur8rx6XfakcA669Fy4v+uj3Uj9O8/IiEbpy1jvSP9cC3AqXr6Ch+/GQVWA1s8Wzt\n",
       "LehfANuBaa84JiepNz7WyoON4LJXVWpc6os4jZX/q9uKBqZSvKX91EcxrWnjIxakQOnJXPcm4POT\n",
       "Fj4gKsUlgnSBOzHdEncLRSG24+IT+BfZo0ASBt6C/fpbcr9zxwSXnv6G8UThMLVpocWMS4e4FssX\n",
       "mqu56Tl+m9P7qGYP3861wf9i/odrZKiNPv/irFmYDK+xnjYiKdgitBPNeLa2D70cYT5Q/0mmtjrj\n",
       "6qNrCuuDJefnCHldIr3uTnKKxA6NC8y6yzrb/7FhgCaITs2SeSekekFWIwhFdDe6Xht26u8/y7Dj\n",
       "Bmbw9lczSnBs2JkKfT0LapbYIzWs4nAKUSU4kkBVQOoEy43y+RFupVbdoL/mklbEeuGntMT8ecbP\n",
       "bnKNvnZPgJDXfjgb3deAjKAjyfOxlnE+PlCTsfHeUqjqKu0/ME9RKJGtPKrxHQGA459sxJt/pEyE\n",
       "8RMXNyAs+sb0YntvstAJF/XyFFnNOloOm1AyzloGOdJHRbf/7LextYTYDFGwPIM9gbdASgVRN3XS\n",
       "8xYyvDbCwbPbFFZupFuwzMZdaUVoCC6Q28XvP8L9xWPXjjtMM0+8HWRIW9ueLxaSf091Yxov4IyT\n",
       "sCDQRDkPhCnoGmy1JVSJcLaQ0FR8aCxysMjq9P+HUc8fJ/8SS3xcDGlHUxMb018K1TxTt08SyWKH\n",
       "HV1tT4IX7Nq7qB0M5Z36dMumZGVqrrbOBmbgslxKpm2wAqyzTjcJsG5DF7ukfifyIArdRqLDdALY\n",
       "FHuKnWXBIXjktW0YuTaiIw8JMkTQT0wTb54C5rs4wHbyUWbD5UmpHlAVfZpanKRSynmceH2baamK\n",
       "ALnU7kl/RFrpslHT6H4+wdRcLWrbcqs9I82sLaAHJ+H6VTiS/sG6xwC2PE7WY9sfvDpqxrxq0Hkg\n",
       "A5KF5N7WPCXMIa9y2Of4+uWPkE3mZ6GofnDhNHR7Jax+NDpHJjx2oHz+8ANQ2cJ7NZfsUIElMgeP\n",
       "RziQX1/H/LgQ1ImzPtFfb5MtlleIOFZqDkD322qrz599gB5osjiMo5/5UHHzW90L29Co+H2czY+G\n",
       "0iltJNSvEoaOyjrwqfmlIOELUy9PIopoZsXGjJDaleWVZo9cYuOAGJpDtJ6vjln5xuQdpmmsi++x\n",
       "/Nm5dl+htSa2DFouDjdtweB3cgUCkXXCbPYYDpnochnsOENhXM/O3xTnzX0EE2CeLJA0i+26pQj6\n",
       "eDKpZjnCTMia4Xa9+zddbqAiseckh7MMFQTMxUDkLyUVRy6k9BT4k2BVy2/W21mBvOm6wfjAvpR0\n",
       "sId6dbGEzGSeH7g+77QAAFCqzNIEe2ER05XJsggYaCE8FjTsoJhXjClPcRzmbhyUPLO2QWR9HOSv\n",
       "x87HuRYHNtRCk6nEoekJHvSHK09wThW9Y/wc52edwWHTHLs15SWGwxdqfJn12HVUzPlxsBxTTBfN\n",
       "XDJihvjg2kUaL6WtPX+vtxrUxFkPq6C73duPJLFriVhWO1nlKty1dIFGSFs6Kz6sblXzpY49C1rH\n",
       "h57mhLIQ+g/a9rP0fa3PSwg3Bhp9PF2iveTIMrlIqAiCrYn4ZirZhM0RRBTo+jnU/8/08PNPR6uu\n",
       "cM6MuYk0SWo1uKk88cKDCILHXtXtaOiBYxaoj3FcwgjjJl1EXrV2j0XiBoCCA6PyQmidlnnBwwBC\n",
       "el202xig+2kktkNAB/p+BmDzOsilWNhkACwPDXlgYLkEcEx/teo34cjQmCwifIY9FocSqJK6gQSo\n",
       "FTPHc0nWSUpRtzr2geHN2dAIovo7QPO2NJimd08CgRS/pIrDy7gIObOzfmlHsjTwKXbp8ugkTB8V\n",
       "bzviPjhfW4r2y1Srpjk33/u1pg23WVdqUNSPbIGF6CqPpczZ6dkrlDoiWyCYkrlyAVaMeb0szy0c\n",
       "sTEUNhxLvwl80FtgT7hhN84vyZtlOFrHIOn2+TJVe3MAlasLdIrXFlW/oGxcASIVjmXUff2+cP9G\n",
       "U7GCg7NCKvNGvPmLpptUcWMREr0Z6c2pqIqUbuN/yOQ0tkA9iEhGui5pe5hEaYDOsXAdQ8WAEnye\n",
       "gbSs8ZMbleNvIuXPMa/LZKgaeaLfx8QXnvT1+xox7Nrde2DrPiEAAAbmAZ5iakEfACps7gA7S5X0\n",
       "Q/5c+9gbICTjYdoRBoK17KmH1ueYAZQpl2RmfIgxq0cFaP2PC+xHRkVuKnxKNkUvGiNsCf+nlPBU\n",
       "GayzKMj+RSNMnQnNnHhfTvirTkhoeYbAIbp7i54mlXus8Xm/AEGJS9GNUBnGX9HKyO+oNge5RAKN\n",
       "SCWZdb0OrU859U1GjpDzIiWDG6Lq5FbYw/0xw1qb1ZmdVS+ocUXFb8jZep5XkqYaEfl6Dnwx7urB\n",
       "UOyqc2OmPujWp7qLM5DtL174C4L5GQ8eprKh4qaC8NyHR7v65NXRoq2d6LSPfLUSHDYHRH7f2I9Q\n",
       "BaBqN0Y8q5veAxj4AXvTj0N3uECQixdtalnRFKgfcPG7jtrMUpbA8J4R0OsjfU5FC9SSLv1UNJAF\n",
       "0QFnwf/wXrABVvS8nt6zsz7IAerwR7VuF6czNYn5TXGzApRQcJYIB3zJTGznuOOdB/gGq0fIa3HH\n",
       "rJPmuxd2XVqW1JYhmbkMNFt9G8If0f1v87koJPiGMB/IF/qm/OVIGePt87+3ybDVZhZn9jL+0+mM\n",
       "1ydjL6SlbYLld5bn+d29+XyyEwUGw3VXK0YV2OyJ7Qzt+rwsTWIoUmKhttEfFy4tVVICLTOMsRRI\n",
       "pPmk8SJ1bxTc+ouzKyYQqAhDeZ8ltKDXAEIbKNyzlzQ4I3KKVZQWd2kIyXgmZv8g5ddvfqnagl/M\n",
       "2medOGzTj9Ndd7Reix9yXT1pn/uYD9KgJboRcluk2Ss1Y8ZibkArpTYDkET1K1Ku53mRwVFvAHGB\n",
       "HGtc3SlO6CDQvGh6rFRUldEoDw9nz41eiyP5kAWvrZ6zhJc/4BLI0JSkgzXmFe8TMAm4RjYl+fC+\n",
       "thd5aH9dfYTFkYaifMbLM+GifUKBIGi8YLnzz16MeKCwep85krLC7KPo0fRLd44+ipL6YyLrTET6\n",
       "XKEY7/c0uIbLci48TrcbGCDj7eQ8MWDNVTVkH+mOPwqR9mFo1on5U0XERbOlmIkxRNvcJTnmZwmu\n",
       "cdG8qlSaCtIaXP6EzcNY3dfGMeOEWCwGZPxVP1is9dWkUlIdA1m4sDOp/fbVNleeUkx8OkH50dL0\n",
       "G5/s/nBcOqEpW4HYNkoaCRuDDhNKmwsbz/LkLaHloXT3XtaTdt//ZhTSXE7L0xvhSUwVFLQntl0V\n",
       "J7uMFZLPcYOCQUybzRs5z8VEMA/rECNthviTZQvrF/ucxiQ6th8nxLV0zom/sBB6HM1cOTMeTryE\n",
       "m6ctPTRMLgMr8BkOhfXNXy8DCEzOzM2aQEbE1j3m3MBEQANt4kzwoa7RYTP+xnXV7cNEph9EN3Oz\n",
       "+Oi7SS59cJWNWv1Age/aqrTSzcCmIIR8U4dKYtQfRYofte74HcpbQRy/TJQUq63hIy2hmZJ9Bk7p\n",
       "MKBe2YsbdAt/pHYLnJJlLycYhs2sQmVsIJQzWzxo0p0IgHZzmsAY98q9lohX93zvFFTjPlZpoq7V\n",
       "wjhHrXUfr9XNh3dMg+eDqlDts7tvVoCPMcgSNeQMak6WjXv0Putqd7MD5KtRZO0szeV8g/a0j+B8\n",
       "Yg3kYEP+AXckowvSmBdFzomTs23Mo4WXqk3wIkVjWbncXfVO7yB+SlW+WatCooEreQxoY1n+MTWk\n",
       "VtxnuQjSat42o0bm9vgb0mik4VcsED0lE6tIlf3jdkvewY4tYTjhQPeGo87haw4+dRcW1HVO2X6o\n",
       "/7LFn52hwRe/Kyy4F4WNmVZjJEkaRF3Xd3h+C9vTH/+XtO0f/T2rztvRc/cuzSVe9VeLLNg1YhNb\n",
       "Q+9GHrlbdTWkjrfWUjoBZJHXTMpAMhu1EN0Uu03ZL1vZb+DDaJ/jyxaAie7l5pTEafuJbjdodSRU\n",
       "h82W6q1qZbjNnjnNkR7gsThl41ze1FcKxoTzDjBy4is99gtbFartdJ/nNbU5f/lkpWnN+AQpXeAy\n",
       "hydIbdr5PuDrOkQI8kB+/4aWoOmQ3yizY6+KRBbKIpmw1hG0bca9s9bhh+zhswvBHFSnTy2fShH9\n",
       "IxPHlpSTjJoRfG7fNiAzAf8G5JMuDjPHUI2W0hj5cf0ao+fsWHkkQCvsU3XVcutHahZGskx3b4uO\n",
       "0QZz8cjTNnOWpMZbR3UarSOranfN8JY/eQpI1zNTcdG6CD3kZ3NkZ4Pf27iHT19CBm/ztN26h32a\n",
       "heh6eTqzGkJ94cnrgMmN2mSKPonv+4E9gcm0G5h4EIa8O1u4E/HNhO7AefJltyplA4GroWtXzQb2\n",
       "eIx1GlmEhVbLKudXmNARc+AuYVUghNgFobbFnWitBzaIHQxugKiwr+TRMCvSsWht1N5ADnLZkkXY\n",
       "YHvA1h+9rcc8yDw1s859qIvYxYzC0vjKtJGenM/16GKc3lZgx2c8soAAAArGQZpnSahBaJlMCCv/\n",
       "/talUCCzS7QAlfI4oeo48fNzC/mocpLnm7Aez/v5x4Ti2f4CVe0sMBL7Bv2j3Aw++WQMmpwcaQkY\n",
       "hzzMMes17pCR3vccy5/RX/C/SReaDRne+LT8gLXkwv5E2zKvfksYVRfCpd1roM05aAj6SIw8zZqY\n",
       "w+7zT90iBGiHDc2NsVFhzeBXLL78Cv2SRfGfZiXYKjF69St69afsUWx+Zrz+8fmWnD+voQ8oL2T8\n",
       "UTLpHXYhZAxgurOoW/ERV9+NjBjZHNL5Rn7zCB2v9BzVQEqx1yne0rm5EiGHw7h4qRx7IcLBl5R8\n",
       "neGqoiLMH/uP+d6Wpkfkf+hYIZsyeNAXNMn6CNxmLc5aoSYdq/6jRG8qbEawcCXQj/TMT8pquTG2\n",
       "5Pf3rnsvX7yvvCC25KzXcoX5lyx9P0OJlh3Hju2cX8Dz0kSt/69Pd4vPN7gKWAPNYMwn76R0tsjp\n",
       "5/eDi7vpsqWloarzR716DRzbGIirg728I0qfpSE6q+ihHD9p5e6+JmfyOgSIcMIyZ4BQ3YuIB0mY\n",
       "ekRVSRFv5rlAktvABBrgDg2QoAkcVpM1uA+ENP6Rgf/BtD8kTKc4GJ8MZWLh4IZR+81bj/2wF0df\n",
       "/jC00ft3fWyEUM1/GGG/V4rnttL88GUDhkHx3+w5G8BzmHusM9P4Y+HxR9mHE+bvOi9MkO5vAE7X\n",
       "1TzTp/CBvGYbvJ6hll6N0BZAGeHVOC09hnpaPM2zZZ6BP1YiwmzOMmt8SZ7OYdO6cB7Fp/jHHG1P\n",
       "F3EACbfLOe/OzjbMVmF8WHVak4d4u4R+WXOwM5/TYQR9U4hjgBjHJbr24sYc6uwIyQTl4nr+1TVS\n",
       "DgfNA0Hz1HQ+NUlobveAZtRYWDHSW32uQR7SBWsYQwD6MuuT0bNFnJ761MQlfhzbdLpsJBtVdGMx\n",
       "Q6TcMZeOztX/KxqyLFkx/gmzVGcQwIhdq1AyDfQC+inF7+tZ8TkX7kG+aaXuVJO16lwEC8fv0zB7\n",
       "4GxBTa4a8bUPxwSMM+ALz9Uo/Yob9NA5CdaMLra0+wtJSGFVKMxQTMdC8ue7TmAc+QqgsOzD7Ile\n",
       "FSOkp+Zpkn/WbZz8zGEv07L8XNQUV+g7dYO7KnJbERG49mKBNERAEC4LDFht2V3m8IyXQzu2PmoC\n",
       "W0npgCiHiuAYXpkhm/vZefkCQQDzSZYAqCAqep1BcZuU949JHtymx/xfrwsCaY+BzEwFFWyCt+ah\n",
       "uKcfIPyAK3VoVFfb8VQRrhR+uPgHF0GDTBI5mgo0Y6QIz3RPz7SgRvgbTZDyIkk1vIVIVI2C/+a0\n",
       "dDG5vIRifuJhjhqb5URYdVRyT8O9jJhppkjaqFw85mWZhrT+86s+NFLVJqhdKkImAoBCUlM0tY2E\n",
       "EDIA8TxBCw8UGrXNlXcS023dymNF/arZlZXMa2yXe8O8CRedPtDcZ/znQetqks4oUV7XJNKWXHB9\n",
       "xe/pnxP0g40dlFweAE6sDlxT+7Y8+CReJE5sLcuNWZU7/33muGCei8ER94E6zBMe6c02Ju+dcMA6\n",
       "zBCCXiEtn7CxPVBAjcQ1DasAN9S4GFbgQQMQQeN/tkOnvQa2kNYhHrVnH+5cMb+VshY9iDJeoaed\n",
       "R86XVvPuFVjriUygSbHhfpQ3LOql/pSHkNuDRc7x8uaCgHW080pjHnZIHIgIEz8yfPKyWR46syg0\n",
       "Qy8P9sMA/L0KKAHQ7AW88q1GF4dUDcw64gCobde/7VreSzaWbL4Ed9RCP6y6+TbJUco2CqRGz6cU\n",
       "H5Kd4ZkPlrJBEZRMSd+zewT0Vh0E5Xzr79R0X4FUYD/JUFHd51yaNYTsxCYWefmV23akRxNMFn6/\n",
       "iRDcJgJWmF30eGhex8rCP//7gwEt/Lkt0EqlgFpdcLOHzaNFhUp9dnjhQ2PwQouwPMOxrLQtorwZ\n",
       "+91IF/tx6IxQMOO8zC+keMpiwwpG7TOo9F3nJPUI2zJ9YO1ObSzTn4eVeB2rsyt1tOCIzuBeL19Y\n",
       "jP4jWK3ra/9PVqnFxlJmD/59JZJsKRzJR2H1p9BAJ4ETdFt2pyt7acGnXuACV5RsCYu6Vb3/tA46\n",
       "XqL79seMRNxo4jdIkZ8yG2gucxMZimr+gxdI3VRIv08sPlah5/WNvlukXS0zMvcfPfEaY3CfWOJl\n",
       "TXZEEPgcO52dB6ZESfqqdu242LXvitt6NzpX+An+1JA9YOBCxjW8HvcBi6UwVszMX6hC0AeFdMwX\n",
       "32v3YH8tZVagQthuWdiiazyTZF+OADb3AGv9QhrDJfc9rwX5Td/qT9J9xcnYHsFXac8hgCZiDTCk\n",
       "3fYYMe3AY1NAYtFMosei/jKLxACAG40plvlVa1mkVQVEsQimeCw07TsdL70xR5XpP1RV4GhfU0Ru\n",
       "8vqUW97lqTeiZIzATrxQ1kEV5XAFQOC1+Z5D4gpY6vtfyJL7OtbgPW9D2mnef94GMgKJxt8OtUNM\n",
       "ZCtJxvQmEO6BSOFkidmxvU6Onis8NnqFUdz1rMqox3fCHv5eptR3eBwM17zIKif9jbzlV0SEY6IZ\n",
       "QAozTaXankgOxhs9DzM2Gz2ExzxcZdmMIfijAcFNABuX+rZ3hAJpYZfp/7CLCTNkbajgvVE9QSB8\n",
       "KdBM2iOND71rh5qgnZqYTPAY2Y3I0nncoYGnsdSmi6qnNXa99//oZ6TOeSOn/9SfHmxTDD9R///3\n",
       "J/msq471JoPSqJTdBR7cDoAwCCVYh7AyGv+7iCbP789tqwFBXAqUF8CtwETy3VAaiIMWDie7ApLt\n",
       "e+U0J+9UmzjUDs0rCQQtiPtxHo9wFdiaXjezveAuVh777uJAnvWFNRTfhNnIwQyiPYf9JgMm2yeW\n",
       "BK+HB7uZ57uWDxaXv2TOpYrO1vZTQuZQZbOZbvzvWbOSZLG96gSNw5Zgz1bMKNvChebkNeRTggmW\n",
       "iNrfRTFlOO+IPEXvzZQP/GvmScAdzHLgMrAzT9j9vOaY59R7eAE/63xUVJGTtgu/Gx1wf/t8SRaP\n",
       "wxH13KaMwJgvEozvPvpZCZsH3des7jnZyFZWJkOQGpLgmfXdihiX8NTmwVBX/XB+mF5CwQ2pOSrE\n",
       "NxlayllV8hi+OZMmhS7pn58IulHwi3MxNgnjFAXI94Yruxbx40Zar+UPNRqpj9r7KYPBG+4brz7B\n",
       "AfQYi9ZEz1igdFWAU59T4fWvaC9jYRTol+i/8Xt8aosR3sSUtjrEFFnqZVB/Jl9JBoAGAwXzXNwg\n",
       "ed1IIRP+OPifE/j7jitMIbwJmu97kMubNgsPtbODqY9M/k9hHPqJIl4ryRwkFpk4J6NBUE0W40z0\n",
       "skNL+77oGcQ9jKODFzyVoOr+zzRalh/w+pJEX5VTJOtbt1zCfQfzaPtPfE3DuRdS6D0RAv5Lc3Gm\n",
       "xvfA+2T+aQvwgtKL/ZMXfKRjCWtpv10gOtwEjsY20R+qharAEyZhRjUONQdk1fg++uOHdZziebLe\n",
       "BLytttXk+JnSzVcxakxis3Pq2vsjFONKmCx5vcRfmTuCi2zipZESW/uGlpwFqabhdslpjmBEmU7Y\n",
       "JVE/88MkI1tLra9BTOs9dJh6QHipA3OzIVyXN8W1Rw+Wjs+vnIjUXFeF1tYo5P+zdvKb5sHreiJZ\n",
       "86Y7lYE4ebp6/RmqabwYEbQWa2bW56o2SHXsPkTHggY///VVhD/8dPf/3qX/psdn6YQINyaoS03Z\n",
       "e51iVXpxmxeQqQAACtpBnoVFESwS/wAgVO84ANpEkpg7kXn9tCuquykZgk629ZyHdcH4OVzuK1Qh\n",
       "rLDVfKJMDDB2DBxUxEDwXeJLIuOzFQNPpzOFd+j56WWsLV9c/hFL5UmSz1COHKd2WDp5kq8pSjdX\n",
       "KE1WkogWOUenkQ0EBt7XhmouJtUf7YFnohK5EQ0FlLDAR03sgiw6SoyD1JrybyvafBMWVBt93X9Z\n",
       "QZpdhwvFGqJuYTxMyaCuAh2hMFP/6Jk6uPRzUYGhzaGMSCvRIwFoZ3v1xVi6dBsxNEVw/8harllA\n",
       "a+rh6B0oetIKobTGfB04YTSZgVdnBqjqvMgaoo+I/P2aed0oGyBor4aiBeP6oN2AoCDvqDcVMEzo\n",
       "mBmLBNCPPiIWOfdhiK+dZMFy+vvLvWyNqWW+u61mgCshBCp5Y5VJ1y+UGCexiGWe1VXkxuLuFJD6\n",
       "A8n9qysfnEKwBi2cWw6t5iSvfBGGO6Y8MPjuYg75JwUcp3QhbRVO4DvKBjyDLw6W+CoUF+9qOmno\n",
       "rXkimjBRWbM/SKnEpOoN0CbppPGJ0+zx7qSmfC/kun2Q7k4o7miquODxSa5y2QeLnEdlUvqjaZN3\n",
       "Jsu8N5faNOu9Goy7B+IJ448vqiwvCYNt83SpUY1ZavqgO7FKtOyg2lVi9gcNRaxxrvFqKbIubrjG\n",
       "UY3Ma8/vbhDWgiFn79NelmyaQtypJweT6vpzwtVVw8O3ICENS2twvHFSgHtwjRG9RUuFSHtGSjrC\n",
       "jcli7fxhYJex+wpEH3FoDCZniojpHjk6irq/YlTOepk9L+A5aMReyW6iD3Gu09ubhEG8Vls8Xw4Q\n",
       "wSXVp8+Bm9I7RAVoFNd4So76jw/TCrb28ru2EBt+47RwZEtHPlISR1yCiOpWncGjjxgnT8AwmO3e\n",
       "jS7NjpKPL/pcu8sPU7Rk9QHD+VLnV8NqRF/pZllCj234WYsXRgrh6LSo2LWIlA7trYQpaGSypknQ\n",
       "WhMId7PUdy+n67sM+4zfBw77d8cfjFWH/bF18/+lPxkPOMRIdK9qwC41LgSuvikxrH2QxTiye8NM\n",
       "wdnpEh/LfHQDun/RgMXAsL5nlxcufAayTfyONLJ5C4hgMqDtOnDuyNR2x3D11skFcdQVHLkV5mR+\n",
       "Yyp5fkEdu1ZW8X6Hqej5jF5uMGitwJCONPuNNhyzAC91shz9FzgcTqWWj63Z4tTnYzCeuBojtHVZ\n",
       "QNqEPBBUse0e1d/AKgP063UOJ4zVGFlswKmh3GcVSZ7XH28CV4jeoAhWeUrp0wk2+vmZl3EUvalw\n",
       "J9eZ2YeE1sV/I9hcEPM1aNOuz317lsyBJfyoZy7evieIr3JBoSqeQz6tWwYjYbRP+Fedqlbk2j/J\n",
       "rpf42Jo6mJzlTLYZKrPZVYhViXIA5MFqcp0me+7n7xKKWRbOarJVD2apJzYSr524cFxEI4navsNY\n",
       "VlWhoX2au8g62W5SkNs/h/wPimAI6sVucA4NA53Ppw7Kjz7jdlT5gC8ri6WR9SGLh+AKSyE8Hs+Y\n",
       "N4hItASgRDodYKcaei1/ChXuMVq1Eh92OOVEXOT+dAWyfmL8C65qMLZsdw8LY83z5lfvKYGJ/PgB\n",
       "mZyRk3RrU4hyt9FEB35ttl+mKXsG2HBh/njp56CzoJBKAMlLgUzyGw85+HH9RbnVAmC/7IG0zbiw\n",
       "mpw8QHw8tVy/oM5dGWli7ajyPLd1kv66mjcUOxkg5r/x0hRjCLyI8GjjSz46cdk6+HpuYf9muffJ\n",
       "mOFAIPUgK17M2vpHvnRfKxSrB5l1z2sqItu2Va+Ak2hDTxRiRVqcUPRzr2Oz1V6f6rPnHtRPizGO\n",
       "+XUtLPe9khHv//bRiq/pCQ3Gr+C0Tb0uwpWTTDxGaorNPoIFFPHz1998RgtwREhD1LfaSQJfr5VV\n",
       "/q0J9c3PI1FgGyTN5SKGTTnuq1IKAqOhZvAnNQWBD++zUFBiH/tlvVl2DF6rtHj5YBExWJ+yj/e3\n",
       "X+fg4jY7GjXOMzRo1hzqcpwhnB9Mt7t4e6IjS4xV8ORxiSvE5jb064sLyGZD8vSd03wIWv8EeK0/\n",
       "QQYBMg5poT81IuQEWqa90b6aojMAwzyN7UUhU8YaU3o50a1AvRwF7iuzFJNH+pWoxk3NBPj+qdrd\n",
       "vRsPzaMu26IFp41gbh1SbZcFNoDSLvqD8qtM50PMjvJ00TSmk4e9wD47Su5lCpAmO1VM5+Dr8xhE\n",
       "gFo72mdhq15+X4GD0yoFaP6KaOQf9fqG4zUfHqxQ61m5Pm/2nHY5YyNt2SH+n6btol0tDPy0St+l\n",
       "RNx4DfIIF1VgffmL4ClpW69GcWIyVV3M52k7LYY746hUJadd8PqycDPDGIy+2+lUALirB1RiJv8L\n",
       "j+qMIwdz3P50MfpMy2x7OkMW5oNLK9sKXrsvtkQ05CNluaRdJ8Yc6v+mh7rtikIV7BkC+QzuWJFl\n",
       "sRfJGcp/Tzb3vwrm9Pis3w4TDXE3bpZQSEbCRh8wweJPF3JSsFk4pWlgc4O3LsNuAYuzTpVi2SEe\n",
       "AP0tmMgm5e55QIBXYBXgyGZuyuBD+1C32dbaEFJs6A22uPR0MVwVmgqwZ3DtQFVMgNr0ezJhSgEF\n",
       "VJJW1NNTJk5iqidWuLDaTEFbSE+ZBpv12EziZVKslsO3t4P14ERLZfVjHwAvx24eW7k+jOgnaS/d\n",
       "uE7GXrWnVFUNDV2HkpfYicnlTwycTk2Kff00LMSOaNhgBMXyHzq2SWQ592ll6rHZHmIBjJyhTtNh\n",
       "s19DoyLo/BvACXBQz2mbjVyxe2RaTldd4FvLjcHzRmz/iiS2gQFgsjxaOfxwZA5oH4zWKHLW/6X8\n",
       "IASXLCNXjxUPRF+b28FMzBOoX309RIwr8JlHF9tEdwY2RS3/SVAqxDqK1gyWc6YNkce6XwNS9yBs\n",
       "MonbWhDIYlqS130W2eXqkM3TM1AYzy9rpQgg3844NNyzRPB75BlnFXtyEyJNl7iNMUJG/OH+MJzb\n",
       "0glSN+roz8EKyxiGYmDnNBKNujZKPgZvPfHOqb/wIQtwPTBW96ncFByhUAmYHXCyJCz4DZjuQLt3\n",
       "ReIaB5LXcTIKtu+LsTrx/u/+E32ISvsJkVjvE/9QPJq/3w9neATrsIqWkfUvkkZ4tkI/CuCe3yMM\n",
       "SS+y4tLuMc9elHFikXbnGJ9KyP5OiVSgi30bmy5ct1Jw4fHG31OZB/G+nQyqdhSXi6/Xa2et31Bx\n",
       "5ujI2l5S0aLBuB0vyFTI7/KxWL4Hyn4Tj4GorSBgWXcYBJNQ4+YrEmXUSo74tWNlK/5T9FnrASEH\n",
       "GgG4wUZcewbdLXpneQS3K/k7ispKJwPWl80dxmOyq91u/caLCU2lgMK8oSb8ESWFIiXhIRpyVLlA\n",
       "iY3JBDbhsb065t+90/KhNiFvfryOZ81135n9BLUMnZhHj8QechQazTtSDxZI+kTWW2n2MVYBKm/q\n",
       "G3wAFFEFLol/TPr6wSw2Iv7+fz6KIslyNhES9RetgnV5/BJan4NJDhwxzq/5+2pewka+uo5Ujbhb\n",
       "03V279nslIjob0yBMufkPifK2dDmPHO39IhRKByIY71m6xqT52rP3RZi+S1ukiIlv+ebwlySXDyA\n",
       "NZ5sNLrUIknpt3KkkvneuPhpcIbwauIrnkys7ruF3u3lYN9H68YE4Pgm+095Ta4/UyWLG0wO9P5e\n",
       "mYynqQwqNTOyQZvGJ/m28UbAF+31xvpKcb9tnIq3te8D3s/Y1hZq9IA6bmrPpVLm/uaa6Y3EIQsA\n",
       "AAZVAZ6kdEEfACo6G/3YABzl6ZM+62Cy1don4gOdjOF5gqSmdQT6C0yrgvO2uvjZxwoXQDmFeV8T\n",
       "cSqlEECbf2jVHevms5J1x9pMqPpmIBH59UFZknbweW2U3bPIWAAAn9jIPMpzkXyjw099+29d7PYv\n",
       "Mbigtaqounfpx/rgdLRwD3dfpzSRKIfZGreWA1sf1C5KsSq4JoWdHTEhbga+u7JCAdlHwiUAvRSg\n",
       "UpKnT0u1F8/sYzZnilDJ30WqlJNljvjvm3ghAs4rVboWXFEfpWplY3X+6XJyCPZ8ZMsn1kbFP04j\n",
       "nUbS0RAqDsfUzJhG3aELjnB96JDMzwqrotG+/BRfAXKI3aM294Y0llsAgQfAC3+UaEq73y/P/5CB\n",
       "jqYqVOZzlxjAUNojCdSqOg10/Jjh4Dw7nQ1rfndyxNOV+4GJ0PQJyj0U4ZC1FExx85dvy05t6qPe\n",
       "aHx4B7+xdjWZx/5ZeMyuurVOvEHOO/26jvWjrBUJPMHpIU9eOU8IkM/zl1g06GWFsSqhMIm65n0+\n",
       "hT3o4vawrnwV8zIw+++BpyUuh0yegSVcIHNaFt4XaE/tqd9uBQZVm5KlC92icEQUNMkwKCH/ZXiE\n",
       "d+0l9zS3xc/0jkmESkCpqt5RA3LEg0J0D22tOKZcXTV/z0kcqp8Vf3t7ckMgICTEDClgHrAsKtfp\n",
       "u1iVZZPzIk397R27tcWHz19dNTmnKSAhOKqvMUs+VneQU4ls1Wof8EceBoHaOCVs4BpWWxel203d\n",
       "D07ScFvYveI4GTKGYi05+YTDtoGLtGZztAjsTGsr4M5IbK/JQSpB8JTu4xx3rZxowXLqCMQojNUq\n",
       "BkNRtQO2mewLLHnnKmn9Nqu7QzvW9kwjmoo6Uf4OEs+7Sw2QrFunhpEAuYDeN1/+rlIsLnqqD0pP\n",
       "cPNQl/KpoTTs+Jv7I1ddb0P5U/61M2AST8b+AhpfkLeAKpZH2jKOFoIuVQLAzIlXmrXWb2nazUCP\n",
       "AJQ/EsgK6RiOY/r0iSY6TGLuCK5vJsENrN8HtPdPe1z3kYxZf4SR/UTLK3+W9L4VxzvzLshiZkGk\n",
       "PAE2lwSQislYbsvEdWgTIcWLZJdjrKR8oxiv+IoM80FqQ8njVsbxySY3Vdp3Aojhj9DIkWMn/rui\n",
       "d1TftwFbpLKJibzcPvqMOr1TrYjtfXc8Ud7XpBRGSchxtdLOLOBEqcTKKT3RCRm75BIiVB1GENDK\n",
       "K8YujE/ab8lXVkBeQjt67jwNNF2AZ3bk0H4kLXbh4ii+z8ZetD6rRcEan33j6Wi8I68I4Ns0ZDVd\n",
       "mqEj5NpEr83ldEU0PEpdti4n6zka/hdG3bMNDwPnFI+LWGfVnomQJKFhkpkeJLtLoVZb5UqOPJtf\n",
       "Q+NkLdsx9nge9UFiv3nSH7t+4gI0f5gOrKI5Ycn5bAmRXytMq8XROYS3Z+l0vxCXxjHxWZcF/So0\n",
       "VnY1fPWfJeMjPUCvtUeuWoaU3s5uaWY8+6+dJ5dwrQRGB+rYgP/pnKlex/lt6RSYqb6iarmJtlP7\n",
       "FwaUwvI36xuFAaU2Jaeu/sifXKrsRS3h8v0euQ4IgL7iHs0bTQ0Nr4/ffcjQNnq2U7MCP5K3OFPc\n",
       "XIf2WCj189TF5yW/2EBGPnJ0WHGmBQdTD78sF91KB8d7NcSZVBtyeahSNQ5tJN7d1VWtS7Z6hHRR\n",
       "SnLfxxWcMYvzuF3WQfNz9s/qvdifsYLRd2UXfop91yWThQxsIM0DA1o22msz1q7R9//bymGYaFaP\n",
       "cJtgWcrXmYPAYOnUXci+mjhQDM64/5uQcQGK4rSIP1aAYiN4ciomGbmACY8H58f7Ga9AGfSlhLOI\n",
       "S+SABKEUrSz9ZjKN4rCqFODPiRX3JeJYXCiWZ66ixY+YARtxNY9At/BX5yzF1ALqWdJj2VOSI5Ra\n",
       "1WRiYhLlvVK4AZ8NoG7TpHtrFK1vgj4usWaug2zpJogdOLySB5mHbIQoccbZ1cQFaTkmgm0LEtDQ\n",
       "haNxxs+6mvNZ3q0GHkqedWTxCLH1V5CKDP5ZfOo4EMh8A23o8hQdMJQDSswZ/QpoHP+kFKekoaJB\n",
       "vJGUUXSDhrh+f/q8qJeHbwKJN8HW2f0VSb5T/ZU463Y3GqhSJf+oMd9ov+w5fm/hFjBlPEGxP4AY\n",
       "KIsitDIoYcPvoh9hp6cOgwrl8pvfeWGD+B51wQAABiwBnqZqQR8AKkRE3RUADtL0yZ91sFjfk+OL\n",
       "/bfjOF6pLnTS3F3msaRK2AIfh2XbkNrQ2oKxj9OLbvHVN8MZkBGOIcm75L56T1Bl9xhygwOQd1kW\n",
       "KKeu0y7WAKzt8n0Hkqei1dDj7HB2FPX4HIg16fB9L9jD2mzD2rgrQS5cHBvPV94AXgNNld2u3xAM\n",
       "ryNU/6zt1Df8D/q3CK0u41iQIbQn0VOZzhnfO57L3+msHsXEpsg7KPxtTX20ihXFNQ37qW8/0xAg\n",
       "DDneauqvdp3oQoAPZsxMWJq+ckJGe3zn9E87nEXemVv5KHZcgVzn/8hIgHro8qPodCC68OSuyzKI\n",
       "NCAKB1Hazrx9DoSsIJ2xk1c/8J8SjX5Qw9EzWQ9awdrVrE20bwT+QzIIXZ7JE5c/AefpC2QLSfEt\n",
       "vbhKgFIf0oJhu6Pd0a/rSeDRLMtm+eC3CvVgQXlJvqNtQRMsfsYjXj4AnIJSpycQBrH4wH0j3JFH\n",
       "9eBWE3feiJIaJFwwHaOoQLDO/3MsMkxk896P21dYIKd9dnj6H0iIkHE6nQyXNbmAKAdRdhMziFEF\n",
       "hAOB9IVtBjIm54Se4TVxdMHeCOkepzWuemHCGRcr9+FVBHDRZEn4VowJGYPWGSSYXPPvE2XEnvhY\n",
       "XqaNvXhkg/UYqAlsDpj4shKxrAKlJMhmPtFx1J0oJOkcLBoPZX5V94JN1j/Kg0BeRpijrCyCw02p\n",
       "wRFpa2ZZlPyx0AKFm1IYDyxpKDeGUCc05zHF6H91sO07AWeegi5Pm2tPQorhQGozbXg1n9HwCq4r\n",
       "U2VrNIbZVoW4wkhLo3NGFAecbkWGva+0o16xJwz1XWcktfaTzTaIIlJy1eGKy1s1e43amfl70ZnE\n",
       "Nee71djCADnMs5hav6jibZ8RmLtMD8xI7sfkefi29xfeJQwGQPI2bW3LDdwlz2gYbZrMm369ww6/\n",
       "Oz17P0lnusKHlBwuvKYJd7H3kbQ6kjwru0jIaz6j1Q3QSasqwoJjPNhFISzTdqE8Yzj3Lo9Vu1wI\n",
       "H9kIt/+798vz9Kqymx0sS+SVkZ4i3Ljo22/5yASGRiejLECk5vuxixUwZn+/sxKsjwi+xv9KqvoM\n",
       "bd+dUBYIDKXvbfUw4Ike+HtqHTPrqGL0UMf2LHfskj79iIhLYouAb1tTfU8qcz+qxQLzksU5IfdM\n",
       "dG49Sykd/QTsGpV4AY0HHy76xkzHQxfeBfA47h0+zyaAmiaTLGAUYKzuV45/lVRlRhAiP7EoBs5/\n",
       "OjcxRlZjK5g+6HqpqeljBxWMlp7JKSFxO+bIemi1R7nwv3WrjlYnx3JY5VEtl9BqU3M0XoCoD06g\n",
       "JUDyhgPgtjvAkvkaVDqS2E51PDuzCZ8u6gwPAr6Rp48D2bw3cbgg65E+4FKz0G4bd3UaSJ6Kupvx\n",
       "30mggUSzQvDIvyIjddpub98zRV+v/pldEKywkslCgHTHkkchtuHvM1pJqojt9kcnFDmnPeGNYe57\n",
       "IQbLafdTMatCo1hKc4tQBSVkJJTrf54ufFxtogiEyiZ8xCidOdFFRInuPrZaFJodCCte/9zhi4rX\n",
       "sA/Sd20oXR/1IdpkDvDx0UQyTRzPB5CFCCFEb73PKo04BiRtik3lDPQpRv730oIhnEYRORmqzg8+\n",
       "Smf563Ur91YKJ6LqQakYwP5pI86iEJOxYlrAB0+uvbIAhTxuQOgmSkhk7PGTyHZ3kRATslnvc7Dk\n",
       "+CsNpOVX9Q/ZeFRrHC4/2W4D8WyF4TU6jac4C0PdO6ngaXHirXgvsLKgv+vnhfTHEsIPmuCI+rtm\n",
       "wCgcDJVqiM+s3GMwA9J4UWvxiGvyJ7znuhnuNutvf1/+rPHudjizP4ds3psWOv0yJVKGHoFG5cVW\n",
       "6Am1J1ft3I6+UNCUNapDS8XTnHcPXL4vacPuGx9ggxj087kXIWQt4O8lKe1H4OwO3SealqZffeoo\n",
       "al4LJEeOjGLlF8ZDmO/G7oxsEuLNN/RyY8QlubH3T4atv52tGz4AbEUHj1upWDoORub38Pekc0eg\n",
       "xWtiE1InBUaDFh73nM4IJhojA+PyorYjN5CSQAwXl2s4YkXgmX/LublXIUN3V6FKXyExzeN+AO23\n",
       "QDT1hkUAGoI9ZyXq01NoYQAACq9BmqtJqEFsmUwIKf/+1oywQVZoYAFtx9307JGTdULtV59shr/Q\n",
       "8aIyW4cMi2xBEaXuYT5PLSvC50VvmUnlLhwklfgcAu8cPBW9p8jR2vTDZsZd/UycR9iRhuu41ZzN\n",
       "8aJ5x6JfidCDYI0G9tNAZC9E4yTsJt9SpBOBxKYvofY+XpR40s1bQnWivGnOZQM+2Z13uYGPyaaN\n",
       "swIfujaa+08OS18GRc1flYIA47gHk/AZdPQTwKMO9GjLHtaCyl+ZGDTdfBHQa3y6cHVJTVnJpAoz\n",
       "RyyuadjSfW+95BMBqoicoW/oUZjyHQ6w358691KvFTA9uKEwLfXGNPRsMKUXB5N+XBbkwr+aqI64\n",
       "KfgbxX13px94eDgWDHT8Agl88QlpNXrvWgHF5ld1SzWUGyy606dsPwbl2e19t+DLRLx7XOGmGqOt\n",
       "SSnv6vbFitGFzS3J+JNBZLnzVUYzOavlv0ItIiRKffitBgZXi4KTh+jMf4UnNBKIhMufrVnoau3r\n",
       "OTNiShwV/HipjunX3q0KKooiD75jj+e5+diUrNCjxadk1pWd4ij4nOGNIVygC0MWpdO5eOGNbBX9\n",
       "1qkXP2jzJu1q958hR6FViJ8MQqfUafpbwEKubKZjRqInJjBlKVh8bdg8U5CpPw/gjdJ5a4WMwWhR\n",
       "hIpHUXFlAJB/7dQmgKhqZFpbSBNQTOAwI5AssAT/N34Y3QAgYLq++DVE3YhNGk98nNubphwU6/hk\n",
       "1sDwhbofAkXcF6WqVKNxDRV9RAh6reaf1bhh0nJhnQj3LaprHOFV6cV2LryF9biPRoCr815mJ26/\n",
       "GdHSmyr/zonIBjpCIkskfK0sO9ou1j0ZR1ZH8onuH4DjNBOX0N/arzQjKf4QYb2PhBwp5UIRkKjZ\n",
       "/qfL6LaT5H+iRPGDMK/IQZH8YmWQ1TySPQkXxIG3P0wRIbLkT3etfQtxjCowlV9CuFVQFx54HWLg\n",
       "+HaH3otg/mZIRraftzP5VCsY7K9SBPmMqqyqGXG8fTjflB+O5Mn/oXwjcvaSlZvKNHGvw3KqBQKM\n",
       "QPGhMP1XeZ+dD5H1TnyQh31QUItcEUP6S1t+Qe1zUwdXsjNl0+qKeM7nFXj3grE0Uu34VMO/ahZm\n",
       "oPhe0DkQ/1bEHZJgbC6wM/mHBoC8ppf6lHI6ws+us9snJTB9WkztRd5x1f58RNuklCmK2RV8uoHI\n",
       "SaAx7m9g1z9/oSxwszy0FzeEDsa2LfHmwntVaBW2mSJGDZsW/I3iOYAqZmz/FMYXjgMTEIyDHLCF\n",
       "Bd85Xct9yq1boy2plO0aqGaiVelX+GjQmAv0lMJg5KS/QkkN4GxIkjfhTJzMz0rxsv+ecfRAPSix\n",
       "WzEDzNWIdgg/HG4aZKIMdS7Uf9djbNnULCVUIibzWyM2tA7q5WXsrORwaBJ2xcefeWiKpl9Bx14N\n",
       "wm0a+rYfKa5kwLUHa4D5Bi413oJpkmTLVg799pXkWeT4K8Fa5p1JXbmm7Zaf9Dix/Ax4Cx/GdJec\n",
       "LfSuAttWG+ht4V3vjwDJhhbFAi6EPW8Zj1IVgucSYBpn/433jjNl2/MWaR/rli1cgP/bU/sqfxJz\n",
       "Jwb5uQI1sKGoleScMw12MyUPYwGsIo50/V/QHbJQsMJ3/mIVW8vJAsksr9OXe2k6NnA4XXhLXFKT\n",
       "MIPeb0HjX+eKNazFiEmpwzRlzEI0BN51FfHAjjhd+CQkVSS0bpo0T32Kpfc0ilsFk6P5hMaHD/Ky\n",
       "QqLJeqCVLJeObz1gGZ3IZkr0m9WEJ0dY5nwtsK+DPYfQU+Es3EQkg/PN0hYk0VToRE2BkSvVwUWr\n",
       "70j49CJmRVXEwnDpBxxF1JkOajWmHnf96z7XcwloBLJuaCsWeTUgAAzkLDxgfiUIfmBZC3yQaDGD\n",
       "79evefOCQ6TZz4Uy0AvQcnV5GnL2AXFueiuWF8QadAm2QoOvpXYTQuXN5IjBQ+eW9S2Mty1siEoB\n",
       "Ffb0NgZns1fBrfPX1Z2P38diQSE7g46eoL8NaNui+7W8qnuhucyaqkJWYMXflakGwdwL4sz8MRU8\n",
       "cjkwKAYGvCY6ky8PRqW3YCYIWnSLYUW4ssQmeczlBV7GPiZjlb2RcKQBzdLHPkM3oQVHNxNSCtpH\n",
       "9hknyWvWZxKJ61p8T+DUCxNgEJoZEWcK7Mh5NoCcv37WLJ22aPbtnE2pNJTb+Rsi3vtxdE1ZWnNB\n",
       "JifoDi6YGupgWOKs0eO0aegRropUskBd9IUtXVsGOlVwBLul0B2cQqySm4O29Wz2HOR/9Rwc1MAi\n",
       "akt9tP8L5rKFDCCs2BNxinYjusL5XlB97hOuo7OOQQ5qZ2Kjbon5B7IgCJ7jXHUFN0IbeuEFmqWZ\n",
       "QJuQcNtfPYVPhBih5mjP7KjjdOiqoTim3QQT5iMotWEHL1gKq5Wc4ZS+nxUqSUfiJzowcqVYo1wx\n",
       "eKOV76kXZDogOrvrXDyZ5ndZpfsT2X7XcpYK8336fYt7o17gEIBAoOHw4gDPoE6hG5ELVJfqgBfX\n",
       "q941hHCz1/F+0I1Wi7oFZMPQXf///qoCBc53O6n/KWc9AVipo0yMLRbRlR/TBQyM7QnO/YoGeGxN\n",
       "yB/3KgsDjZeQ2ZVnpYtEj6vKQNhTeK5i89006jfVrLIfKYNHpY8sM92ctIekxyW3QPcWBy5en2Ae\n",
       "QoB2njRsOmUTpNuKG4VQ2zeB0gzKcidK8/vJpKclnJU+k500DQbzM6LvrtEam/sQ5zkQ1heo1T/J\n",
       "91PPU3YuJitozpHgtDPqoqhVQELJQNqeyonR73svZD35YtUC57yXJxlcRiFUqPjNhGqtje7WXpr5\n",
       "ZEDP18KhPSAWNH0odUI5KX4lps0iiwMC7rf3UrcM6fZ96+B/OMdzhdELzj8+nN6QzOlI7s9Qz/KW\n",
       "TYavnSUuivF7OhTP2sNHYmoQxI35SAG+V0lVxoLembm20YaDW4MU1UbJTVeTsPq90ZzEiiwhkw00\n",
       "CD9Y9nZRnNZkyFBC7DFp+XvWAHAXuH75R9atAm/jIa30HFwuplJmlbnoZQ+/qujgWSQVM4nzSp1F\n",
       "lcnbWELGwZlopZ6eBtcyF5qmVsPnbBX8tN2a/aad7Tgx2FR0TEnVzdO4TjsvrRovVP5BM+DuPcv8\n",
       "fZNDUPL8PCNt4BkRWno0EbUvv4DHSECEhOFycRy6JWicU3iO2yt4InVhAMz3IciQiswpvFPb50Hf\n",
       "oXHrQj0bxzJt+Z3mh/K2tbQplY/hBizcladdS4GKjVBKGcRxfMYGLJyLDWUzcu6iPs8TXPQYySHb\n",
       "ifsoW0E4MgZtHjKOJP9dBKzKoGEn3SR1WOiwWnRTxiIdEEP7saL8C1z2XCFr6NfDWYg+xVAku98c\n",
       "9G694NIfv9B0pSNw6qgDB6exXKqXZMapEbqbNlRfXcJ6dop2GxHUFxXiljqGBp1sWsAVUmerPsK9\n",
       "H9nnLmZrPge94vJkB6wWcvRzQC9mj/30v0W+FcZFWF5J3byVbN1rJfuL76av3CjH/yugWjwWSXFh\n",
       "QxX8F931RrqU5+u0HAs68WkOriPiRmWJafnxwciE2LdOBYQZN0BNOK64kChfY+EWVaN6X+K+PkPd\n",
       "Zlxpy+qXrPS6CnGRxU0t+ECAQwI06aIoSbUOGmlFumQcrfLgg96Qr77WPAAaRSCfebVmEDtLuaef\n",
       "hEcqCqmmMEMe4Ltuu+skK3pLEgAACCJBnslFFSwS/wAgWj0ThAAOc3NZAtFJB53AM/E26l2RSNd6\n",
       "JN/P/piJY5UJP304udRqEcQh+YgLm402XKZF9GxUbqx5LolwrD57RBckvFJ4iOKTIAOZvygMN8dO\n",
       "1xSgyoN668kWlYCvmT9d9d6mYVb6+NnHZrg0IjN7H2JKRv4khgRKAmO33bsyHR248joDdhr/Qx3C\n",
       "/to3/OQmuU4H/yRllzOmu46dhw2atEBZKPGM3sL927BlzWk6q8IGxJwGk4WC9y83/OOUfNhsNhAu\n",
       "1gFccA/w7jpdlJx6wB8KA7JAq6TTM3+nXJHV50T3wVWIaHkSCleUHFROVJzcMMSdpQgeExn3iv8h\n",
       "byXvMAFAJSaFDfQizHLvJA9TCqllK7Ew52AvUxaB2auYpQC9JPtSJDk68Giy9GRqh/pc2ssoNiSA\n",
       "kEXjGm2fhhPCiXdVivhEcDfHvRa/GNP6hzI1rOC3doraroBGL7trEouY3pI2HSqWaFow+EGB48cn\n",
       "71o369apEUve9AaJXREplm+wDQwEe/K72V8y1WxuMqF6U8VW8q4bMvFu5M0wCXQIwAt/n+XBk9IQ\n",
       "Rlg6EQcUzlc8meuxNt/v9dz8kHJmFJb7hbEDqOUxglZsQ3rqQg6pewZTyezI7PcZeiLfU+2a90fx\n",
       "v2nB4ajT2v7IXnyUlt9ZETsQ4hD6gejskvpYOFUX8s3Kocj2D8sieH11SW/8URUabC5mwWNCuYvm\n",
       "KG9q3n7QCLpRE5j2i+yuWDQEeKDdev2SL2qSgXBNOReYeGFOl/G9UhFHrOD3Rv6MumCg2g2uzoSq\n",
       "tx/+DkIjkMm6kNCI7gqruTIJJVX2SyM0QlruuqDfunoCfE7bTT4eBGF/blCqUsWIJvK82EJ3PRzr\n",
       "Zg3oV+vh0S+uPtt0WJEQXSAX9C6aP6cDBnBumvmcUlmId45FeFzb72LutKXgCwf0OARxayxIe6mi\n",
       "/VZAg06gZZOdhfexSelALp3SyVgTYeZ4vhsXLVv0yXiusChNmMaN9fWgjgKQjfd5FIFD+Hj6y1Si\n",
       "rZpz/Pl/QWV0ZtBuBzFcvmKhWEpFYl/OfJ/QNAHYFNxbkzeKRORLgcGS42rW4V+B17bGv4CA+dLF\n",
       "KDgRbcONkfp603n54OyyToy5/4Ioxm6VFntL8HM3++7N/V+7HnjvdimKp9AwpOXKCYwNceMEsr4+\n",
       "ZBNocfVCb80KMJHwbG/ZZBfzwiLyB35yDgRxncepqlRd0/JNfqrOrNrCbLeC26bgGUSE7d/JV5FY\n",
       "j9wX/3cUR9YawOELJUnJ4N/4068UJLhp3IDMKx7HS/DTQ7XmKthO8eGdNho0tygUCUB+p4bTQd+m\n",
       "hMk+5REiYN3wHf0+SWe3RzeNBOl7C4PD7TS2sQPdzuHgbQ/LHeJ7fJq4puVeXcz4ZvAHEaFR+13d\n",
       "SnAZGeERr6LeK+8U0+OGCCEpLul5q3xncRe+iUGh7dmRGhpsy2Ciu8Jnkni0VaYNj5rbJdRfXITz\n",
       "mur+y/JxOoKGhYiFpgmm//1slLxuXQtee6u6Ny4OlyNNN61ePrLPWZU/4eiWwmGGNwnFflONeibd\n",
       "Sep4IPOJ6G0IEnY0VveMT724StlJu6DEtI+BUS+Uq4/a4zp9TFqq9HALzt4BW2+d/UdpQH+59ok9\n",
       "ksumw/OrJLY/1E98BD+zcT8U9Llz/y7QqqQA2E3JLmd+YltxVQD2DtblU72aRRZ/2/7ahLFFckbO\n",
       "0sfD8CbziI3uspBFOVbZJLEzt2B8Bq/oKuvAJ9U57RlFfQ+EenLCQ9lwfE5/LKaraoY8IHPhnfwV\n",
       "icBfm9T7+tUAGI5+VO+BC0Ao3gBKOZ+QFWHq6Ta00pYsLzlrjUUaq9qxQ3ROn2OdanJbKG8e9V+f\n",
       "xg64UTnxXXR3pxX+EOfMibFIAdNADu80mFqm2M/yEd7t7Pkj5r/KfEKtrnpZTiZe84vI5SV8eztQ\n",
       "rAoRoamAcqWqriLImMPe/7gyJ8jKtgNYPlmJzZPUkxow0JMJDF+Yuf7EAZpTx4ta2nAuxGOuomoL\n",
       "/puNcNads7ITXC6fubCnriFheF9rqn3SG/mekm2xORsFICz/U4+qaJWR+elF4oevzfVGHJ+qWVt9\n",
       "dg7wq74h1Evk/8gJS6XeSsd7A5GfLePf1Itk7ELDMBRlWCKoqSv97SCLaIuRJ6yzKb0zn8WsxB+t\n",
       "FihPs/DRQyk2HH/O1Awqxruep2KzAdGq8D5kFSJSNODFQWrQygyG3pSzFLk5a4surO1MWI9JkGPB\n",
       "bw5Q4l3rwcgmeUDCgyL4XXqJwQAUr9Q0fjWSLb0mFbojoY8HvkCrSxJ/iUp6e538D8kiZJONctSz\n",
       "HjUVtCMShyodKEGXMpIM2A+8ZxlcSGmPg5YzHK4EnNe7hUSEVfuV/qABsUvWx37n6gAtY+wvskPs\n",
       "e7+wKVnyw0Eb3NgqdhJhjp3l2eeU0iKM6ufdZjhX/mS7NFY6d7slv22K3oqENJ4w4s55K5Oz9wO3\n",
       "3ZEiF+SGiCQVPPuXxA1yO7Ufv9XnupuSsZ+nf1kCAXX1eJtNEmBUfCQlLXnsbTXBEuQBcSm6iptH\n",
       "/MIY1j/GIDS2JfyT6Q7kAOUnG/RfDS4iVnGV3ZeEf/ft4LadwVuRi3a7kRFRqoh6bmoG8fY+KaU7\n",
       "ODLlschU03nqPf/97nc6zdTYeoB/3emMB7dDY4xrbUgM/GyHkTrB2e/vldCgyLK7137Qcg2h1zNy\n",
       "6Ow1IfZFqJULnjbwuIDsow8fOZbzjv6Zc4C3VCqgT4x6aqjxzW/gc9KUzhzME5Jk322uvKAAAAgF\n",
       "AZ7odEEfACo6G/3YABzl6UtZvrSWhAjrRefwCiJtr5Jbe2pvPqdyAk28ShX5M6TnZTFSAkHV3qIe\n",
       "z90QQ+Mufsvok27a6uIEDliPKTtZ1hARyXkDZWZJHrF/hyH7eEbweWEpc5i5bG8f7ijPGcOU2ton\n",
       "XtoT8TbqkcQw9PIz9a5BoJga+GLhAzPfayUJIeMy92XWCKeNWBI/wCgRN6ZfOt/CgcR/DKga/eEj\n",
       "+iz4fZvUKEBFVQFycAcQymdYReVfu6hWybSJJcb7592kXFl30jahfn4tuU97oLV+Up3yJXCm6VIU\n",
       "ps3xZ4RM/05uG0YUozEUFneBm0Zbmk4wVQzZDIVf2rSWvv7WK6mwQKv9DCUTOeJhY0rNYvus9KUH\n",
       "JJUgO4Y2C/MqPVVxRzG+RCIgumhcKzqTjFOB3+2534pZNEVqcxP8ugcOLIghOpfznzXezBgYYBec\n",
       "1/h1nChjRGlu6VYVWLPBBNaM8XeIHTz0Pmey0LRNeDS/L78DeOILtSfMYiFrBnXAqsb2WrxNJCzu\n",
       "Y7g4UeUaP5R0FSeHGhjMwRaJlRHAX/CdXC+aCNy0RY+O0c/ugQkclvixZ1iwsu0+9kieTaSdbe7T\n",
       "sbtGIi3vpGJogxzUufmEBGrnS6NKKyRnsOANYVwf6X9G40GQAzuDBo/xCOgen6Opb0SIZhtqNvQQ\n",
       "5vWZgIbcOzFJHyMpE8wWWe6E1tXaUo3gXnbHMSNo3ChiruBQSLLlLjGIOnBk/SHozkpj3dAfuKq5\n",
       "uotrZGt49zsvC7tg4NtxgyxB/eSx2un1dnCiU5XHJSERFFpuF6l+zZ1c4NdOb8HYRfp6eehubH92\n",
       "m/8UcVeT5KNaaFEaSqPZ5/XozX1tniyWZLsfDc3UYwtrvP7CiVzn98yGlT4uQZvuLehmV+6zWuQo\n",
       "F0deQ/5OuO1r9sqY7nTkWfSvjrYNSfNIScm0wgGZtal94DKKJ5XLg44v7xqO564+1ezJMoBx/HgN\n",
       "V7MwvP7MAyY77yjulj0mHMkIPuRKxuTHwS5Vt6PkRo1HjrMezdDtbnwqmWx/RtLJNLiONkhLFZE3\n",
       "1IKet/LFhXloyFeBsGkItYT+PJyvShOyoCtr0DXjykTB7Inxr3i+Sa51/4kgl/f3oXdaT81rgRaU\n",
       "ILNVmLtIHKal8Ajce7/mX0+2PTJvt1ixcXiNrPVFhV8O8QdwbRQxvVSPC8pgCBa6dP5XEbJamrtl\n",
       "YVZ2k58nbpNDrOL7qmLYwgC5UM/bmeoh4+3Z+IQfbgxG/DosPeGF7Z0+vQ+sw9A0DTRKHHCFQ+hg\n",
       "r1dNFtGGGlSLcY67TVMLje8y79QCS26qRvZou+DYVYPVWrvXQsXaCBWjYtEf58jg8HfUMcD9cvXT\n",
       "clntyuAHVKoule4AaUMxQCwdS2kDQDBazW79WTr3d+CXQKLvOIcZBRDpPtrIF8ghjpwa6wrQ7GbX\n",
       "f2Zb9hPBNU1g87gNmzM8sXjBDrFvWaShF3f9A95wHkaoqqoF/Tzib83LvLAhLSDJDB7oQ6jd5Fzp\n",
       "K/SmdkGj8Nc3hbDcrndbzwGiOHMlhVEVoFButlcm/OEx6OYurqZWf8vYg0nYZ2QdIUkkYCeFw7qM\n",
       "dSXq9gbhBMx/VTD+iywlYj9n6pf07+ZAYAj5eaeUzjf3q01SmjPY2VHafUJldZqM7Bv7C/WOvXbQ\n",
       "RFNBVmITJgeGX9KD/nQ1qmqtBU2l893M/Bh9Jo1Np2hMs7sthlHg4SRngETefHjlBtV9Iis0E5oI\n",
       "v0CUSTJG+j64TcjoRCyGwu9QyYYTRISOJLrCFKw7IMcQJ9/NFWKDdjD8iXpRamhf5Uw2ru2VWLLq\n",
       "gu3GDPeEpIX6Cv5P2cghn2goriCEefs3mfkdAtvyT98GojFW3H6q1+AlccWQ0O7pPxXLjvJzJ+iG\n",
       "h1KiCjmBBb23/sjPBTPlviDflfRz4KyTWcoLYucFAPkhSxUdCeiv/lUz3obdpQx63JsoT9x0cbNy\n",
       "yCt87tDsujMkpZoLNc3by+MMIgYWJww9K418BKYKqk8nuzZ0CO1PBo/mufJO7FMji3mr6HqrExkG\n",
       "mE1L1U9tMItJwlxL8K1qTG6MXV3JezEMyxZWq+172zt5yb3LVze0c1iq9qiZk7xR/sJK3HrI4txH\n",
       "j/CxDrYR1JhikJ8Rt7aqSrnf4AghUK59CHeJFAT9OoiSnPf4kA4juRkkEBHFUT6bfxuMJcJhHxem\n",
       "uA9I55lWBlmVAgQ1Bo6t8IBSU696y27Pb3E8PLvDo5qPBo4nNa2hlXe7nsVDSNqWTA5f8qxeA1Cl\n",
       "Amrok4l64BkRj7GyoiHPZ9IOZPDjo8J5C48N+3LySTyg9OKNjlU8w+kMql272eHJvXs4tWrt7TmD\n",
       "uK4+e5tleHFa24oXf+f3P4EKpAhluGb/OSIoq80Ddu9xoYVPjELgUmniYJnTxdrhZktyXcAkXuL4\n",
       "BnQEcxpivB7u+yZV5kF9zy4q5PB5Nh1vV6dfLKT8xPx46FmKnbAvSSu1stR/UtYkjmIeo+P7UjoX\n",
       "anU2j0ZyD10O1Emtf/TjcAF0MLNNGmpD7Gl5q1wydmirjyOQ4lyQoS+NnTor3tccRRS+zYFEF8Mm\n",
       "tK+9t0bG/V7DyXvUI08wUjGcjlISJ+TxaAXl7MnOFmiYY5nrdJV9ox3RSWlWv7EAG3mpw2RDepWH\n",
       "jd56C+rlDGq35aQgQ7UUBaeixxBL9CiBkIaA+CcPVoQXme+mwDeKhYFiLQuDfGnenI90S6Zh5ePN\n",
       "QQAABrsBnupqQR8AJ5l4sAHaXpS1m+tJaEBz2l5/AKIm2vklt7am8+p3ICTbxKFbJiihNiRNh8Uo\n",
       "Xx+DfqSH+YCHxmFpO8sNlS/fAcRV1+lLRYqNUFLm4ASqOf73ma5DRNiXq3RQnKh2fHsuPP5dZn/g\n",
       "KsfsBdLNJYgToq1TyRAvVgTuCRhj3oxFd0AMcNBkwUjhLzv/OZvgOUDnYU46cgOkrjyjDpMOjeUk\n",
       "Tbj9H7Hz5K0cNSbzSUKvW8ahy7njno6o2pIJ8LDHy1feiPYJvFDhB8oWvN0TEUYyQbmBDB+BWlbr\n",
       "yZnkvZqAeW81P9YY7agPXUDqnE6exgLSk6zQv83/+1xmfOyBVj+SaY3Im4hCddHt+7t5cyYn3Bnz\n",
       "iVs3YfFGyVf+QoUk1lk9lCiblJ1ue1BOJoNkELVHCKsBAphXdFXZatMQN1h9ttlBWvXBkf3DnJhq\n",
       "3Vn5xhKy+qmswD7nkzu6GsQGrAt+lqtJ8scBgVAy1fphN1XkgtbhcyM0IFAYwdF/ybprEK0AZPZZ\n",
       "JhjoOvnbfWjdnjKm0oW2rSZhYDZbhkxzlVv6bURnH1DYwj9LyLLjqTKBPcCpWJ7dmdb2+E5PuQqs\n",
       "9V3mZQQKEP2bb98qTOkgYXvwI6R5mGzGZ3Zmdy6oAC0OafUV0sh8B9DtqFjES2wprwymYXQ74dA3\n",
       "NTbWi+xlY7gVJtDA3n7Wtd0Y24UopcZ+MRMLlD0nqp8LUCBXTSLoTLhzpAzXmtZxQJRoA7KwCOP9\n",
       "Ib4vU4HFFmQUlPWr0vBypGu3JaImwSTGJgexoI44UXvaeczVjX35fj8/x+/iIFN6rMlR7m3xlx72\n",
       "x2N+Wa9jJwsE/5eWmwBtV3XaXTG8RP++nUtZklZSMP22kVYGChQtv/qibv2sySIaCQ06evMp81bB\n",
       "ER9XL8aEdaxR+jbOS9M/6aLJ3A+LNCPXaWJR3dTxvnbkfifjH70c0xh/NNdqOKOFJ/tZUhNhBDD2\n",
       "BYgvjsBnkTTa2UB4IeFpsNJtVlrkxEkyKxjT39JBsd+jDG+o596c/22CzOme0IJMR4HWVOZ21Hnz\n",
       "jl211ct17JSf8lrPgGzrbrLrKqoByiXNWOLKovRkSF9/CCd5pPtRiXZUrPCI+YIF0VLVHG20/ZVH\n",
       "bFFFORzXJqc0o5woShyP7mdaukXzsmDZzdbLwoPKvP5JiwhNcw5jlgLr0bx3wbrz+FReOAPRAF7h\n",
       "AlVaNFQsd0EbMB+sEJwOdamiaMgHfblk6tSXc0KB7a/SApYRboHHU1elTJIZ8M+VxJJE36bSEfRw\n",
       "4BPj9r+JCTDayXnN2GHD55f/f2jabl0WSqUtfeLKTLuXVRHD8/KQDHmLvtE1mkm1RxY0FlDq2sLK\n",
       "tgA2Nsp2ySO9oIvFJs4Qr1sLExGKupLYGLROKf+XAOwg8r7K0rRXqVVcnH3ML5hciv/g07RKUjAN\n",
       "IPMIrJ2AhQGUS/eiedv6scT4GbKLM2vijiM0nSKuYGIYE54DFbiGIqjh8WaGkDeZGpIhcAx8I6oj\n",
       "7AkgqW4ZCvJm1LAp+hSk/TsRWU4VcjUezygKgncKHqc2hH7n7NSXHfvnpvxJuY6e+Ij9CyY4gjcx\n",
       "7n5NomGwk83NVDDbJuiJ0WIeoQnePBm1FpC0EsjKzpyVOV4qakfHy3gaPh5VXtDLPg23e3g4YNUa\n",
       "fQJKeFtk+HYYSp8TMHoU+tcLY/tuelBnxFZJT2mVcvcvFmu9Ry8qNpDgiudQevVP7RoR/mnK9qGM\n",
       "e+E0lz7yN1zpjC5pbDgZroXSkO5FjgYIpzL+jCN8OVlvFeylPhrkj/na/POow6LYQGnvxasbFZFt\n",
       "F9BHuB7qWp8fSgAMLgJRMpN+rL81QXLApZg2lwPEEBmQlLa/RosvLl143YedriZ0za48yHXhPoA9\n",
       "t4v1LpmKTvVfxnybPObIpVFncTfg1LB7ugQJlv75MDeYlLU+kVaoBIk2R/WRph07i8uxCJ3ZrczE\n",
       "r/iQiXuc+H4kZ3QAR6yfey9KSKJXh4BasXBifPExfvw4WZk5i1fex/KnEOCLkpCV0EPUFE0+mxRX\n",
       "gDmlxyfuYQwqk+40cIm+lpx80ri7biTGK5uPJ7/gVPHSsJij0SIED7juXq4ElvsbIAReYVMk7bR+\n",
       "i0SygQnujeS0HQF4BE1jUHcaSHMDxszJCj8cwHPa/2ZJvna4+fPTtlIX90Mepbj1jlCHWvjvJ6ge\n",
       "q7oJ+wjbXXXYA0Ypn8sBMAQFlyL/Ev51sN48aO9cC846l37Gw24FJ0agvAPC/LwdKU4fK9WjpHNr\n",
       "RPwKfoDu6IiG+8797Evxbf9AAAAKSUGa70moQWyZTAgn//61KoDa4ShZa/cOjJDwABdqnB///4HQ\n",
       "kO/BDrzb6/yO67K7i30fhAiPVBvEqyqS+7mPkx+rnqPGk/U/0TfxRwYiEZEKd7VKHwjPZadLzI9g\n",
       "YsHDNuFzdIMIewQIk2o/3DfAZHcYO0mqhwc+DH1u+8MXXebpDwO4fmnkD7oPcWhDPzgHYPl2ScoT\n",
       "zGbXwBz65kkrptXI+Xt5O14iHGCGFOxzJ/ra9dk2FHh+pH+z94YVx/sXp2gqa1EmfFwZNRjW+xAD\n",
       "g+vL1Wh32QdlIitcjwS2l5SpY7dkcb2Xcgym9StALlkuTRVMLEGnW9k0LNYoY1oSclXzajF7ZlHl\n",
       "QDlU5JhgGZJczI+81v7cooD/ORKFIE84Si/5z44kLQsgO3SbrV9RlBNlvCAP5djZCzElrs7bt8Kt\n",
       "1+moGSwKaMkBsPPj9edrCfmbJHv33uC74vCyZzGyAfSC5pf21A3nGMlnoPYDHcWsyz72LPjlZ+5M\n",
       "Hkzr62z5edZg4r+Sr1DXXz3PooHXN/dP8swq8S0ivmsfDTMwwxC8KjpDhPmmtTBftdoX7aPqS2Xm\n",
       "nrIxGjfsykHYcz0onqFbdu+v4aBx9ce+2RjqIIj6VkPhhV3Hx/arU2oABhwVZEu/OvIrMhOiVhbb\n",
       "rEn9/tsBTE/6k+8As33mWJcyvmREAAzGg/rsg3uXOie8pc2eFq5Cn7gEhmIf1XB+pEc7sqNn1oGa\n",
       "XAUiBdCI8hgLqxykKJwRlU2kQJwMgBGyTPZezA6MeynUbvAOp7IbyUqS11WV/LZXA/LpxselQGPh\n",
       "9OWXLGN4kv7htmmj6wHbLKPhRTZ4kQrEq6ldCITLlmJDV0xIi0KYTLii70IxUhQb9vL8Uh+f5qAW\n",
       "Lj+o3E7H+4Ei79KSj2yaB6vEMWSSWvYtUeV5Q/KjAd+T4pWQP2FXr3DVzIkZprQdfPz1vJD22GuY\n",
       "UurTW/5pnDR23pJ2cMWdCRXzRfGT+Oi97UMioHzb3HmNxn+WwplMmGxF20SmVMXqCUHy45EKnFLO\n",
       "Zfwh9sj7Ev/4GAmPweXdPRk9uLANAP4juA+zZN5KiW5R3W9f8g+xw5P5MWg65npa3xlx0u6SKKqr\n",
       "sPTHoJ0xoKmiN1urd2K8EpB074dlZdDETmzTbFWy0z+AnlzLOGur9ZFPbYVFGzhJ4cjlQ/e7btvt\n",
       "zeXabzv2d+BXydtWntzZr+phpSk5JhqESkbOiQkI8w+h5/6EgXmW3VCHSVziOvTaD1dIGS5wUHQA\n",
       "LbniphlKZn8w+h6mhUqmaSVRwYvLZJPvIEBJMvZUzXoYL+VZEi2g1f99NQS7sV0t/IPtpEzJxI28\n",
       "BRygWnthJb2ABtTlaGOR3bz8p1hqrlTovpgNnxMz0dpGQncI9LMgRmU+MooKk/qgKTuKvFWhUl9s\n",
       "P/31MtprAnL0dzczMoMUPB8gdCckR/E2bwWJoRxkrKQI/KpazcPfySlvmdfbMd9OeFTKgpIlvOHL\n",
       "O5ROtpwdBxWiZ4nBGGjNThDyr9OQ7vx8OoiVnrjLD1LOWZpG+E3HK7WE5BM//+UU+kbDoHDF41+X\n",
       "CH+tBouJpZNpW6zOengauFHhAkqywIAxlfaWycazfsmTUrusLhSWpXN80nD8Pf/9EfF7iRgO+Lkj\n",
       "PEcZs9lU4RF1MvzKPkBcM1+yeTJZv1kieenL7ZOjZ+bLiAD56xyz6ESW3Zeivapo3GdW+X+JZC4Y\n",
       "9LJrdu2JeDDNzg9Mp/VauESY7qx+49BIoSSeKOuNxTWC6PROC5+T+6PDYXgZjwLWqgi4ioCg48eA\n",
       "v+suqbqLf3ZDw0Vz2Nga1XSQ2Df7aFXv2KF9J/dGPgqgEAlw+yFXTFGQUE+Y+z2PFkZ1Bgvq9ByN\n",
       "xQVNjhlIVhHNpqQYykmHIn4iVgNx6YuGAR0Sh9xqFAbEtZGWQ6xQgpd6zTJgJ1OxURBqDtBmGAjA\n",
       "fRq2YNkF2fVM9UYfeDRhL9bLVJzKHBAtpTbVZsgwWsypo5ixeK+J3Lhi1hGOwq17eiilFXq3Awq9\n",
       "V9LkV4OKOGcFvLd2p1IPVJWhjQAdQ2Xdluja/6ReLDnOm47nUEdnriIU032Qme6SfAga5O0W1R4Z\n",
       "TEOw6YQI9MuNTByCqeHzRnwq8YlfX0WfWZwI/Px3KPMsAHBydsFtdgMh2LIBedkleicKuSV0iv7G\n",
       "5YSGln38IUHU7B8Pf1uINQ6LNasz2c0A5+k7aoj64qRpmpDZMd4SckA1XRMDSAcbHhpn1avmcG7W\n",
       "TnOWFMeaNeMVz5tsvveFGRM4xOgLd+mupsEAbvbs6jxqbT2tTCg8Gk6G78EeQl3HcmvVl0lyLjUy\n",
       "fZaSyyHrX4/2ySmaLsuGIa0w1vylT9RGTlEbaxpSeH6prhDE3niaXrtWDaBdywcG4HRNXD5zTjeV\n",
       "kKke5qRqoeoKIVhecjf6QQTt4hTOe3AZ1AlEUKMV/DfhGd6X4Qvq+DdnfPDviuDJiqSixKz/tX//\n",
       "/btAJYkt7eYQHFflgYvkm20MmpmuUVzHd90x0dBZwhA8KuKr2OZVB8qUZAUVyu6thaPhu3f/+Q9x\n",
       "jvS2i+DeuJ1y977snu9xd5TZj1/hhBiPUdpq1Ls0672RhP7oLAUG3IveAx5uEzDvNyOWhyINiiBf\n",
       "nCo385HIOGatJXWL0Qg2oa8zAJNFR2aMA1Ryb5qfEszrfILfF0zCil1bFni3Ic/170w7IFP+VgXo\n",
       "t/8oNwkJb5KCUxQIRkNG9012AkM7jo8pxiuyZuV20B06L+3IS2cW+l38hhGiWWxssAVIFAEilsRd\n",
       "YCV2+Nz4T3CmDjaZ/xijmene0NWC3nA0tcJaKZG6rayvBOH5YBIajciadwMxt88ovaolpzVu415Y\n",
       "1gZzn20kOXd60tVLk98arCqyWqZ3vVS9IYMENkKvK93Ljm4asgEFnDv5eGIdAgxu8kMudJHWXYE+\n",
       "GQZns4NDFQ3Wy8bXheDCFL99Txs/whKaoPginIpX7TwJphh/C/3nApkJpmRe9lrF2cKEGCEf3mCn\n",
       "QUwnVHVNo8XF9ycysxoNEn20sVMI038SX/vyceRbjnFOEyhfGRUNgho/oNcjOSkz/rXoY10FLHYZ\n",
       "4YBixIAYTsQuhdCcwLTU6dxvO+pRCY+RSAPj/akKhEvjyr63HQxqvILFYTz371yybZ+EZkgFFOZ0\n",
       "tnzQde0cA5GGpqaRCC3smDJeodEUgPWCAEB40yQqQkLijvw9kqkdqALWt+6mQhL1HZEpKzKuCz/e\n",
       "4njOZfzMOcSARAXnq+KT5HnOCvdDh3QME6GiVM7arHkHuRcR5UccDbWqKIBnKODQl+6DQI2maUB4\n",
       "B4Dnk2jMRnlSGlo4628qbB40MuTmx9bsZPfITJ2/KS9J803/cnDWo78heEaMYetPXsevwkwfjNah\n",
       "6gKrbWQ/ifZs3iy56+VB4ssRtMHii4mrB9Zl7LqRxh2QX8Yu+4h+lyGPmhacO0HCW11aOl3EBgnZ\n",
       "raTecFtL7wC5m6Vi5vg7XyQLMB9V3PD4xptZJ8MggNskAAAGokGfDUUVLBL/AB13dia3K+kADRtP\n",
       "qX22FPSMxishVOak4zlaectM0OSSw7cTwks0g3MR4VGtmDZTYJnrWV5JI8thP7IvtUvhB3gv0t8E\n",
       "ToPaDd+nDET8iVyu6v6xzsl/Zmv6WE+KFNRh3laZu0H3+j9sS+5Mv56npyYKBY/ID6xe7YHKVm5+\n",
       "jK4SZUHA2xsOz3rPJjDbpLHLlw13PBEtRcTF7WmFv8oDQs8FERwqE0puw0e0fpsXwCWAoygF08qz\n",
       "uNf3T30X5v7BcGOFX5RA+LCbTd8ItTJ+ZfMUifkCh2Eq1NM+j2NTw4U4hRGSQZoOj4WBD2MfLb28\n",
       "+Chp4MLC5FP7NdWvTis5Qqc2gTT4rDElTkacmcbwzPS9C2L/C6fPctpIEIp22RuAxrttA+81k/KU\n",
       "BJytAvv+BnhbK6AO/ZTsidxtYii+1dpEES3YkcLoQ6FvXuwy7QyunNks1cyG0SfakWku3fk8rioE\n",
       "k49EeYW0E3Ofye+be0eMSux0UuaHZDtnkQoZPArM0/+gho1y/IKk/Hk3OZSksG0Kjsc/sSuBqcdp\n",
       "fFKRbM8KbJKAHIyw993sK0aB7MoJ+L8T96anLTzwE056LqfwdpKpr4fw+LR4dKq5/JrgihWpO84w\n",
       "Pf9ql8KPaYXaa69fqxxZ9JAPuScaasAdUuzSwAJQWCUhm8Xc5FmR5nV+Mc4sMCSLFSuhN7e7xSGR\n",
       "VHQ6SzEHqm0hx+B4E1EjFRWFlvX1+FqrfnEqzVxC/QyfgAtxSoMCAesOBaNbGUxZ4H9skgu0FCsX\n",
       "jbitIH53tnt6DMYRGyUWtZG5zPUWWCbN6jMoCPBpemUEdaerWeVPioOVBObsL290znLGyzHoguBy\n",
       "2sd4mQpm/BaGiuwpbLkel13n4q9E8W6hfvcGguL+icN4Dlzj82UEIfx8dLGuglYbvYp4dUNShv7y\n",
       "obM6E7RW34TFqb2o/KV9E0CCQ1Axgxj7XJRV8ZV4wKtqc9gzJOo4b/p4GmaGDCxQsiB9rRLtaPw2\n",
       "AXMPA8qNJUe3KYUmobEZJW98py8eicPg4+pFn+QXYz/5ZsAW6sPNs94m3Q/PRr3BURC4sgHIjSsp\n",
       "zqkEcEhH6Kl5f3a8YI6j2a7hmdty76ONKi1eqzVzvRk6tvucvTLiYhSFAgpcZW24uNKqu7Kn9cuW\n",
       "hUiJsJq+vFQhW8YxtIk+UinB105euxgZ5eTpYw+/pPwYb7umO0haavthx+Q23T/6rCSoL3w1iVfb\n",
       "nACLWbwL0QY9RzPTY/ZxdQrPYA34sAqiRreQRtBVkL0b31dXtRAEpIT5r8O55YF7FQrmj/9cp6j5\n",
       "Dw8dDVKsfHijlihQjJGITLNA0cGSLk0/09RvDUQzAUOCBhAWFmiTl7XE2JnME+bgLnoPrnBwAOq6\n",
       "DhlTIAez7ls75kl2JKTa0bSMeIhsoGB7oz9Szg8S8B0PJ/I/6K3CfcszDpEj5ShDp2qBSXtFTQPh\n",
       "eGxXpFVs4f9wKH0TK9MpaUZM6q0EcoCmKrFMofreaO/B73MZz8UnEpZdfTd+z19Bn+E0KWkEnY4F\n",
       "gn5OoouUR/L5awWmK/kJT/SMuUbQ6ba1C6K6v/HPd8zI7h9exSxtLLP/H6ukehqdd10qwZ1NQtog\n",
       "bWBBpfqhY3DEObp7fZqZmQiMQzZAD8fOAJ2P1y/gBNjMW+HP4HLe/spNOC1dQPzvZpspAHb9HNry\n",
       "jrByUFN7X3erom7QZ4nX+S+WNJd3+fdgz6M0c/UZfW7M1UPBao8OGGNjlq/w5MuWKUNtP32WC7pr\n",
       "D2T6/Bb06FCzgIlVAXNmOdFmhmJtqsRnSFIimZJldNvCj7WsXK5RBBjZVu6c9/DCtas0KIWkgwAc\n",
       "lJgS2t3gZurn4NLJWWhzNu5oNuxMJ3Gwg5x6OFHMAnnqZ22FRNi98AgwNO80kPH9olFBjezaKAIx\n",
       "NiJvGqL+bJZoT5XgKE0t4PrhblrBYkxpUTubH7209Qfetazi9AQK+MveJaDqDp3Jb/WuswNG2sYS\n",
       "T/6rVWyBtewkvt/64R8r9Nfc22Kc86rNJJNnpM5audKnmqIlrRtZZfYHy4QZZNtBjEqE8xpJgRGx\n",
       "vduhfrULe1mVI3jV+USxDgWX7KMkxzfDpkLziwUbfbMJoos0QC7Kj9WWv4Ug4GQAMK469Zzc+Nzj\n",
       "qdTN8zhRgASX0XojMcxWsHUUSdvZkRrt+ekiYu/1izULVZYgbmZd5pK2jojsFueuoo7TonuH8sHd\n",
       "PUbA8oV20+GDe07S3Dx2Xog2p9zZCo5t0QAABhIBnyx0QR8AKjUTp5GABo30rLFz71n09IDMmL65\n",
       "l4FiXtzIoe7CyrR9IOM4peki+xlTrTSr5z8/C/VJLamEVs9f7CBhKyYIWjUQcktcJUwA9oUxgHbk\n",
       "TllqIAUezBs1mXzPfVBPBRogfhOuQRK9/kdJ5R7TakEWpvVn0nwDPRZmi+SqflTpeNUjWCso3r6A\n",
       "YL5fCggIhpiOKIKgi4EwsH5mbEfEL5LdPWV3ALwO92jYar38hFdxMflZV/72egQwXaNbt9ibWOlK\n",
       "ECHk0VBIuadOXAuyKl42L0WmsEQm9UnBECW2U8doqZYERetZM7k1Dh3Bf07VT7Ak0rDCFrwSezvQ\n",
       "Z3+GfT5suxTOUix/IiORY9j4mrbNpZCQnCJ6M3vBnjVfdLoorubp9CgGBGLsg6XnQIANtSf7olue\n",
       "1ij6pnRDmi+LNElStP7fQu3sBqTCuXseIi7YD3dRKOSxxRouJuEKHZGb1/h/LnVX2xOKaMPUJL0R\n",
       "ga7u/Q529RCpnSgOlHFE/qoyLctZLoKAGWDm3KGjhKRDNDAOE4JUMkJKn7y8TLUglQH6cBEtx7X2\n",
       "qY3+opCYFG4rUafNzlCKdlSQ+fusOWNoVRljmKYQT6jyQ0lB64Kg3qn/01cAurB2LhyQVd9uBwI6\n",
       "177WsiO1kPzK5HiBKrNbybHpn3FLRkOOgwbqDnEB2i0Qabs91F5MjIPMnRJXRFpkqBgdlEqL5R/p\n",
       "41n8AmzUCQmUX6SNJeRmJRxw5aGx9n60dcczg+n3Myyfhuyn7giMnr094JChup3+gvpGid+FA550\n",
       "+PeeU7w2kaKCWWlVzRX1ykCR2x36XsAascUhOHbz/YthZsHfNxYWAuRg9Hhrp4wNi0lNU/vGwgvF\n",
       "iRnDs7PFZcbLCQvgLU/SUJi0JTPALQUSF39l7fzF+Kv6USTuZc/t9eXtknNIN+CJc/5VMnBuhfbU\n",
       "6OliTmz3k+HvHGLN5yYL4x2SfuxxjZrPphswTnLyrvKoDIhKzVBq5BJKPCv6XTQS/kZLjLeH7/d2\n",
       "6zlwDrUpb57lv3ylDLUsYpdDrVhulPNjxmiBAObD9BLYXZcAJ/7cfFajnwqdbLK+TkGA1+D2SZOR\n",
       "lbPC9E9o8Q2s318gyjQpmYNWVK3SKA35kkMlrmxrMClkB8aZCskY2Gtyz1Ykpd5PZ0VPMWNb0Z0C\n",
       "fREdVf+8+GftUOTHVQN1Lp9uFW6Q3BaZvhTTsviXCFHYo42lNK/XQBVYLloKuY3dXb2KLPD/dkte\n",
       "Dlo7yPunUMtH1GqgQNzVvWRGhob2eQL3Hz1yDNB7qXTu76Rfz0bYwp/2zyBfHcgZL9RxX3LBmstd\n",
       "JC/NbMdSiJhTaV8tdGQlSlDxu5PrQ3H2p7tUt0ALUPf9/5cuGGjyd9QmON6jKnCKHtbZDm0ZV35M\n",
       "gWZ3MH44igP9V4UN7E9DDQeKLmev7VJ2YVpuTPRFlYLn000JLuk/jcARi8ZAp0IzEV8K5gMLN2hh\n",
       "oHXOFsNoHHiWlEi+B9BF3X2vF4zgANWp8d9+v+SBv5ynJrAyS/9xo3pZQP3eiU4sWZla5bWaQheK\n",
       "Jg90jYiZFqnUSGcnSG/LxLCQaY1lcG8a4HaLgh/KogRDybeJ5evNzghPjIVkZH5h/CvxDyrN+j0i\n",
       "02zaQ03coak+hGvMMe2BQ3qYqBZgFtws9aQr+2arTxKEr6GP/vAcDL5rmx+jMhrf6zNbsrmb75Qu\n",
       "N6M3yKN8oFvfpaVSeGSNq9VUxizSjm5C2xHWVnQI7Y2kBgcgz9BkuUwH7fGDKRdOswZKTSeXMfBI\n",
       "HrJB7hU8Go+rHtJIc5qKE74kal3ILvSNOpggogM/Vck3UU4Yr348y/79ikkoGAYbHQf3qeCqfFko\n",
       "egRE3TXhkeJHUt39ug+20UOs8QE8mK7Lma8eVATY4//tQ3GKlL2k3F1p36Y+PfpND3j/kMqShnCT\n",
       "0ZckTVlz1ysmt644os4rzYd7+/NNqitlWFI6Rzys/Qy+i+a+zkyUq+0OeNs+F0XY7r/1hCJLsR0s\n",
       "fYM2iIzho9xuLhkl0fEPlmnL/Xo/NQII2zwBJ5F2XiTD/2YBxCnj/wAwJ2EAAAY7AZ8uakEfACeZ\n",
       "zcABzl6ZM+/99p4eCu92YryhVaiuotQ4lOX8tjkEFPv5bJU2TEx6lrvmq9lxbMWgeOGWcHcRcsep\n",
       "XYm1q8HbGKs+YIN6uVDjSG4qFrJHI6BJS1uynDnDA2j/nvV3s3mtvuMiZLyUinqn03fe+ucBtsnE\n",
       "mmkS/BwVPHXXUEh/klJjZcp25oaBWXQiMy+KshBOsSCZkPZMCXELa7gpYY4dtIb+0ZF8uOgRCa8K\n",
       "+SsWpZWrH25uHO5AO3OdKaY4cUwfJrcFG7yDwASorGe6P0SFSoETlo+j1LgaTOqiFoRhtJpIwBui\n",
       "SMsMwLQZhaXm24HFFdg8rfhmj+SllcALqMQGLSjkURijZGg0V8JIALm4GE4jrXc2r8C0Ou6lphr8\n",
       "38dvd0BpnKJjoHvkyr3ahUlzUM+O7TW/zGj1mmPysWkkzaHtUU/f+TjrjauRu2TPl/ze26dNh9FO\n",
       "Du6WK4oRW5TPtHlMytMaNDcR6lsel/raw0DLqNqyEv9SMa0sZhrpw2LU99fMSJHdDMZSNA46ZA5t\n",
       "N0gJXcIQEG/yIW3ba88UvZyPQYs/8h9d1WiprZgvMDJNtFuFmkMRys4e3KtWSewmrLZWBnIiRlMB\n",
       "pucMv53s3Jyb/7Llbro87mjJrc+XxI4s0eQWM70aO2S7Qajx0sW/w3PwizI3j1M6yFfmIjE1yZY8\n",
       "Ya1tePAxzLSkJkoGkFJBrQlWJycpjhEuKfuVqtqmVtPMnk0kcgrhzlBW34KIKr+mVNfcN+e4MWu1\n",
       "B3Y4Ya81+Dl+S2+aGavZGmvTErLGPtZoWfHbAflAWzgQlz78JfQo5bAPucng6RS1S0arvhgpgmcp\n",
       "6z+e5cS40l62cfQff4tt/UyhmHlZiNVJ1hWP15g3V1n/Cn3tu8RYPv6oXcaOKSrzTwnElJwSBnhU\n",
       "gt/RZPXW3PEHP2WhTxHvJBGmjgBxmT95wQqaQH1oo12bgkrphmbQIwMD/nN6rfC+OZCMB1jq8dhi\n",
       "DFfhYSOmDH1KNv5sINvSQF4xdPSaaeb7aa1XCY5Zc8By/gTJwLfDMsM1OH6A96RtAvUZg4Xi478f\n",
       "ZrZWgRmvhd/PwGvf0+wczdgM40Vn/7gEHW1an7l0TFNEAGUhoJNYssjCzj2MDX7uAbsrGsQuekIQ\n",
       "IV8g2qGGXbu55Au0aPS61VE3LaYkjFwtSXPJoxBx+KLKYapQFQqz4QLY2ByFsMxoJ1wHvyapQ8DF\n",
       "AZY7usxJKJ53WltvWNFgh2RUCJtl+5a5aAUk//PEwuhqvCo4eJB5OI4BeCsiF69R81iPk6JQGS7h\n",
       "Kz3ObIyo8rvQdPuc6KyDvl/6/OtwDkwAyOash65T6Db0TZnDRyO71HZgts36m71DLA+jtm0Wo36g\n",
       "haIdW5hB8Ltm0+omn8eCqH6eKJv010vZm4gByJ+qCKxA3dARc6BWnmxg7W5Ev4UeQ91JHu5vjDC9\n",
       "bB60C94hTVdhOWk8bPKCgn4aOj3Hi8r+bHawyo/H/IVFo33rThU0KCufFPCozJWKELA9/H8VGGFc\n",
       "kBDiQer8g3xAuavk7ni+SLys+EEjRtaU8Hp2rJeU+mBg+2bbovdR/V/0XchPf3EThp8lRq9zBK9s\n",
       "9MASXQyO1PhbmaJfvk0Q51bX9GBT1hyP7Og3cZ38u0zTldguvXaZmVrWSOtYK2VqDvqbely8k8kS\n",
       "/h0caYA2nIxq99Z70R8+psRQbWayQ9MRQypmsqNVq3FOW/kPzK565VCv7cvrdmBZWWwx/2FFc4u7\n",
       "kblHOF4rHuHbQGJYu315rsc8doHxbWKfNKhu2hZkytI94vhoqAxewoz5RO7t2g+t7zu5J5PBh+6e\n",
       "mBNIDJ4WpA4zylKg1HD9QDcGZSU5ofHPp2QxnMMeJr1zDJ99Vd7br8ymKnqfteYVKUnm1tfU/0/7\n",
       "7bXtI2Bc2GgVSmqn41Obl8oTzh4yOC9iky4PqeEo6ib8imD87dxZ+uj6GZLLohr3evkZicxBU9s0\n",
       "U6JaHTSugQXvKWFtShvUeyXz3o9oQOTnYLNQ7c7ZGKG6hm8OfC2JP/5yKauicgptQpyPlAtVb6kl\n",
       "WhRbylhfVAHoQWw1crGSi7SCez0aXqAwu2h37y1qvvl/naBoPmQLeptaLm89UrcAAAr3QZsySahB\n",
       "bJlMCCX//rUqgLvWW46jheAH9IAGfA1/b1w/U8ocggh5slNtcK0NuQkpev94BmNwk8tEti5AKxyL\n",
       "vOn3Zpcld27cU5RkqCRqWeCUBmAPd5n1V8F4+HfZYxGjCfegpm/yqL1wGpJkQtKOrT9qMX6vC/XQ\n",
       "eCt2rRIwob2fmmRYIN5noRcrHwIEsJeqilWuQQhbm1DFlMNAZKavgilOfKXgNmEUzI/+ftYNTu4B\n",
       "gMEokBImJfnXgVsdV0ITt8Fp8PWKoAkMONAiOnuD6JqaoDAGC9ApFObicoHlWDRqnc0aBlk4JGA3\n",
       "PUUHurAuLr/F8nZVSjmR5hgI8SSVM2VRgwq/aRdR03SVHcLi8okje8GtLBSdbBsiJsWIaSETwp4H\n",
       "J7V1KZJoxEFtw9BaEBOmsd9HdtdaBCUVQ2K1nygo3APCQ3rrOmi0zToPLmNBjbjm3n4mYtr3IiOu\n",
       "pI2Uk256Whga9PUh6+RiBnY3OUU6ULeyJkp7lszW7DVp/Dcl16SYVc3DsTaveCOMZfwd1RLWs6D6\n",
       "0XuggLCGJLBWDa81q0V6yNU2s5idxflWL30EgSYHgXajojevXHsaDuFC7ju0mBCSe9tjK7/KKcSP\n",
       "7m6wNnrL127RihDcKYFBjw3qNCSt+4nBTjXXpXYo11eMVx0vZqe8sELAds6G/HlCHErAjsHY6HAM\n",
       "t5E2ws4II3QP7UTD7InEJ2dEctuq1ZCEKLVkuhM4mJkYYy203BrRX7rTsQ2x0XJunDaIGR2lo5qb\n",
       "JOdMoEcw1nzhIqVQsIpF9iYXxkwtBwP+9GrGkIxS00jOd3aE4CbovsnoNVmz3C0y9DHNtWcmrNp6\n",
       "ZlktVb9DY0pSFwhnqzKdKLvFnSA++lRjCZoCXxnzWu6gc0bYZNWoyd0QrFrs6xdM9FlU8n45+EmS\n",
       "RXau/mBc8a9Q+EN7FRKrPShEGlRF7ShFw2IFVeb4iwL+MoIHRmjw6XbYNeqwojVN60eXoPJzL6u4\n",
       "Q5NT2yBnXq65sMthMuLZND5bBJj8wGpt7JBI5d1sriBQA2fNILvyp1Q7zIvjCbFxO/+K+pO+srho\n",
       "ioEm0lZKgA76yMC4AsiEYLg1s+RZsCXaPMk6HK71CEXRchi3m2lH7hm7OBmNxV/PnniS3dA7ZpLT\n",
       "UfSQcPdOXahWH/bP/X6MlBvDnUIEtsHeH/y1Q5k9P1YMg7Cqpz6HXPOXsolboGxU+x/VAIsZA6mf\n",
       "2IZBmpjeKaWhpW18YX0DMpiR4K+y9LpEFPF7Yo9T5zoX7c4LeSikilBxGFCOWvonzV2A4CvEk5Q1\n",
       "gKd/soURhfg2iTAxll6oQG6jAe3lrFgj3EnRLEJh+MT8ABQUVDkBhXquBj0zZ5brjrj0G005QyhD\n",
       "E+knnXcA2p/AOAVKmg/xkMYCoZHBSfNxiQlEABXlyr6eoBeqVliu4+95QvE5Hk/lRQ2Q2AlwU8eM\n",
       "yEze+rJPXf8dP///N22/BiFf95svevKbNgeWmwKN8tjz4GJ8gRLXOhLLpJAmUrfp2T5zEiYvhght\n",
       "SXPGZuaNqOoIxREfKHDRAA6kGkHBoQJgtlfK7Losz3A2UCE0TULf6mDuMTPYILckrZCyNoUtv8RL\n",
       "ykgHnNZ5gWuw/JOGWr1lUEAIC75lHJJ2Vxfu4v80GArnmAWCKNqkjv2hdRTGIgdusPCihMcucBdR\n",
       "6zUfUv9O2KiHqJo1QAP083Urt/8rD1Qq6PyqaNC+fMVNllIFX4iCtk3XFxUdSQy9EP+AQMttKjyV\n",
       "ft7BTXcndeAEhDumoHLdLaNPcad+tFMn3Qv6iQ7e+kzguBsS8sHnNTwNy6qA1c19MlYIvzzwO/ah\n",
       "K3cnpyI3e6nDYUR47b7n9cQtrudVqCaHsrrJQM3HOt2dm45hLhmtRUGwD9apoxw25WsZDDniHEAK\n",
       "+zJgGT/LCUAood2HYZHBX0+Czbk3ZzWuFOMOExpKmd++b2dM/yqxdol3bn9CEEUhRKrzDGfbYARJ\n",
       "uU2g+aokDCPKFyYh/a1IXF/CgJddgSmCLSkuHhaPHW/F1/8CwS8ausP5bc9fdydogx3pUx8RHUKE\n",
       "Ymg7VDZsiOMiNq4jAKtWeMmTrZ4kAwMDZQ13knP5/Cr3SgYrzX1ZTO52DflbInqkMZ6sKrgGhRH8\n",
       "AoD9dW5AkEUS8esya48BU8hBIghYkY0T89vQjVu5KykqI74OYQ1Ezqg1xtF3HmIrDqX7lvyvAT2e\n",
       "o7MD73ku4QBf0aCZ0V2WvRFj8qqC56UiCGviels0E7AB/EooNEBsZEbDqafHDDvmugKGISE/+NPs\n",
       "HZger4soQO9VLBCFQZYB7WLtZxVcAm40KinEzsoqkAqM8LvnK5MHStC/bMWaHg/BfyLewKMNKFzV\n",
       "RNRzn4WpsFj+TnH6fMsgCx+dX7qlQhMGSZ7hW+eiOlEvkyRq3ppZWelnnC9GVFD7zzqDS+3QL5hM\n",
       "pLfcOz9+3CF3SuwfemMe6/5MyNWfEfxL6HlzudE4cj4krybWSiaSlbw5wgZnl7FRGifkS1ubBMfC\n",
       "rd322RnPLz+9U36XOm6dP3dKTcpuk111df0i+honalW9gs8EsE1dzEdd4frvFeT1xDfd/lBWs9rc\n",
       "M/NA/R+9JQWkppq7AZbsQuLdKwD7m+pX51OCbMZfZUhw57Dj5lo3cedpX1ldT1d4yd4Mm4xKNaOf\n",
       "ARoUux8EN3YcJGznsEReCVatHF7MdYxHSpXVllUCCgJCrrPlZqg/Ma793UUkG/UPkaEWHUjL6+LB\n",
       "q19/dur6JpUdbfjjpdwTQegMoJ6jUJUoXotDPxzbYqDwmJEOkkb5FUUXIlf//xNUkg+CB7/oMNLQ\n",
       "QRr/hnpKR0I6lZ1hm3QFvAlc3Uq6Bg3zgtMC3lVhjFPV1RTa63LttfvmvFEl54Y9z1ghdosk4xME\n",
       "dc5QbZ1hAs6GNgiUNNBmD75d0Qhg27mBX4rDqngJms9FyfTQQHrtQP3Kw14C4UYUdB7Bupow1/EQ\n",
       "fwzzZ0TsfEjo7RnKYAYe6AGNjONd9a0uIlNPU/5v5fOQHvyin2R/TkS6Kk6B+Pdcip8/Ctslg+TP\n",
       "eIuZLc4w/rIbP+KW3Pby1xZQXt4TooUDXQ0pfkVxu8pwf+GKyZDbfuUGpvkqqmZrTN8djwgNC/Zi\n",
       "zqrs4lq3fZq6Eu1Ghb5DPh5Y9VotL/h9Tc7ADe6E6uc6PQzhZXKV/m93gyab0sP7vOS8yF5NKakz\n",
       "OSLZVCF1SO8Zd5fp13dTCygWc/Hiw2+6CBG73eblGlL2Ec0U7wN4nG9Nt7LySEjWYf7joWaCPxUw\n",
       "dqvQi68SBAlhYjPCg55xQyPMAZRKn6nk5E4UjrcoMRjGcvVekSEUO5DOrSUOlG0/oyPCpBDCfiV5\n",
       "mqPgBkRqV9VLMaf0E2/Cw68VSQpQcCEFXs0+s5NMdOtuVgagh8OPJolMEM5ZNPpa7ixDARdAx4+5\n",
       "5abdu297PuOIH6/ExHpnWV33f7F6zFwhMX1G4okR2FMKs9XMN5S0Byi5FJbJVu9Ddd1sVDZEC+Pp\n",
       "wzzBejn5hO3P3I37g/2zD1OAcjR80xHK/dL0CZzuAMmeaqryLp8G/PiI0e3E/8AvyOqzG15lHhLs\n",
       "o82OB5utfBQpXiJXCDuAbNyMTGxY5sRoU8ifpdHjNe/ehX6Zx1FIdCToYDAhyXEmMspjYC97BGMN\n",
       "s90+GPs23rz6mKr8Ahba6Nor4g+kmxCCnKfZ4zYwkpZsdasd8g36FIwAP7Nc9/tdl+VV4B2mhz82\n",
       "AMHxgmuZYc4AAAb7QZ9QRRUsEf8AJ3a31AA2q9Lr++amLV0ZiVyjyldkiYKXcPbKSMuKfP6OAp1X\n",
       "22lUriJoTISbmrN+fI+DcEoSyp/uWJqx5E+5j7KuuZ1UV/iSY8ZZC4l23t2UAlNZJ5RLQXA8d+r7\n",
       "63o3afdugu0mlCpd5tiLyqPWK+yLvbA07l1ZCBXRM61QAzdMhUz/Ek2bUmvEAcHg75np73nlpYOC\n",
       "5EoWTybPERmQmr98L9dOi053LwiHwMWPD13yrJjJSKjIr12AS86y9hunQOrTwMSpEbByq0d40ASG\n",
       "zMrfxpPdVGn71IKh9/AXxDu6Vj+rvkuM7eJu2i6t1pP0/VPG4p9drhzf0iFY4ifDX6JLQ20tocLD\n",
       "65Dxd3dN2RRjd68KR0mPmVqQ37wk7NARWyQCRDOJK5xT16qOl7UEWDHwF3ImSzze/TpWZBG57cqd\n",
       "drjhgzMTsPqA5Punf41wN4g+5pokiWbsvvmOV8UbYV7pF6ejFP9yyvTnUBlHLo2JZ0IUXMSztCWM\n",
       "MDwSIL8k62tNAW8snqscBOGCyceqGOwN0pYzo9OqUcWez4HqKdF8vjocd7ybmP9lFKhBp59PZz8K\n",
       "QhpDIbWpzEIPVSUBqCSbBpd7/nlOKsUgyw9YTbDKxavPSVUMzW94zyADZnNuiuFUmgD0s6rL0s2i\n",
       "ugRSUd1PqVbxLSaahe3uuAShoCFlf02BkP73+kcuwTFZHL6FTW3aHukuHHk1tOhBJTm4+z+TNt+c\n",
       "bmK1gTvAC4ZEAkGezbRNCXu5fgbKrjh88/aE7cCTat2vIoWgz7uPQXuUS+dHvGA1qUxsuENkrWsw\n",
       "b+lSSs/WADmG+eCIxZ5tKsuMBpJtDW+IcXyhP06as4dQup5kvKqnO+a/NjM3Z+lKM0TND42AfrqV\n",
       "wFqAUgM74FAap74mg+pxQvPsSiqn5JDYcsfvXdYiNtMT4kyk2XgDo5fJWaPmBGMpQGVGNzdKLyZ0\n",
       "7GPjCtwy+B5QPp2UWHXQiR5PbwDzVQ8Nhebunaw61SRkG26ACzLB7ITlo2Fj4TgaH6UXjWA9gcmo\n",
       "lCkmGx4N/YnnN8yDFitfxNbZob5pE0s81K6hAol1vT/UUFSTplUCXpadUL65fNf+X79nZTENhZZj\n",
       "o2DoHllLpJuZOYpod1GadA0t/wGOb5SjelXcBZMoXST87wNFF0fLxhdiJLt9pWzsibT/Rhg5XSw/\n",
       "MRv7revXy79Oluw+24Gr+9qx/3oXg64wHrbh9AWBKugx0X1WeIbpY4F9zI7/vX+xQJlAIPf/+/zK\n",
       "swjMnyPQrO5Q52RnXVQZcIfPXdJn0ZdAhcGAAHfJMyrYuvZysig5eup1y5R096kVMj7qfmDQAt/j\n",
       "td4+3RJ4lyeKU+tToGCWA3uY842c6cN3iEDeBPf6EwSdxnUMsC/s+tTlViDmoOuR0ZSSxO262K/l\n",
       "myX0ozVhgtlTZneLmYJ7NMEZE5PErL9IvNWeX3wvDDKa/GFbuL49jhoiEJQMkLzzQSQj8ag/7e9i\n",
       "w02xOuvnNSifPGU22SZBmZddi7BSj/tKASEtkxa+CvsyrUpJew0v+IUU/clHwNIsaK0dLu4j8sfp\n",
       "88nr0zYi2eHVuU2DLiV5ILGPkx4DJSCDBjp/H+WkZdMOJxWg1jX+yZMmyPKwMMQD12OtrKPZBG3T\n",
       "+859czPRoyMbUi2LU8OnLM6w7W2995QeKCvZqQkAeOjHUJyqCiZqf0f5BYrMPBwBVs2vQI/0fiBj\n",
       "qspIF7w0g8p7YkjMK7773iCod/Lth6fKxd5k0am1Sr/SNLcy6Jj+/sWnh2Hn10MiYr/aV6T9/3u/\n",
       "FaqrFg99m+l94djcj3UDS85YvFxGvBiHkP/EU3d6Uekq3O+mPhWUcze5tc1aHgoy8eJ6szS3En0W\n",
       "iwo+x4aBVJ6FIwN1QO3u8d03neWMzpmjBS1wdvfJwqiAQvGHCsZwYR5PUx1dBKedWZkG0QBuHZrS\n",
       "nkm1ic678hI4bkDtiioZU6zhzN2NsZdttVL2B9jwj70/Plk99UY8LE25MXGPROUXgY8kpJjW4VXn\n",
       "VZf6YlipXjyaF85lZUAgIpucKoPE1cgC0XgXHJdNTleWhGE84hR8RXtFiblCxGoMoOSClNU6jVKh\n",
       "iwesF/zVK+/vrzDdiotFa9Jn9i8Wr90l/CRJVYdeKt6LWDkJjZ/IAgs02KggZfQwg1Rh13TnDRWj\n",
       "FlZZnwDVtPPLUiv2+XIUf5BkNDKh1YJLA380sUJqHAvLhK5M8IoXFvrWJhUPhvfWGuqDF3f0lPdD\n",
       "mbOUJsZY7/V/QN8wlg77DkJgR3OiGxz0g9KasV9OPqb/zZWgv0c8tSFSdMr1hzQY6UQWQShasHon\n",
       "ruK+JoNCRiCBtrP12bCbmUDAPPJIZgjEK4RSi/68zJgAAAZTAZ9xakEfACeksRgA0b6Vgcff40Lb\n",
       "D1py38ZAAd7dFpMyzypHuB+sXSwq/PB5NELsUIOftFa69lSzwD0v5PhtKVWJNSL9wGm6izmhue4P\n",
       "TMe/avxClkPFWBbHOS5j82Rg/xQdyEK//QRtE6LBXlcjMNy2Oiq2FEw5+RErNiwJND0xgzUkt3MZ\n",
       "PCgPdkr7ylnPbuwqET6CqBLBhvD4ECPr4PU4GdywvHRBO9l5w10OgBJg6FKznP2T3HIu9/f5bBIf\n",
       "BO3YUYNWV+fqNB5v9oZCS/5n2oE8uXsaUy9d9OAr1r1pv7kitrGjnRa5kgjMJNIXceXp8WV0C0CR\n",
       "RVlciauighp+7Q5s2/tfEiCPSmv9JfLgd5NybkoyrdLWLARIejMeDCyl0ThDGZmKJfxAqHrxUo7t\n",
       "5fKxSzgfonTB+STkgT3pmTXBTLCh4OSD2DAowuf+KrLu91EaomEYj6koFkyhWDsAeEzMHPTyWNl+\n",
       "AB4bzdlERHMHdgqUIj39rE7O/fLV2P7C/Q8NmhivI3J3MhUopipwGr6gw3zfYzUzm+OHvWQLKInL\n",
       "38XIYhm9JG1UTnGH6qOGc7yQscbm1BRVJPQA8tHwVWkCxtdDByJbYe3DQziX3caZnQLu4LZjMyGj\n",
       "SQE/mksHSiO8tNrxTgN1X0hQcAIyYiVYC9w99FeyRafdkBasjZP6djvGNvIbasJRcHhTAhjvbESO\n",
       "ArlWg2o5IGZHkNry4nIhz42Ur7EVSxNWImM7nu+dC4uBZRDBbjRVwro2ExzYae0Ir+BnTJDY9Tdj\n",
       "7nu54totqGLX6cC351N9380Gi3/AqDcer1gkFugOTGUpFC1Z1HOki3oG2NCacr7UtYNdJsBFXd09\n",
       "AMb+U4+mDkC2t92zCYJjRfUjMyb9Uq61jMQ3P5pOTUVFvMt87ttiNGzHV9aVAI4p606v/Ii9e7e+\n",
       "OwLD3KKSCpeRlGkGV5Xp+RleLjEpZuHNNQ+2Ihf15HDHEzt0mUVadKU0dDGLj93iwiqMYEQdJ2cS\n",
       "LQmtSR6WnMJa1bWbNfE3nJmfyIpPvIc5b/wOcLJgJbV5CP+W/6S6nBwZ1Lwngs07EAz660dBNOB2\n",
       "AlGhYn2iQwzmmx/4EN+BX5TBMxCGaxFnP68iDaGAfaPcJ+E4tazhIdVIbKtfcOTTcL0vfN3NdG6s\n",
       "l5aXea75eS6YIhcdD7P0JbV7o1xjTfwQtCcjYKYJVyJeKXQtP0g94H2EAT/wauqfmo1u2Vczma7n\n",
       "/1yfEK9cHnNag7heaNR3VWEZ0g7Hbp1f9XR3/6JUpAmppGdHZ8943gtREdEJvsln1/Wibkjwgq4x\n",
       "Tvc9q9Zr5LuWDR4xfvlUyzqhCm8TNALHEt9b84Tzn/wK0zNvndqe0OvOEsfe1g6eWmeiUAxZRYHz\n",
       "ha85RyvS8GfvJg75w6jfvkgDnP1Tw9BG+f6Bb389vvnDtM9JLz3bCKNLTUon8WJp6NKPO4JkGDQs\n",
       "A7ZjilXQG/HE1554ejBhM9/ICEO5enyDTBHNODwCJrcQfLe5IIv+lR9qV6nEDPo0TQ6Wlme+X27/\n",
       "qiECO46H/z52W6eOoqUTyTpJb0LVJE3BpptJ7YjkAnQXbwftNve88mWRdyBAPgA4jjHIBTwY27a6\n",
       "6JMvd4pyOZaL/M6nC0Hdz/fnRGduHT6bjfrW55dPn9pimIMFZWnuTx7HOZq4iZWqHFo0Y51AobiU\n",
       "k+2aIhLxM4vHU2oYO7hus71km7Wnlju2xDTcISyBkN/Nue/ku0lMZOFD+on3HCse5dwaWQTjHAXS\n",
       "krrFGldE2Ga4g6vx+FH0gfMNTzFztpuEucOS+KAR6iyVF5JeqvuvsqV7Ku0tQkcKfVawNqdvnDiK\n",
       "O8ZK752vMQk05KV8hAVPb7weVq28VyXPBmwuvLhMlojqfWqB9QyLAb6487rETxXhdtqoT6dHX7Vu\n",
       "qjuWFt23Z6dRSqsMLghfknuarlRg/vtypk7RVHNmQ0c7o+mQGnP3e6q0aSfLy4Qg2H41Hd07EPQz\n",
       "GE1zmCQYHJ5NYisG5zkZC7nR3YRO8Ejpo4+9fT6EKY9PoR8GY70JBE7kbWBhhGYm4SKKsd6mqQVb\n",
       "9Ah9NwcFHm280Z48BJjePfy3muJA5gwfKF1UKzxnFONycoExQ5Vhptuv5JKKV8YNljvJ9hHw8OJP\n",
       "9Q0AAAgmQZtzSahBbJlMCCP//rUqgOOGpwA/P/UgAOzNVUBoqNCPCtRym/+nmN0p65Xpt199g8Gz\n",
       "bX89/Asf4MEIgvrY+dVAbZJa5UZsh1OIwCRr5gVckpgr+ud0TlBnfRHaxQoa/sksCS+k6J5ryFiv\n",
       "X1S+qeMzAzbOSy6pwJcLCavr12apW9pA0dbocjLjeNxPfC0B7CJfS0ZnKNTxONEF4RoCSNTN7hvP\n",
       "Up+qOs/FNF1+NlSsz935ZUERSo9tiDy1P+4bjCmb3zBVdf3953FlgXhqjKU1p2svr35QQGgQ6e7Z\n",
       "WZTtGB0VPf4CPgafswSo7ftJu0luVSxiJSouft7XkpOoQ2iQMNq1Rr+l3ljksgrfBlcQd0UUPwoh\n",
       "ynm7Nu73LtOGeFZGayetHU2LkpLmfbKUxZZy//7U5SexBrEf81BBKfinENJtjsUALAyQprqhyRRb\n",
       "DtnpUb+Rk4I0L0Nk2HTclANDyes73ym4b2t/ysUMGusrWLrBzfNJGJQBlE60YOTNM6tD52cIgnjY\n",
       "GH1IPqdD/CivTEsCAajfTCdV09EDu9DS6kMd+obwN8mGxRZM7R+Mvxun7uUZrYKPoZu7Be5/vsEz\n",
       "0qTxIUwHCutI4mI49Bt4x9KVqWVDvk3QlDKurfocIfA92NYPDzAAz2CjAjehhhF6efd0NiiznY89\n",
       "yW8BapkIKuL15gCSEaWkMNe0/Sv+cV8Fq1Zqp9p2iOtflgz+ijIyJ4SfXT6rkaL77CbeR8VDt2SM\n",
       "3QZTV9UWTK8CCXXhHUFPSB5J07F0gHQoq3W9PRZQnpLT9j3pfmSKWJJzAqnmjH791LuQkyOFLGqw\n",
       "fx4NlQI/b1htScTig3hJ1ycE35P0nRg4FaZYigEhjlRBcy/jQMKXhjSqQNpZcqa74+ReDoJVTgUb\n",
       "kxQodt0LYExSJmZ+JPvSiX4k8KRh3IsqKConeVk5Oh4Gmh7/j8ypdPlW8CboMK79rIdd+0dH6cUA\n",
       "pHtxT4NIrOJ9K9usfnJOp5S+6OBU8oHsk2KGnpG7jy5IEa0LpeEmvpZGKRpAgQ8Qhf/Rrq2wREEM\n",
       "qR9KAoUd7+AK3oPJz+J2QSXnDJ1/d2Vh6vWWaXDUNrI/XGQhyXLx5EHAe/w0mQGgS8tkXroVl/9V\n",
       "ex4HjZpL6ygfj46zKKmYIGOLWtNOfORgrV/vp+7yYjHNLlFoerauF91EEyf1IKFPhK0RJ2yYMY/l\n",
       "wCQ4I1c5hyjvoGqpUZ2Hb269XocoVGag9mTZM7+tAVLT0LDowcesWnACP17gCQ87QM7fK2/AavXb\n",
       "/GQYkoo1dSACioX7qQHlE/RvvlaIGOGpwvOJd2kCMZ4rcpI8FRGNvo/RDoX2G+3YV1HvlyQ0v9pH\n",
       "GEKxVVzh7TKS9yJdornvc8Kk+iM5FLgT+bl2m1YUlej7kJuUsLTnd/uLMxzdtO0ixSET3raYQ2Rh\n",
       "n3qW9VCfCylnxS+C62SVq8dCN4xgpPvVrE5G6Zxl+JDG3fOa4wZ8riAbJT58rFbX6ofsizdweEmC\n",
       "IPxAqD9WEq0RX3tSN31UTtDjCJJ7lSR5PB4VO1Hk4Yic7LGJUMOoE9I/suN3QwSrj///GAxtpkQP\n",
       "6I17zzwb+Qoe/u9xJktnZ5aPGXiXlE4b4fZMaZ+BYf5aImlw6NrgosHQ7XPc7rxgPaReqN0cUF4j\n",
       "NRJ8BcZ/p+1z5jj11q07DkSIrN7TPb9/mK+E5oodFtzkLRIifwdkZRkcGBIyoucbqo3HN80DY714\n",
       "TXvufnRrOF3SN7U8g8vTtv5MWxIXY34Cw/fD0TPq27oii2DGGd0rqxMCYrQWmQIAzWoASjFrnCkT\n",
       "++HMEo02xRtTGm7YaRtufFMcLJ6aMaw9nwGXdoI77XTq3RAkJHyoAy9K1diIE8Ccmdr/Ccjh9i/J\n",
       "kRYEAUIo6kEM79id1tqiYV4msi4yav5zNJKnN652UoO/NsVMer+sznaETaXPG+9Iz6gfkgsO8yyq\n",
       "ojzaK7rYjwI1YN8nRdzcSzRn/GD+Q5HM+DNW5IKPxwL4v72lrFl/aD/MXxd6JuATmNDsP7vd6p28\n",
       "R/oQ/6533E/0l6aP0jOXrnaTUeNx853X0lU+wM5BeRMn8cdtckz5vYp7CHFgXYXLi9GTzt+EQRGq\n",
       "NNeO0fn3uMn3tCukrj6ckkaCucYK265/XwgOVjJaok8m3feiI+BMCLZcl/iWSRLYMdgQn1EMeogx\n",
       "z8Mw+k8B4EaO2QUuCDkU5TCAQ7GIc0MnMHAh8GtPXxEJEfOhf099gkb+bTRcdiSwHzYVGgSmCrcV\n",
       "w4HU+jswvi7kygu3oqH+lYwmM3MN9zha8g9JNLJf3fgpZ30MeZkQ7fTHuzrQZwUKwY4DQ7rFS6he\n",
       "Yv+Z1X7AuoUU/qITG5p/qNOScUSdmmY+axaenRdeiQjEukQQ55Q5iK+ssbITMuyAFCd/Xxn5bg3K\n",
       "4SMSrjLe6n/W955TUjFQb8TWwOKUCocMuY1YqG+PVfACI5mBBrGVWsn3wY70babLF0TAo9+fdMfV\n",
       "rMbHyGIARzR7kvZIZBeUFe+4habZWaoKzzqauMAgRHMYh/A6lpKP0rAAEA+3d79HZ7Wn7PvTrzoM\n",
       "soR6j+D/e+6KOAKpGdFm/+5AwD+WJKABnF/f05qItz+3XFPOqBTp8wexHBJfejze/xRAtr+nVF3z\n",
       "mk01FPhEloafTK9z9EIfRxCDwfdRSFr3F+n1Mhb8Ew4Sbs6HjlZXUIkPrKA1/cWxaYdWKSWgA2qb\n",
       "abCApMPRdtAPGiLJj3Y25/Wp4SLvGVe7dgwqT2UudmM7SeBZAdwguAAABA5tb292AAAAbG12aGQA\n",
       "AAAAAAAAAAAAAAAAAAPoAAAXcAABAAABAAAAAAAAAAAAAAAAAQAAAAAAAAAAAAAAAAAAAAEAAAAA\n",
       "AAAAAAAAAAAAAEAAAAAAAAAAAAAAAAAAAAAAAAAAAAAAAAAAAAAAAAACAAADOHRyYWsAAABcdGto\n",
       "ZAAAAAMAAAAAAAAAAAAAAAEAAAAAAAAXcAAAAAAAAAAAAAAAAAAAAAAAAQAAAAAAAAAAAAAAAAAA\n",
       "AAEAAAAAAAAAAAAAAAAAAEAAAAABsAAAASAAAAAAACRlZHRzAAAAHGVsc3QAAAAAAAAAAQAAF3AA\n",
       "ABgAAAEAAAAAArBtZGlhAAAAIG1kaGQAAAAAAAAAAAAAAAAAACgAAADwAFXEAAAAAAAtaGRscgAA\n",
       "AAAAAAAAdmlkZQAAAAAAAAAAAAAAAFZpZGVvSGFuZGxlcgAAAAJbbWluZgAAABR2bWhkAAAAAQAA\n",
       "AAAAAAAAAAAAJGRpbmYAAAAcZHJlZgAAAAAAAAABAAAADHVybCAAAAABAAACG3N0YmwAAACzc3Rz\n",
       "ZAAAAAAAAAABAAAAo2F2YzEAAAAAAAAAAQAAAAAAAAAAAAAAAAAAAAABsAEgAEgAAABIAAAAAAAA\n",
       "AAEAAAAAAAAAAAAAAAAAAAAAAAAAAAAAAAAAAAAAAAAAAAAY//8AAAAxYXZjQwFkABX/4QAYZ2QA\n",
       "FazZQbCWhAAAAwAMAAADAFA8WLZYAQAGaOvjyyLAAAAAHHV1aWRraEDyXyRPxbo5pRvPAyPzAAAA\n",
       "AAAAABhzdHRzAAAAAAAAAAEAAAAUAAAMAAAAABRzdHNzAAAAAAAAAAEAAAABAAAAoGN0dHMAAAAA\n",
       "AAAAEgAAAAEAABgAAAAAAQAAMAAAAAACAAAMAAAAAAEAADwAAAAAAQAAGAAAAAABAAAAAAAAAAEA\n",
       "AAwAAAAAAQAAPAAAAAABAAAYAAAAAAEAAAAAAAAAAQAADAAAAAABAAA8AAAAAAEAABgAAAAAAQAA\n",
       "AAAAAAABAAAMAAAAAAEAADAAAAAAAgAADAAAAAABAAAYAAAAABxzdHNjAAAAAAAAAAEAAAABAAAA\n",
       "FAAAAAEAAABkc3RzegAAAAAAAAAAAAAAFAAAIOMAAA4fAAAIMAAABuoAAArKAAAK3gAABlkAAAYw\n",
       "AAAKswAACCYAAAgJAAAGvwAACk0AAAamAAAGFgAABj8AAAr7AAAG/wAABlcAAAgqAAAAFHN0Y28A\n",
       "AAAAAAAAAQAAACwAAABidWR0YQAAAFptZXRhAAAAAAAAACFoZGxyAAAAAAAAAABtZGlyYXBwbAAA\n",
       "AAAAAAAAAAAAAC1pbHN0AAAAJal0b28AAAAdZGF0YQAAAAEAAAAATGF2ZjU4LjI5LjEwMA==\n",
       "\">\n",
       "  Your browser does not support the video tag.\n",
       "</video>"
      ],
      "text/plain": [
       "<matplotlib.animation.FuncAnimation at 0x1c6a78f9810>"
      ]
     },
     "execution_count": 25,
     "metadata": {},
     "output_type": "execute_result"
    }
   ],
   "source": [
    "anim"
   ]
  },
  {
   "cell_type": "code",
   "execution_count": null,
   "metadata": {},
   "outputs": [],
   "source": []
  },
  {
   "cell_type": "code",
   "execution_count": null,
   "metadata": {},
   "outputs": [],
   "source": []
  },
  {
   "cell_type": "code",
   "execution_count": null,
   "metadata": {},
   "outputs": [],
   "source": []
  }
 ],
 "metadata": {
  "kernelspec": {
   "display_name": "Python 3 (ipykernel)",
   "language": "python",
   "name": "python3"
  },
  "language_info": {
   "codemirror_mode": {
    "name": "ipython",
    "version": 3
   },
   "file_extension": ".py",
   "mimetype": "text/x-python",
   "name": "python",
   "nbconvert_exporter": "python",
   "pygments_lexer": "ipython3",
   "version": "3.10.4"
  },
  "toc": {
   "base_numbering": 1,
   "nav_menu": {},
   "number_sections": true,
   "sideBar": true,
   "skip_h1_title": false,
   "title_cell": "Table of Contents",
   "title_sidebar": "Contents",
   "toc_cell": false,
   "toc_position": {},
   "toc_section_display": true,
   "toc_window_display": false
  }
 },
 "nbformat": 4,
 "nbformat_minor": 4
}
