{
 "cells": [
  {
   "cell_type": "code",
   "execution_count": 1,
   "id": "c2e528e0",
   "metadata": {},
   "outputs": [
    {
     "data": {
      "text/plain": [
       "('2021.12.06', '1.11.0+cpu')"
      ]
     },
     "execution_count": 1,
     "metadata": {},
     "output_type": "execute_result"
    }
   ],
   "source": [
    "import numpy as np \n",
    "import matplotlib.pyplot as plt \n",
    "import  nangs \n",
    "import  torch\n",
    "#import cv2\n",
    "import io\n",
    "\n",
    "device = \"cuda\" if torch.cuda.is_available() else \"cpu\"\n",
    "\n",
    "nangs.__version__, torch.__version__"
   ]
  },
  {
   "cell_type": "code",
   "execution_count": 2,
   "id": "59d4d7c6",
   "metadata": {},
   "outputs": [],
   "source": [
    "%reload_ext autoreload\n",
    "%autoreload 2\n",
    "%matplotlib inline"
   ]
  },
  {
   "cell_type": "code",
   "execution_count": 3,
   "id": "fcf8c95c",
   "metadata": {},
   "outputs": [],
   "source": [
    "from nangs import PDE\n",
    "import math\n",
    "\n",
    "K=50\n",
    "\n",
    "class PeronaMalik(PDE):\n",
    "    def computePDELoss(self, inputs, outputs):\n",
    "                \n",
    "        # compute gradients\n",
    "        \n",
    "        # compute first-order derivatives\n",
    "        grads = self.computeGrads(outputs, inputs)\n",
    "        dpdx, dpdy, dpdt = grads[:, 0], grads[:, 1], grads[:, 2]\n",
    "        \n",
    "        # compute second-order derivatives\n",
    "        dp2dx2 = self.computeGrads(dpdx, inputs)[:, 0]        \n",
    "        dp2dy2 = self.computeGrads(dpdy, inputs)[:, 1]\n",
    "        #dudas\n",
    "        dp2dpxdpy=self.computeGrads(dpdx, inputs)[:, 1]\n",
    "        dp2dpydpx=self.computeGrads(dpdy, inputs)[:, 0]\n",
    "        \n",
    "        \n",
    "        # compute loss\n",
    "        #dpdx, dpdy, dpdt = grads[:, 0], grads[:, 1], grads[:, 2]\n",
    "        return {'pde': dpdx*(-2/K**2)*torch.exp(-(    torch.pow(dpdx,2)+torch.pow(dpdy,2))/K**2)  *((dpdx*dp2dx2)+(dpdy*dp2dpydpx))\n",
    "                      -dpdy*(-2/K**2)*torch.exp(-(    torch.pow(dpdx,2)+torch.pow(dpdy,2))/K**2)  *((dpdx*dp2dpxdpy)+(dpdy*dp2dy2))\n",
    "               +torch.exp(  -(    torch.pow(dpdx,2)+torch.pow(dpdy,2))/K**2) * ( dp2dx2+dp2dy2 )-dpdt}\n",
    "    \n",
    "pde = PeronaMalik(inputs=('x', 'y', 't'), outputs='p')"
   ]
  },
  {
   "cell_type": "code",
   "execution_count": 4,
   "id": "c22e3d91",
   "metadata": {},
   "outputs": [],
   "source": [
    "import torch\n",
    "import random\n",
    "\n",
    "\n",
    "class BaseSampler():\n",
    "    def __init__(self, data, n_samples=1, device=\"cpu\"):\n",
    "        assert isinstance(data, dict), \"you must pass a dict with your data\"\n",
    "        self.device = device\n",
    "        self.data = data\n",
    "        self.vars = tuple(data.keys())\n",
    "        self.n_samples = n_samples\n",
    "\n",
    "    def _sample(self, n_samples=None):\n",
    "        n_samples = n_samples or self.n_samples\n",
    "        sample = self.sample(n_samples)\n",
    "        return torch.stack([\n",
    "            sample[var]\n",
    "            for var in self.vars\n",
    "        ], axis=-1)\n",
    "\n",
    "    def sample(self, n_samples=None):\n",
    "        raise ValueError(\"you must implement this method\")\n",
    "    \n",
    "    \n",
    "\n",
    "\n",
    "\n",
    "class Perona_Sampler(BaseSampler):\n",
    "    def __init__(self, data, n_samples=1, device=\"cpu\"):\n",
    "        super().__init__(data, n_samples, device)\n",
    "        for var, lims in data.items():\n",
    "            if isinstance(lims, list):\n",
    "                assert len(\n",
    "                    lims) == 2, \"you must pass a list with the min and max limits\"\n",
    "            elif isinstance(lims, int) or isinstance(lims, float):\n",
    "                data[var] = [lims, lims]\n",
    "            else:\n",
    "                raise ValueError(\"invalid limits\")\n",
    "\n",
    "    def sample(self, n_samples=None):\n",
    "        n_samples = n_samples or self.n_samples\n",
    "        a={\n",
    "            \n",
    "            var: torch.rand(n_samples, device=self.device) *\n",
    "            (lims[1] - lims[0]) + lims[0]\n",
    "            for var, lims in self.data.items()\n",
    "        }\n",
    "        i=0\n",
    "        b_list=[]\n",
    "        for item in range(n_samples):\n",
    "            b=random.uniform(0,1)\n",
    "            if i<n_samples/5:\n",
    "                b_list.append(0)\n",
    "            else:\n",
    "                b_list.append(b)\n",
    "            i+=1\n",
    "            #print(i,b)\n",
    "            \n",
    "        \n",
    "        b_tensor=torch.tensor(b_list,device=self.device)\n",
    "        #for i in b_tensor:\n",
    "        #    b_tensor[i]=b\n",
    "        result={'x':a['x'],'y':a['y'],'t':b_tensor}  \n",
    "        #print(result)\n",
    "        return result\n"
   ]
  },
  {
   "cell_type": "code",
   "execution_count": 5,
   "id": "4c35716a",
   "metadata": {},
   "outputs": [
    {
     "name": "stdout",
     "output_type": "stream",
     "text": [
      "a\n"
     ]
    }
   ],
   "source": [
    "n_samples = 200000\n",
    "print(\"a\")"
   ]
  },
  {
   "cell_type": "code",
   "execution_count": 6,
   "id": "44cfe7e4",
   "metadata": {},
   "outputs": [
    {
     "name": "stdout",
     "output_type": "stream",
     "text": [
      "a\n"
     ]
    }
   ],
   "source": [
    "# define the sampler\n",
    "\n",
    "from nangs import RandomSampler\n",
    "\n",
    "sampler = RandomSampler({\n",
    "    'x': [0., 200.], \n",
    "    'y': [0., 200.],\n",
    "    't': [0., 200.], \n",
    "}, device=device, n_samples=1000)\n",
    "\n",
    "pde.set_sampler(sampler)\n",
    "print(\"a\")"
   ]
  },
  {
   "cell_type": "code",
   "execution_count": 7,
   "id": "a50aeaa1",
   "metadata": {},
   "outputs": [],
   "source": [
    "\n",
    "\n",
    "def initial_condition_Adr(x,y):\n",
    "    res = torch.zeros(len(x))\n",
    "    for i in range(len(x)):\n",
    "        if len(x) == 1:\n",
    "            res[i] = initial_img[int(x.item()),int(y.item())]\n",
    "        else:\n",
    "            res[i]=(initial_img [int(x[i]),int(y[i])])\n",
    "        #print(res)\n",
    "    #print(\"hey\")\n",
    "    #print(res)        \n",
    "    return res"
   ]
  },
  {
   "cell_type": "code",
   "execution_count": 8,
   "id": "2b8fb98d",
   "metadata": {},
   "outputs": [],
   "source": [
    "def cero_f(x,y):\n",
    "    res = torch.zeros(len(x))\n",
    "    for i in range(0,len(x)):\n",
    "        res[i]=0\n",
    "    return res"
   ]
  },
  {
   "cell_type": "code",
   "execution_count": 9,
   "id": "5c4e303e",
   "metadata": {},
   "outputs": [],
   "source": [
    "def cero_f(n_samples):\n",
    "    return torch.zeros(n_samples)"
   ]
  },
  {
   "cell_type": "code",
   "execution_count": 10,
   "id": "ef458e66",
   "metadata": {},
   "outputs": [],
   "source": [
    "def f_circle(x,y):\n",
    "    z = (x - 100)**2 + (y - 100)**2\n",
    "    for i in range(0,len(z)):\n",
    "        if z[i] <= 800:\n",
    "            z[i] = 30\n",
    "        else: z[i] = 200\n",
    "\n",
    "    return z"
   ]
  },
  {
   "cell_type": "code",
   "execution_count": 11,
   "id": "f9a6f167",
   "metadata": {},
   "outputs": [],
   "source": [
    "def cart_prod(*args):\n",
    "    grids =np.meshgrid(*args,indexing='ij')\n",
    "    return np.stack(grids,axis=-1).reshape(-1,len(args))"
   ]
  },
  {
   "cell_type": "code",
   "execution_count": 12,
   "id": "ebf261bf",
   "metadata": {},
   "outputs": [
    {
     "data": {
      "text/plain": [
       "<matplotlib.image.AxesImage at 0x10af5ea4940>"
      ]
     },
     "execution_count": 12,
     "metadata": {},
     "output_type": "execute_result"
    },
    {
     "data": {
      "image/png": "[encoded data removed]",
      "text/plain": [
       "<Figure size 432x288 with 1 Axes>"
      ]
     },
     "metadata": {
      "needs_background": "light"
     },
     "output_type": "display_data"
    }
   ],
   "source": [
    "x = np.linspace(0,199,200)\n",
    "\n",
    "grid=cart_prod(x,x)\n",
    "\n",
    "\n",
    "xs, ys= grid[:, 0:1], grid[:,1:2]\n",
    "ini_circle=f_circle(xs,ys).reshape(200,200)\n",
    "\n",
    "plt.imshow(ini_circle)\n"
   ]
  },
  {
   "cell_type": "code",
   "execution_count": 13,
   "id": "c4c8fe89",
   "metadata": {},
   "outputs": [
    {
     "name": "stdout",
     "output_type": "stream",
     "text": [
      "a\n"
     ]
    }
   ],
   "source": [
    "from nangs import Dirichlet\n",
    "\n",
    "\n",
    "\n",
    "foto = Dirichlet(\n",
    "    Perona_Sampler({'x': [0., 200.], 'y': [0., 200.],'t':0}, device=device, n_samples=n_samples), \n",
    "     lambda inputs: {'p' :f_circle(inputs['x'],inputs['y'])},\n",
    "    name=\"foto\"\n",
    ")\n",
    "#print(temp)\n",
    "                           \n",
    "pde.add_boco(foto)\n",
    "print(\"a\")"
   ]
  },
  {
   "cell_type": "code",
   "execution_count": 14,
   "id": "161f6988",
   "metadata": {},
   "outputs": [],
   "source": [
    "import torch\n",
    "\n",
    "\n",
    "class Sine(torch.nn.Module):\n",
    "    def __init__(self):\n",
    "        super().__init__()\n",
    "\n",
    "    def forward(self, x):\n",
    "        return torch.sin(x)\n",
    "\n",
    "\n",
    "def block(i, o):\n",
    "    fc = torch.nn.Linear(i, o)\n",
    "    return torch.nn.Sequential(\n",
    "        Sine(),\n",
    "        torch.nn.Linear(i, o)\n",
    "    )\n",
    "\n",
    "\n",
    "class MLP(torch.nn.Module):\n",
    "    def __init__(self, inputs, outputs, layers, neurons):\n",
    "        super().__init__()\n",
    "        \n",
    "        fc_in = torch.nn.Linear(inputs, neurons)\n",
    "        fc_hidden = [\n",
    "            block(neurons, neurons)\n",
    "            for layer in range(layers-1)\n",
    "        ]\n",
    "        fc_out = block(neurons, outputs)\n",
    "\n",
    "        self.mlp = torch.nn.Sequential(\n",
    "            fc_in,\n",
    "            *fc_hidden,\n",
    "            fc_out\n",
    "        )\n",
    "\n",
    "    def forward(self, x):\n",
    "        return self.mlp(x)\n",
    "    \n",
    "    #def anzatc(self, u, xs):\n",
    "    #    \"\"\" Anzatc-transformation of the model-output needed for binding initial and boundary conditions. \"\"\"\n",
    "    #    # Get tensor of spatial variables and time-tensor.\n",
    "    #    xs_spatial = xs[:, :self.ndims_spatial]\n",
    "    #    t = xs[:, self.ndims - 1:self.ndims]\n",
    "    #    lower, upper = [lims[0] for lims in self.domain], [lims[1] for lims in self.domain]\n",
    "    #    lower_spatial, upper_spatial = [torch.Tensor(lst[:self.ndims_spatial]).reshape(1, -1).float()\n",
    "    #                                    for lst in (lower, upper)]\n",
    "    #    t0 = lower[-1]\n",
    "\n",
    "        # Apply transformation to bind the boundary condition.\n",
    "    #    if self.boundary_condition is not None:\n",
    "    #        u = (u * (torch.prod((xs_spatial - lower_spatial) / (upper_spatial - lower_spatial), dim=1, keepdim=True) *\n",
    "    #                  torch.prod((upper_spatial - xs_spatial) / (upper_spatial - lower_spatial), dim=1, keepdim=True))\n",
    "    #                 + self.boundary_condition)\n",
    "\n",
    "        # Apply transformation to bind the initial condition.\n",
    "    #    if self.initial_condition is not None:\n",
    "    #        _xs_spatial = [xs_spatial[:, i] for i in range(xs_spatial.shape[1])]\n",
    "    #        u = ((nn.Sigmoid()((t - t0) / torch.exp(self.log_scale)) - .5) * u\n",
    "    #             + self.initial_condition(*_xs_spatial).view(-1, 1))\n",
    "    #    return u"
   ]
  },
  {
   "cell_type": "code",
   "execution_count": 15,
   "id": "8424e09a",
   "metadata": {},
   "outputs": [
    {
     "name": "stdout",
     "output_type": "stream",
     "text": [
      "3\n",
      "1\n",
      "x\n",
      "y\n",
      "t\n",
      "p\n"
     ]
    },
    {
     "name": "stderr",
     "output_type": "stream",
     "text": [
      "{'pde': 7.35445, 'foto': 24.21851}: 100%|██████████████████████████████████████████| 800/800 [2:04:10<00:00,  9.31s/it]\n"
     ]
    },
    {
     "name": "stdout",
     "output_type": "stream",
     "text": [
      "Wall time: 2h 4min 10s\n"
     ]
    }
   ],
   "source": [
    "# solve\n",
    "\n",
    "#from nangs import MLP\n",
    "\n",
    "LR = 1e-2\n",
    "N_STEPS = 800\n",
    "NUM_LAYERS = 3\n",
    "NUM_HIDDEN = 128\n",
    "print(len(pde.inputs))\n",
    "print(len(pde.outputs))\n",
    "\n",
    "for item in pde.inputs:\n",
    "    print(item)\n",
    "for item in pde.outputs:\n",
    "    print(item)\n",
    "    \n",
    "    \n",
    "mlp = MLP(len(pde.inputs), len(pde.outputs), NUM_LAYERS, NUM_HIDDEN).to(device)\n",
    "optimizer = torch.optim.Adam(mlp.parameters())\n",
    "scheduler = torch.optim.lr_scheduler.OneCycleLR(optimizer, max_lr=LR, pct_start=0.1, div_factor=10, final_div_factor=1, total_steps=N_STEPS)\n",
    "\n",
    "pde.compile(mlp, optimizer, scheduler)\n",
    "%time hist = pde.solve(N_STEPS)"
   ]
  },
  {
   "cell_type": "code",
   "execution_count": 16,
   "id": "623fb797",
   "metadata": {},
   "outputs": [
    {
     "data": {
      "text/plain": [
       "<AxesSubplot:>"
      ]
     },
     "execution_count": 16,
     "metadata": {},
     "output_type": "execute_result"
    },
    {
     "data": {
      "image/png": "[encoded data removed]",
      "text/plain": [
       "<Figure size 600x400 with 1 Axes>"
      ]
     },
     "metadata": {
      "needs_background": "light"
     },
     "output_type": "display_data"
    }
   ],
   "source": [
    "import pandas as pd \n",
    "\n",
    "df = pd.DataFrame(hist)\n",
    "fig = plt.figure(dpi=100)\n",
    "ax = plt.subplot(1,1,1)\n",
    "ax.set_yscale('log')\n",
    "df.plot(ax=ax, grid=True)"
   ]
  },
  {
   "cell_type": "code",
   "execution_count": 17,
   "id": "7fe0d806",
   "metadata": {},
   "outputs": [
    {
     "name": "stdout",
     "output_type": "stream",
     "text": [
      "(200, 200)\n",
      "float64\n"
     ]
    },
    {
     "data": {
      "text/plain": [
       "<matplotlib.image.AxesImage at 0x10a815765c0>"
      ]
     },
     "execution_count": 17,
     "metadata": {},
     "output_type": "execute_result"
    },
    {
     "data": {
      "image/png": "[encoded data removed]",
      "text/plain": [
       "<Figure size 432x288 with 1 Axes>"
      ]
     },
     "metadata": {
      "needs_background": "light"
     },
     "output_type": "display_data"
    }
   ],
   "source": [
    "print(ini_circle.shape)\n",
    "print(ini_circle.dtype)\n",
    "plt.imshow(ini_circle)\n"
   ]
  },
  {
   "cell_type": "code",
   "execution_count": 18,
   "id": "018b717e",
   "metadata": {},
   "outputs": [
    {
     "name": "stdout",
     "output_type": "stream",
     "text": [
      "torch.Size([40000, 1])\n",
      "torch.float32\n"
     ]
    }
   ],
   "source": [
    "x = np.linspace(0,199,200)\n",
    "y = np.linspace(0,199,200)\n",
    "t=0\n",
    "\n",
    "grid=cart_prod(x,y,t)\n",
    "xs, ys= grid[:, 0:1], grid[:,1:2]\n",
    "\n",
    "X = torch.from_numpy(grid).float().to(device)\n",
    "image_final =  pde.eval(X)\n",
    "\n",
    "xs, ys= grid[:, 0:1], grid[:,1:2]\n",
    "print(image_final.shape)\n",
    "print(image_final.dtype)\n",
    "\n",
    "#plt.imshow(f_circle(xs,ys).reshape(200,200))"
   ]
  },
  {
   "cell_type": "code",
   "execution_count": 19,
   "id": "36dd440a",
   "metadata": {},
   "outputs": [],
   "source": [
    "imashow=image_final.reshape(200,200)"
   ]
  },
  {
   "cell_type": "code",
   "execution_count": 20,
   "id": "b7d222ac",
   "metadata": {},
   "outputs": [],
   "source": [
    "def float_to_int(imashow):\n",
    "    for i in range(len(imashow)):\n",
    "        for j in range (len(imashow)):\n",
    "            imashow[i][j]=int(imashow[i][j])"
   ]
  },
  {
   "cell_type": "code",
   "execution_count": 21,
   "id": "7c1f5f33",
   "metadata": {},
   "outputs": [
    {
     "data": {
      "text/plain": [
       "<matplotlib.image.AxesImage at 0x10a815e3c40>"
      ]
     },
     "execution_count": 21,
     "metadata": {},
     "output_type": "execute_result"
    },
    {
     "data": {
      "image/png": "[encoded data removed]",
      "text/plain": [
       "<Figure size 432x288 with 1 Axes>"
      ]
     },
     "metadata": {
      "needs_background": "light"
     },
     "output_type": "display_data"
    }
   ],
   "source": [
    "#float_to_int(imashow)\n",
    "plt.imshow(imashow)"
   ]
  },
  {
   "cell_type": "code",
   "execution_count": 22,
   "id": "d8e4cb25",
   "metadata": {},
   "outputs": [
    {
     "data": {
      "text/plain": [
       "200"
      ]
     },
     "execution_count": 22,
     "metadata": {},
     "output_type": "execute_result"
    }
   ],
   "source": [
    "for i in range(len(imashow)):\n",
    "    pass\n",
    "len(imashow[0])"
   ]
  },
  {
   "cell_type": "code",
   "execution_count": 23,
   "id": "28d09fd8",
   "metadata": {},
   "outputs": [
    {
     "name": "stdout",
     "output_type": "stream",
     "text": [
      "tensor([[176.8227, 187.5332, 196.9402,  ..., 200.4611, 200.6123, 200.6577],\n",
      "        [185.6263, 194.2854, 199.7412,  ..., 200.3586, 200.5509, 200.6478],\n",
      "        [193.9922, 198.7785, 200.6260,  ..., 200.1122, 200.3172, 200.4921],\n",
      "        ...,\n",
      "        [200.4001, 200.3378, 200.3409,  ..., 200.6272, 200.5680, 199.6936],\n",
      "        [200.6525, 200.6037, 200.5567,  ..., 200.6511, 200.4580, 198.4831],\n",
      "        [200.6600, 200.6696, 200.6461,  ..., 200.5317, 199.7299, 195.6553]])\n"
     ]
    }
   ],
   "source": [
    "print(imashow)"
   ]
  },
  {
   "cell_type": "code",
   "execution_count": 24,
   "id": "43999d9b",
   "metadata": {},
   "outputs": [],
   "source": [
    "def matrix_substract(a,b):\n",
    "    res=np.zeros_like(a)\n",
    "    for i in range(len(a)):\n",
    "        for j in range(len(a[0])):\n",
    "            res[i][j]=abs(abs(a[i][j])-abs(b[i][j]))\n",
    "            \n",
    "    return res"
   ]
  },
  {
   "cell_type": "code",
   "execution_count": 25,
   "id": "1c519376",
   "metadata": {},
   "outputs": [
    {
     "name": "stdout",
     "output_type": "stream",
     "text": [
      "1.2167922798156738\n"
     ]
    }
   ],
   "source": [
    "sub=matrix_substract(ini_circle,imashow)\n",
    "sum=0\n",
    "for i in range(len(sub)):\n",
    "        for j in range(len(sub[0])):\n",
    "            sum+=sub[i][j]\n",
    "print(   sum/  (  len(sub)*len(sub[0])  )   )"
   ]
  },
  {
   "cell_type": "markdown",
   "id": "51e0d622",
   "metadata": {},
   "source": [
    "en este probaremos aumentando los samples"
   ]
  },
  {
   "cell_type": "code",
   "execution_count": null,
   "id": "b4bfd1da",
   "metadata": {},
   "outputs": [],
   "source": []
  }
 ],
 "metadata": {
  "kernelspec": {
   "display_name": "Python 3 (ipykernel)",
   "language": "python",
   "name": "python3"
  },
  "language_info": {
   "codemirror_mode": {
    "name": "ipython",
    "version": 3
   },
   "file_extension": ".py",
   "mimetype": "text/x-python",
   "name": "python",
   "nbconvert_exporter": "python",
   "pygments_lexer": "ipython3",
   "version": "3.10.4"
  }
 },
 "nbformat": 4,
 "nbformat_minor": 5
}
